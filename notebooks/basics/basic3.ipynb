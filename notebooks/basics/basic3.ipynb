{
 "cells": [
  {
   "cell_type": "code",
   "execution_count": 1,
   "id": "ef1f91dd-8161-4af3-b2d3-385f433eb7da",
   "metadata": {},
   "outputs": [
    {
     "name": "stdin",
     "output_type": "stream",
     "text": [
      "Enter number:  62\n"
     ]
    },
    {
     "name": "stdout",
     "output_type": "stream",
     "text": [
      "31469973260387937525653122354950764088012280797258232192163168247821107200000000000000\n"
     ]
    }
   ],
   "source": [
    "def factorial(n):\n",
    "    result = 1\n",
    "    for i in range(2, n+1):\n",
    "        result *= i\n",
    "    return result\n",
    "\n",
    "print(factorial(int(input(\"Enter number: \"))))\n"
   ]
  },
  {
   "cell_type": "code",
   "execution_count": 2,
   "id": "3870d89d-7be8-420b-b831-41bc49bf7ce5",
   "metadata": {},
   "outputs": [
    {
     "name": "stdin",
     "output_type": "stream",
     "text": [
      "Enter n:  5\n"
     ]
    },
    {
     "name": "stdout",
     "output_type": "stream",
     "text": [
      "0 1 1 2 3 "
     ]
    }
   ],
   "source": [
    "def fib(n):\n",
    "    if n <= 1:\n",
    "        return n\n",
    "    return fib(n-1) + fib(n-2)\n",
    "\n",
    "n = int(input(\"Enter n: \"))\n",
    "for i in range(n):\n",
    "    print(fib(i), end=' ')\n"
   ]
  },
  {
   "cell_type": "code",
   "execution_count": 3,
   "id": "148305f7-a26c-4b8a-ade7-e9e6ed074814",
   "metadata": {},
   "outputs": [
    {
     "name": "stdin",
     "output_type": "stream",
     "text": [
      "Enter number:  7\n"
     ]
    },
    {
     "name": "stdout",
     "output_type": "stream",
     "text": [
      "Prime\n"
     ]
    }
   ],
   "source": [
    "def is_prime(n):\n",
    "    if n < 2:\n",
    "        return False\n",
    "    for i in range(2, int(n**0.5)+1):\n",
    "        if n % i == 0:\n",
    "            return False\n",
    "    return True\n",
    "\n",
    "print(\"Prime\" if is_prime(int(input(\"Enter number: \"))) else \"Not Prime\")\n"
   ]
  },
  {
   "cell_type": "code",
   "execution_count": 4,
   "id": "870cbc9c-6c00-4016-b514-816b53cc7302",
   "metadata": {},
   "outputs": [
    {
     "name": "stdin",
     "output_type": "stream",
     "text": [
      "Enter a:  2\n",
      "Enter b:  2\n"
     ]
    },
    {
     "name": "stdout",
     "output_type": "stream",
     "text": [
      "GCD: 2\n"
     ]
    }
   ],
   "source": [
    "def gcd(a, b):\n",
    "    return a if b == 0 else gcd(b, a % b)\n",
    "\n",
    "print(\"GCD:\", gcd(int(input(\"Enter a: \")), int(input(\"Enter b: \"))))\n"
   ]
  },
  {
   "cell_type": "code",
   "execution_count": 5,
   "id": "8fc8f83f-c7bf-4862-b67f-f34dfc34e11d",
   "metadata": {},
   "outputs": [
    {
     "name": "stdin",
     "output_type": "stream",
     "text": [
      "Enter number:  32\n"
     ]
    },
    {
     "name": "stdout",
     "output_type": "stream",
     "text": [
      "Sum: 5\n"
     ]
    }
   ],
   "source": [
    "def sum_digits(n):\n",
    "    if n == 0:\n",
    "        return 0\n",
    "    return n % 10 + sum_digits(n // 10)\n",
    "\n",
    "print(\"Sum:\", sum_digits(int(input(\"Enter number: \"))))\n"
   ]
  },
  {
   "cell_type": "code",
   "execution_count": 6,
   "id": "b0dc40b0-49a4-40e8-9ee7-84895dd44615",
   "metadata": {},
   "outputs": [
    {
     "name": "stdin",
     "output_type": "stream",
     "text": [
      "Enter string:  stefina\n"
     ]
    },
    {
     "name": "stdout",
     "output_type": "stream",
     "text": [
      "Reversed: anifets\n"
     ]
    }
   ],
   "source": [
    "def reverse(s):\n",
    "    if len(s) == 0:\n",
    "        return \"\"\n",
    "    return reverse(s[1:]) + s[0]\n",
    "\n",
    "print(\"Reversed:\", reverse(input(\"Enter string: \")))\n"
   ]
  },
  {
   "cell_type": "code",
   "execution_count": 8,
   "id": "ee1faf79-c9da-4bea-bfa1-ad8130cf5895",
   "metadata": {},
   "outputs": [
    {
     "name": "stdin",
     "output_type": "stream",
     "text": [
      "Enter sentence:  nothing is permanent \n"
     ]
    },
    {
     "name": "stdout",
     "output_type": "stream",
     "text": [
      "Word count: 3\n"
     ]
    }
   ],
   "source": [
    "def count_words(sentence):\n",
    "    return len(sentence.split())\n",
    "\n",
    "print(\"Word count:\", count_words(input(\"Enter sentence: \")))\n"
   ]
  },
  {
   "cell_type": "code",
   "execution_count": 10,
   "id": "b5fc2887-d438-4adc-b05e-59b639f0f4f4",
   "metadata": {},
   "outputs": [
    {
     "name": "stdin",
     "output_type": "stream",
     "text": [
      "Enter string:  madam\n"
     ]
    },
    {
     "name": "stdout",
     "output_type": "stream",
     "text": [
      "Palindrome\n"
     ]
    }
   ],
   "source": [
    "def is_palindrome(s):\n",
    "    return s == s[::-1]\n",
    "\n",
    "print(\"Palindrome\" if is_palindrome(input(\"Enter string: \")) else \"Not Palindrome\")\n"
   ]
  },
  {
   "cell_type": "code",
   "execution_count": 11,
   "id": "06ba2801-644c-4a78-8452-f8a39bdf9d39",
   "metadata": {},
   "outputs": [
    {
     "name": "stdin",
     "output_type": "stream",
     "text": [
      "Base:  2\n",
      "Exponent:  3\n"
     ]
    },
    {
     "name": "stdout",
     "output_type": "stream",
     "text": [
      "Power: 8\n"
     ]
    }
   ],
   "source": [
    "def power(base, exp):\n",
    "    if exp == 0:\n",
    "        return 1\n",
    "    return base * power(base, exp - 1)\n",
    "\n",
    "print(\"Power:\", power(int(input(\"Base: \")), int(input(\"Exponent: \"))))\n"
   ]
  },
  {
   "cell_type": "code",
   "execution_count": 13,
   "id": "5bfa0d67-08b0-4506-bf81-d3e53de5e886",
   "metadata": {},
   "outputs": [
    {
     "name": "stdin",
     "output_type": "stream",
     "text": [
      "Enter string:  Stefina E\n"
     ]
    },
    {
     "name": "stdout",
     "output_type": "stream",
     "text": [
      "Uppercase: 2\n",
      "Lowercase: 6\n"
     ]
    }
   ],
   "source": [
    "def count_case(s):\n",
    "    upper = sum(1 for c in s if c.isupper())\n",
    "    lower = sum(1 for c in s if c.islower())\n",
    "    return upper, lower\n",
    "\n",
    "s = input(\"Enter string: \")\n",
    "u, l = count_case(s)\n",
    "print(\"Uppercase:\", u)\n",
    "print(\"Lowercase:\", l)\n"
   ]
  },
  {
   "cell_type": "code",
   "execution_count": 14,
   "id": "2064cf38-d0c4-411e-960f-e871650aa90f",
   "metadata": {},
   "outputs": [
    {
     "name": "stdin",
     "output_type": "stream",
     "text": [
      "Enter number:  7\n"
     ]
    },
    {
     "name": "stdout",
     "output_type": "stream",
     "text": [
      "Armstrong\n"
     ]
    }
   ],
   "source": [
    "def is_armstrong(n):\n",
    "    digits = len(str(n))\n",
    "    return n == sum(int(d)**digits for d in str(n))\n",
    "\n",
    "print(\"Armstrong\" if is_armstrong(int(input(\"Enter number: \"))) else \"Not Armstrong\")\n"
   ]
  },
  {
   "cell_type": "code",
   "execution_count": 15,
   "id": "c0468046-1367-4890-96a1-112821a93617",
   "metadata": {},
   "outputs": [
    {
     "name": "stdout",
     "output_type": "stream",
     "text": [
      "Max: 8\n"
     ]
    }
   ],
   "source": [
    "def maximum(a, b, c):\n",
    "    return max(a, b, c)\n",
    "\n",
    "print(\"Max:\", maximum(3, 8, 5))\n"
   ]
  },
  {
   "cell_type": "code",
   "execution_count": 16,
   "id": "3182864a-3308-44fd-9fe4-9f08f416a76b",
   "metadata": {},
   "outputs": [
    {
     "name": "stdin",
     "output_type": "stream",
     "text": [
      "Enter numbers:  20\n"
     ]
    },
    {
     "name": "stdout",
     "output_type": "stream",
     "text": [
      "Sum: 20\n"
     ]
    }
   ],
   "source": [
    "def sum_list(lst):\n",
    "    return sum(lst)\n",
    "\n",
    "lst = list(map(int, input(\"Enter numbers: \").split()))\n",
    "print(\"Sum:\", sum_list(lst))\n"
   ]
  },
  {
   "cell_type": "code",
   "execution_count": 19,
   "id": "32439f76-d22f-417e-8fb1-b1d47626da59",
   "metadata": {},
   "outputs": [
    {
     "name": "stdin",
     "output_type": "stream",
     "text": [
      "Enter decimal:  3\n"
     ]
    },
    {
     "name": "stdout",
     "output_type": "stream",
     "text": [
      "Binary: 11\n"
     ]
    }
   ],
   "source": [
    "def dec_to_bin(n):\n",
    "    return bin(n)[2:]\n",
    "\n",
    "print(\"Binary:\", dec_to_bin(int(input(\"Enter decimal: \"))))\n"
   ]
  },
  {
   "cell_type": "code",
   "execution_count": 23,
   "id": "6bc75060-edad-4347-b31d-93ed99f7cef5",
   "metadata": {},
   "outputs": [
    {
     "name": "stdin",
     "output_type": "stream",
     "text": [
      "Enter binary:  1010\n"
     ]
    },
    {
     "name": "stdout",
     "output_type": "stream",
     "text": [
      "Decimal: 10\n"
     ]
    }
   ],
   "source": [
    "def bin_to_dec(b):\n",
    "    return int(b, 2)\n",
    "\n",
    "print(\"Decimal:\", bin_to_dec(input(\"Enter binary: \")))\n"
   ]
  },
  {
   "cell_type": "code",
   "execution_count": 24,
   "id": "915cf62f-8df5-40a2-9f4e-05678294d095",
   "metadata": {},
   "outputs": [
    {
     "name": "stdin",
     "output_type": "stream",
     "text": [
      "Enter year:  2024\n"
     ]
    },
    {
     "name": "stdout",
     "output_type": "stream",
     "text": [
      "Leap year\n"
     ]
    }
   ],
   "source": [
    "def is_leap(year):\n",
    "    return (year % 4 == 0 and year % 100 != 0) or (year % 400 == 0)\n",
    "\n",
    "print(\"Leap year\" if is_leap(int(input(\"Enter year: \"))) else \"Not a leap year\")\n"
   ]
  },
  {
   "cell_type": "code",
   "execution_count": 25,
   "id": "2292b9fe-6e27-4822-a082-ac4a77356147",
   "metadata": {},
   "outputs": [
    {
     "name": "stdin",
     "output_type": "stream",
     "text": [
      "Enter number:  60\n"
     ]
    },
    {
     "name": "stdout",
     "output_type": "stream",
     "text": [
      "Square: 3600\n"
     ]
    }
   ],
   "source": [
    "def square(n):\n",
    "    return n * n\n",
    "\n",
    "print(\"Square:\", square(int(input(\"Enter number: \"))))\n"
   ]
  },
  {
   "cell_type": "code",
   "execution_count": 26,
   "id": "52049b93-3bad-428a-aca6-e77c8acb751f",
   "metadata": {},
   "outputs": [
    {
     "name": "stdin",
     "output_type": "stream",
     "text": [
      "Enter length:  4\n"
     ]
    },
    {
     "name": "stdout",
     "output_type": "stream",
     "text": [
      "Password: z']R\n"
     ]
    }
   ],
   "source": [
    "import random\n",
    "import string\n",
    "\n",
    "def generate_password(length):\n",
    "    chars = string.ascii_letters + string.digits + string.punctuation\n",
    "    return ''.join(random.choice(chars) for _ in range(length))\n",
    "\n",
    "print(\"Password:\", generate_password(int(input(\"Enter length: \"))))\n"
   ]
  },
  {
   "cell_type": "code",
   "execution_count": 27,
   "id": "eebcc1e1-0483-4009-88bb-1a9a64ba08ac",
   "metadata": {},
   "outputs": [
    {
     "name": "stdin",
     "output_type": "stream",
     "text": [
      "Enter time (hh mm ss):  2 30 2\n"
     ]
    },
    {
     "name": "stdout",
     "output_type": "stream",
     "text": [
      "Total seconds: 9002\n"
     ]
    }
   ],
   "source": [
    "def to_seconds(h, m, s):\n",
    "    return h * 3600 + m * 60 + s\n",
    "\n",
    "h, m, s = map(int, input(\"Enter time (hh mm ss): \").split())\n",
    "print(\"Total seconds:\", to_seconds(h, m, s))\n"
   ]
  },
  {
   "cell_type": "code",
   "execution_count": null,
   "id": "1aa52a91-94ac-43f9-aa65-9241958633d6",
   "metadata": {},
   "outputs": [],
   "source": []
  }
 ],
 "metadata": {
  "kernelspec": {
   "display_name": "Python 3 (ipykernel)",
   "language": "python",
   "name": "python3"
  },
  "language_info": {
   "codemirror_mode": {
    "name": "ipython",
    "version": 3
   },
   "file_extension": ".py",
   "mimetype": "text/x-python",
   "name": "python",
   "nbconvert_exporter": "python",
   "pygments_lexer": "ipython3",
   "version": "3.12.11"
  }
 },
 "nbformat": 4,
 "nbformat_minor": 5
}
