{
 "cells": [
  {
   "cell_type": "code",
   "execution_count": 1,
   "id": "fe6a5d99-3467-49a3-97ef-41b89f4ba98f",
   "metadata": {},
   "outputs": [
    {
     "name": "stdin",
     "output_type": "stream",
     "text": [
      "Enter a number:  2\n"
     ]
    },
    {
     "name": "stdout",
     "output_type": "stream",
     "text": [
      "Sum: 3\n"
     ]
    }
   ],
   "source": [
    "n = int(input(\"Enter a number: \"))\n",
    "sum = 0\n",
    "for i in range(1, n+1):\n",
    "    sum += i\n",
    "print(\"Sum:\", sum)\n"
   ]
  },
  {
   "cell_type": "code",
   "execution_count": 2,
   "id": "bae84fd4-09a6-402c-b07c-9f50d1276b31",
   "metadata": {},
   "outputs": [
    {
     "name": "stdin",
     "output_type": "stream",
     "text": [
      "Enter a number:  4\n"
     ]
    },
    {
     "name": "stdout",
     "output_type": "stream",
     "text": [
      "Digit count: 1\n"
     ]
    }
   ],
   "source": [
    "n = int(input(\"Enter a number: \"))\n",
    "count = 0\n",
    "while n > 0:\n",
    "    count += 1\n",
    "    n //= 10\n",
    "print(\"Digit count:\", count)\n"
   ]
  },
  {
   "cell_type": "code",
   "execution_count": 3,
   "id": "77c0c3f5-cc53-440f-9519-06ecd89f1eca",
   "metadata": {},
   "outputs": [
    {
     "name": "stdin",
     "output_type": "stream",
     "text": [
      "Enter a number:  20\n"
     ]
    },
    {
     "name": "stdout",
     "output_type": "stream",
     "text": [
      "Reversed number: 2\n"
     ]
    }
   ],
   "source": [
    "n = int(input(\"Enter a number: \"))\n",
    "rev = 0\n",
    "while n > 0:\n",
    "    rev = rev * 10 + n % 10\n",
    "    n //= 10\n",
    "print(\"Reversed number:\", rev)\n"
   ]
  },
  {
   "cell_type": "code",
   "execution_count": 6,
   "id": "18b781d0-b740-4081-9145-30d106e9690b",
   "metadata": {},
   "outputs": [
    {
     "name": "stdin",
     "output_type": "stream",
     "text": [
      "Enter a number:  2\n"
     ]
    },
    {
     "name": "stdout",
     "output_type": "stream",
     "text": [
      "Palindrome\n"
     ]
    }
   ],
   "source": [
    "n = int(input(\"Enter a number: \"))\n",
    "temp = n\n",
    "rev = 0\n",
    "while n > 0:\n",
    "    rev = rev * 10 + n % 10\n",
    "    n //= 10\n",
    "print(\"Palindrome\" if temp == rev else \"Not Palindrome\")\n"
   ]
  },
  {
   "cell_type": "code",
   "execution_count": 7,
   "id": "224dea6f-316b-4540-85b0-7f9a332137c7",
   "metadata": {},
   "outputs": [
    {
     "name": "stdin",
     "output_type": "stream",
     "text": [
      "Start:  2\n",
      "End:  5\n"
     ]
    },
    {
     "name": "stdout",
     "output_type": "stream",
     "text": [
      "2 3 5 "
     ]
    }
   ],
   "source": [
    "start = int(input(\"Start: \"))\n",
    "end = int(input(\"End: \"))\n",
    "for num in range(start, end+1):\n",
    "    if num > 1:\n",
    "        for i in range(2, int(num**0.5)+1):\n",
    "            if num % i == 0:\n",
    "                break\n",
    "        else:\n",
    "            print(num, end=' ')\n"
   ]
  },
  {
   "cell_type": "code",
   "execution_count": 8,
   "id": "a10ffbaa-3381-49f8-ad87-ac0fdd7501df",
   "metadata": {},
   "outputs": [
    {
     "name": "stdin",
     "output_type": "stream",
     "text": [
      "Enter number:  8\n"
     ]
    },
    {
     "name": "stdout",
     "output_type": "stream",
     "text": [
      "Armstrong\n"
     ]
    }
   ],
   "source": [
    "n = int(input(\"Enter number: \"))\n",
    "temp = n\n",
    "digits = len(str(n))\n",
    "sum = 0\n",
    "while n > 0:\n",
    "    digit = n % 10\n",
    "    sum += digit ** digits\n",
    "    n //= 10\n",
    "print(\"Armstrong\" if sum == temp else \"Not Armstrong\")\n"
   ]
  },
  {
   "cell_type": "code",
   "execution_count": 9,
   "id": "04a15552-1817-4d8f-9f7e-296f6aa0364a",
   "metadata": {},
   "outputs": [
    {
     "name": "stdin",
     "output_type": "stream",
     "text": [
      "Enter rows:  5\n"
     ]
    },
    {
     "name": "stdout",
     "output_type": "stream",
     "text": [
      "*\n",
      "**\n",
      "***\n",
      "****\n",
      "*****\n"
     ]
    }
   ],
   "source": [
    "rows = int(input(\"Enter rows: \"))\n",
    "for i in range(1, rows + 1):\n",
    "    print('*' * i)\n"
   ]
  },
  {
   "cell_type": "code",
   "execution_count": 10,
   "id": "a8114458-d94e-4243-9889-b6ccdf00feba",
   "metadata": {},
   "outputs": [
    {
     "name": "stdin",
     "output_type": "stream",
     "text": [
      "Base:  2\n",
      "Exponent:  2\n"
     ]
    },
    {
     "name": "stdout",
     "output_type": "stream",
     "text": [
      "Power: 4\n"
     ]
    }
   ],
   "source": [
    "base = int(input(\"Base: \"))\n",
    "exp = int(input(\"Exponent: \"))\n",
    "result = 1\n",
    "for _ in range(exp):\n",
    "    result *= base\n",
    "print(\"Power:\", result)\n"
   ]
  },
  {
   "cell_type": "code",
   "execution_count": 11,
   "id": "5624cd16-5389-4d36-9068-91669323a750",
   "metadata": {},
   "outputs": [
    {
     "name": "stdin",
     "output_type": "stream",
     "text": [
      "Enter number:  10\n"
     ]
    },
    {
     "name": "stdout",
     "output_type": "stream",
     "text": [
      "Sum of digits: 1\n"
     ]
    }
   ],
   "source": [
    "n = int(input(\"Enter number: \"))\n",
    "total = 0\n",
    "while n > 0:\n",
    "    total += n % 10\n",
    "    n //= 10\n",
    "print(\"Sum of digits:\", total)\n"
   ]
  },
  {
   "cell_type": "code",
   "execution_count": 12,
   "id": "7fc470c3-0e51-46e7-8a61-8ad5b4451635",
   "metadata": {},
   "outputs": [
    {
     "name": "stdin",
     "output_type": "stream",
     "text": [
      "Enter first number:  40\n",
      "Enter second number:  20\n"
     ]
    },
    {
     "name": "stdout",
     "output_type": "stream",
     "text": [
      "GCD: 20\n"
     ]
    }
   ],
   "source": [
    "a = int(input(\"Enter first number: \"))\n",
    "b = int(input(\"Enter second number: \"))\n",
    "while b:\n",
    "    a, b = b, a % b\n",
    "print(\"GCD:\", a)\n"
   ]
  },
  {
   "cell_type": "code",
   "execution_count": 13,
   "id": "4d897939-1c2c-4e85-8fe3-3e5ebd4a2bae",
   "metadata": {},
   "outputs": [
    {
     "name": "stdin",
     "output_type": "stream",
     "text": [
      "Enter first number:  15\n",
      "Enter second number:  12\n"
     ]
    },
    {
     "name": "stdout",
     "output_type": "stream",
     "text": [
      "LCM: 60\n"
     ]
    }
   ],
   "source": [
    "a = int(input(\"Enter first number: \"))\n",
    "b = int(input(\"Enter second number: \"))\n",
    "def gcd(x, y):\n",
    "    while y:\n",
    "        x, y = y, x % y\n",
    "    return x\n",
    "lcm = a * b // gcd(a, b)\n",
    "print(\"LCM:\", lcm)\n"
   ]
  },
  {
   "cell_type": "code",
   "execution_count": 17,
   "id": "eb7b3730-1492-4952-b5cc-d536051f7877",
   "metadata": {},
   "outputs": [
    {
     "name": "stdin",
     "output_type": "stream",
     "text": [
      "Enter number:  145\n"
     ]
    },
    {
     "name": "stdout",
     "output_type": "stream",
     "text": [
      "Strong number\n"
     ]
    }
   ],
   "source": [
    "import math\n",
    "n = int(input(\"Enter number: \"))\n",
    "temp = n\n",
    "sum = 0\n",
    "while n > 0:\n",
    "    sum += math.factorial(n % 10)\n",
    "    n //= 10\n",
    "print(\"Strong number\" if sum == temp else \"Not strong number\")\n"
   ]
  },
  {
   "cell_type": "code",
   "execution_count": 19,
   "id": "f7565e6e-a958-4d61-a397-ca58c9e5a9ad",
   "metadata": {},
   "outputs": [
    {
     "name": "stdin",
     "output_type": "stream",
     "text": [
      "Enter number:  6\n"
     ]
    },
    {
     "name": "stdout",
     "output_type": "stream",
     "text": [
      "Perfect number\n"
     ]
    }
   ],
   "source": [
    "n = int(input(\"Enter number: \"))\n",
    "sum = 0\n",
    "for i in range(1, n):\n",
    "    if n % i == 0:\n",
    "        sum += i\n",
    "print(\"Perfect number\" if sum == n else \"Not perfect number\")\n"
   ]
  },
  {
   "cell_type": "code",
   "execution_count": 21,
   "id": "a53e9829-e62d-4f32-bd9a-66c7606b5549",
   "metadata": {},
   "outputs": [
    {
     "name": "stdin",
     "output_type": "stream",
     "text": [
      "Enter a character:  A\n"
     ]
    },
    {
     "name": "stdout",
     "output_type": "stream",
     "text": [
      "ASCII value: 65\n"
     ]
    }
   ],
   "source": [
    "char = input(\"Enter a character: \")\n",
    "print(\"ASCII value:\", ord(char))\n"
   ]
  },
  {
   "cell_type": "code",
   "execution_count": 28,
   "id": "395ab957-c5e7-43b6-91c9-367231575d49",
   "metadata": {},
   "outputs": [
    {
     "name": "stdin",
     "output_type": "stream",
     "text": [
      "Enter text:  hello world\n"
     ]
    },
    {
     "name": "stdout",
     "output_type": "stream",
     "text": [
      "Vowel count: 3\n"
     ]
    }
   ],
   "source": [
    "del sum  \n",
    "text = input(\"Enter text: \").lower()\n",
    "vowels = \"aeiou\"\n",
    "count = sum(1 for ch in text if ch in vowels)\n",
    "print(\"Vowel count:\", count)\n"
   ]
  },
  {
   "cell_type": "code",
   "execution_count": 29,
   "id": "b8f8ab8c-1cff-43c5-9128-c424241d82ea",
   "metadata": {},
   "outputs": [
    {
     "name": "stdin",
     "output_type": "stream",
     "text": [
      "Enter text:  hello world\n"
     ]
    },
    {
     "name": "stdout",
     "output_type": "stream",
     "text": [
      "Consonant count: 7\n"
     ]
    }
   ],
   "source": [
    "text = input(\"Enter text: \").lower()\n",
    "vowels = \"aeiou\"\n",
    "count = sum(1 for ch in text if ch.isalpha() and ch not in vowels)\n",
    "print(\"Consonant count:\", count)\n"
   ]
  },
  {
   "cell_type": "code",
   "execution_count": 31,
   "id": "f4924069-2cf6-4229-b807-2618e0b39927",
   "metadata": {},
   "outputs": [
    {
     "name": "stdin",
     "output_type": "stream",
     "text": [
      "Enter range limit:  100\n"
     ]
    },
    {
     "name": "stdout",
     "output_type": "stream",
     "text": [
      "15 30 45 60 75 90 "
     ]
    }
   ],
   "source": [
    "n = int(input(\"Enter range limit: \"))\n",
    "for i in range(1, n+1):\n",
    "    if i % 3 == 0 and i % 5 == 0:\n",
    "        print(i, end=' ')\n"
   ]
  },
  {
   "cell_type": "code",
   "execution_count": 32,
   "id": "3875f719-bbb8-45d6-983f-43b8817b5e21",
   "metadata": {},
   "outputs": [
    {
     "name": "stdin",
     "output_type": "stream",
     "text": [
      "Enter limit:  50\n"
     ]
    },
    {
     "name": "stdout",
     "output_type": "stream",
     "text": [
      "Sum of even numbers: 650\n"
     ]
    }
   ],
   "source": [
    "n = int(input(\"Enter limit: \"))\n",
    "sum = 0\n",
    "for i in range(2, n+1, 2):\n",
    "    sum += i\n",
    "print(\"Sum of even numbers:\", sum)\n"
   ]
  },
  {
   "cell_type": "code",
   "execution_count": 34,
   "id": "59bc8dc3-fcfe-40f2-b7b2-dc0cad929be1",
   "metadata": {},
   "outputs": [
    {
     "name": "stdin",
     "output_type": "stream",
     "text": [
      "Enter limit:  25\n"
     ]
    },
    {
     "name": "stdout",
     "output_type": "stream",
     "text": [
      "Sum of odd numbers: 169\n"
     ]
    }
   ],
   "source": [
    "n = int(input(\"Enter limit: \"))\n",
    "sum = 0\n",
    "for i in range(1, n+1, 2):\n",
    "    sum += i\n",
    "print(\"Sum of odd numbers:\", sum)\n"
   ]
  },
  {
   "cell_type": "code",
   "execution_count": 35,
   "id": "c41508d0-df67-4dbd-9f87-af71372f5772",
   "metadata": {},
   "outputs": [
    {
     "name": "stdin",
     "output_type": "stream",
     "text": [
      "Enter n:  4\n"
     ]
    },
    {
     "name": "stdout",
     "output_type": "stream",
     "text": [
      "Sum of series: 2.0833\n"
     ]
    }
   ],
   "source": [
    "n = int(input(\"Enter n: \"))\n",
    "sum = 0\n",
    "for i in range(1, n+1):\n",
    "    sum += 1/i\n",
    "print(\"Sum of series:\", round(sum, 4))\n"
   ]
  },
  {
   "cell_type": "code",
   "execution_count": null,
   "id": "9ccf62dc-5f2f-42ec-9b02-71fbc1013a66",
   "metadata": {},
   "outputs": [],
   "source": []
  }
 ],
 "metadata": {
  "kernelspec": {
   "display_name": "Python 3 (ipykernel)",
   "language": "python",
   "name": "python3"
  },
  "language_info": {
   "codemirror_mode": {
    "name": "ipython",
    "version": 3
   },
   "file_extension": ".py",
   "mimetype": "text/x-python",
   "name": "python",
   "nbconvert_exporter": "python",
   "pygments_lexer": "ipython3",
   "version": "3.12.11"
  }
 },
 "nbformat": 4,
 "nbformat_minor": 5
}
