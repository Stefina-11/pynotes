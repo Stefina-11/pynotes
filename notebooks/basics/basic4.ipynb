{
 "cells": [
  {
   "cell_type": "code",
   "execution_count": 2,
   "id": "79d9757b-23f4-4039-9495-23a83890b2ff",
   "metadata": {},
   "outputs": [
    {
     "name": "stdin",
     "output_type": "stream",
     "text": [
      "First string:  listen\n",
      "Second string:  silent\n"
     ]
    },
    {
     "name": "stdout",
     "output_type": "stream",
     "text": [
      "Anagram\n"
     ]
    }
   ],
   "source": [
    "def is_anagram(str1, str2):\n",
    "    return sorted(str1.lower()) == sorted(str2.lower())\n",
    "\n",
    "print(\"Anagram\" if is_anagram(input(\"First string: \"), input(\"Second string: \")) else \"Not Anagram\")\n"
   ]
  },
  {
   "cell_type": "code",
   "execution_count": 4,
   "id": "432ccf6c-1bfa-49a4-87d8-ed5f4be47a97",
   "metadata": {},
   "outputs": [
    {
     "name": "stdin",
     "output_type": "stream",
     "text": [
      "Enter sentence:  The quick brown fox jumps over the lazy dog\n"
     ]
    },
    {
     "name": "stdout",
     "output_type": "stream",
     "text": [
      "Pangram\n"
     ]
    }
   ],
   "source": [
    "import string\n",
    "\n",
    "def is_pangram(s):\n",
    "    s = s.lower()\n",
    "    return all(ch in s for ch in string.ascii_lowercase)\n",
    "\n",
    "print(\"Pangram\" if is_pangram(input(\"Enter sentence: \")) else \"Not Pangram\")\n"
   ]
  },
  {
   "cell_type": "code",
   "execution_count": 5,
   "id": "ae33760c-1d39-49dc-af71-a82c413fabf0",
   "metadata": {},
   "outputs": [
    {
     "name": "stdin",
     "output_type": "stream",
     "text": [
      "Enter string:  stefina\n"
     ]
    },
    {
     "name": "stdout",
     "output_type": "stream",
     "text": [
      "Modified string: st*f*n*\n"
     ]
    }
   ],
   "source": [
    "s = input(\"Enter string: \")\n",
    "vowels = \"aeiouAEIOU\"\n",
    "result = ''.join('*' if ch in vowels else ch for ch in s)\n",
    "print(\"Modified string:\", result)\n"
   ]
  },
  {
   "cell_type": "code",
   "execution_count": 6,
   "id": "0a06c70d-4851-42ad-9fad-0b5d74b8646e",
   "metadata": {},
   "outputs": [
    {
     "name": "stdin",
     "output_type": "stream",
     "text": [
      "Enter string:  hey there\n"
     ]
    },
    {
     "name": "stdout",
     "output_type": "stream",
     "text": [
      "{'h': 2, 'e': 3, 'y': 1, ' ': 1, 't': 1, 'r': 1}\n"
     ]
    }
   ],
   "source": [
    "s = input(\"Enter string: \")\n",
    "freq = {}\n",
    "for ch in s:\n",
    "    freq[ch] = freq.get(ch, 0) + 1\n",
    "print(freq)\n"
   ]
  },
  {
   "cell_type": "code",
   "execution_count": 7,
   "id": "43220083-4231-4a1b-8b5b-daa59257d79f",
   "metadata": {},
   "outputs": [
    {
     "name": "stdin",
     "output_type": "stream",
     "text": [
      "Enter string:  happy\n"
     ]
    },
    {
     "name": "stdout",
     "output_type": "stream",
     "text": [
      "Duplicates: {'p'}\n"
     ]
    }
   ],
   "source": [
    "s = input(\"Enter string: \")\n",
    "seen = set()\n",
    "duplicates = set()\n",
    "for ch in s:\n",
    "    if ch in seen:\n",
    "        duplicates.add(ch)\n",
    "    else:\n",
    "        seen.add(ch)\n",
    "print(\"Duplicates:\", duplicates)\n"
   ]
  },
  {
   "cell_type": "code",
   "execution_count": 8,
   "id": "976a3127-b799-4b73-9a0f-5d305c9e2959",
   "metadata": {},
   "outputs": [
    {
     "name": "stdin",
     "output_type": "stream",
     "text": [
      "Enter sentence:  apple\n"
     ]
    },
    {
     "name": "stdout",
     "output_type": "stream",
     "text": [
      "Capitalized: Apple\n"
     ]
    }
   ],
   "source": [
    "s = input(\"Enter sentence: \")\n",
    "print(\"Capitalized:\", s.title())\n"
   ]
  },
  {
   "cell_type": "code",
   "execution_count": 10,
   "id": "60e0b988-9ee5-4f74-94ed-3fd946cdbc22",
   "metadata": {},
   "outputs": [
    {
     "name": "stdin",
     "output_type": "stream",
     "text": [
      "Enter sentence:  how are you\n"
     ]
    },
    {
     "name": "stdout",
     "output_type": "stream",
     "text": [
      "Sorted words: are how you\n"
     ]
    }
   ],
   "source": [
    "words = input(\"Enter sentence: \").split()\n",
    "words.sort()\n",
    "print(\"Sorted words:\", ' '.join(words))\n"
   ]
  },
  {
   "cell_type": "code",
   "execution_count": 11,
   "id": "42386b92-7b31-42c0-a080-fcdeb3d5bcc6",
   "metadata": {},
   "outputs": [
    {
     "name": "stdin",
     "output_type": "stream",
     "text": [
      "Enter text:  what's up!\n"
     ]
    },
    {
     "name": "stdout",
     "output_type": "stream",
     "text": [
      "Cleaned: whats up\n"
     ]
    }
   ],
   "source": [
    "import string\n",
    "\n",
    "s = input(\"Enter text: \")\n",
    "clean = ''.join(ch for ch in s if ch not in string.punctuation)\n",
    "print(\"Cleaned:\", clean)\n"
   ]
  },
  {
   "cell_type": "code",
   "execution_count": 12,
   "id": "47acb3f3-a36c-4867-8079-7504e96e61c4",
   "metadata": {},
   "outputs": [
    {
     "name": "stdin",
     "output_type": "stream",
     "text": [
      "Enter string:  h e l l o\n"
     ]
    },
    {
     "name": "stdout",
     "output_type": "stream",
     "text": [
      "Without spaces: hello\n"
     ]
    }
   ],
   "source": [
    "s = input(\"Enter string: \")\n",
    "print(\"Without spaces:\", s.replace(\" \", \"\"))\n"
   ]
  },
  {
   "cell_type": "code",
   "execution_count": 13,
   "id": "4f595d46-ac3d-473d-8f22-9c07340c9f4a",
   "metadata": {},
   "outputs": [
    {
     "name": "stdout",
     "output_type": "stream",
     "text": [
      "Merged list: [1, 2, 3, 4, 5]\n"
     ]
    }
   ],
   "source": [
    "list1 = [1, 2, 3]\n",
    "list2 = [4, 5]\n",
    "merged = list1 + list2\n",
    "print(\"Merged list:\", merged)\n"
   ]
  },
  {
   "cell_type": "code",
   "execution_count": 14,
   "id": "c0982235-9b34-4502-a1f0-e98f514933d5",
   "metadata": {},
   "outputs": [
    {
     "name": "stdin",
     "output_type": "stream",
     "text": [
      "Enter numbers:  1 2 3\n"
     ]
    },
    {
     "name": "stdout",
     "output_type": "stream",
     "text": [
      "Sum: 6\n",
      "Min: 1\n",
      "Max: 3\n"
     ]
    }
   ],
   "source": [
    "lst = list(map(int, input(\"Enter numbers: \").split()))\n",
    "print(\"Sum:\", sum(lst))\n",
    "print(\"Min:\", min(lst))\n",
    "print(\"Max:\", max(lst))\n"
   ]
  },
  {
   "cell_type": "code",
   "execution_count": 15,
   "id": "c22e6f33-6bfd-4f67-8c90-323c6141dd7e",
   "metadata": {},
   "outputs": [
    {
     "name": "stdin",
     "output_type": "stream",
     "text": [
      "Enter numbers:  1 2 3 2 4 5 5 6 \n"
     ]
    },
    {
     "name": "stdout",
     "output_type": "stream",
     "text": [
      "Without duplicates: [1, 2, 3, 4, 5, 6]\n"
     ]
    }
   ],
   "source": [
    "lst = list(map(int, input(\"Enter numbers: \").split()))\n",
    "unique = list(set(lst))\n",
    "print(\"Without duplicates:\", unique)\n"
   ]
  },
  {
   "cell_type": "code",
   "execution_count": 16,
   "id": "78b0d87a-3071-4ab6-b8d2-440a31bdfd84",
   "metadata": {},
   "outputs": [
    {
     "name": "stdin",
     "output_type": "stream",
     "text": [
      "Enter list:  1 2 3\n"
     ]
    },
    {
     "name": "stdout",
     "output_type": "stream",
     "text": [
      "Reversed: [3, 2, 1]\n"
     ]
    }
   ],
   "source": [
    "lst = list(map(int, input(\"Enter list: \").split()))\n",
    "print(\"Reversed:\", lst[::-1])\n"
   ]
  },
  {
   "cell_type": "code",
   "execution_count": 17,
   "id": "fa06c618-a162-426d-b79a-3ec51a5f0a22",
   "metadata": {},
   "outputs": [
    {
     "name": "stdin",
     "output_type": "stream",
     "text": [
      "Enter numbers:  1 2 3 4\n"
     ]
    },
    {
     "name": "stdout",
     "output_type": "stream",
     "text": [
      "Second largest: 3\n"
     ]
    }
   ],
   "source": [
    "lst = list(map(int, input(\"Enter numbers: \").split()))\n",
    "unique = list(set(lst))\n",
    "unique.sort()\n",
    "if len(unique) >= 2:\n",
    "    print(\"Second largest:\", unique[-2])\n",
    "else:\n",
    "    print(\"Not enough unique elements\")\n"
   ]
  },
  {
   "cell_type": "code",
   "execution_count": 19,
   "id": "78393329-778b-42e1-aaf3-353f8c2c85e4",
   "metadata": {},
   "outputs": [
    {
     "name": "stdin",
     "output_type": "stream",
     "text": [
      "Enter list:  2 4 6\n",
      "Enter number to count:  4\n"
     ]
    },
    {
     "name": "stdout",
     "output_type": "stream",
     "text": [
      "4 occurs 1 times\n"
     ]
    }
   ],
   "source": [
    "lst = list(map(int, input(\"Enter list: \").split()))\n",
    "x = int(input(\"Enter number to count: \"))\n",
    "print(f\"{x} occurs {lst.count(x)} times\")\n"
   ]
  },
  {
   "cell_type": "code",
   "execution_count": 21,
   "id": "d9dfa4e3-aa26-4712-bbd8-61ba1b29807d",
   "metadata": {},
   "outputs": [
    {
     "name": "stdin",
     "output_type": "stream",
     "text": [
      "Enter comma-separated values:  c,l,a,s,s\n"
     ]
    },
    {
     "name": "stdout",
     "output_type": "stream",
     "text": [
      "Split list: ['c', 'l', 'a', 's', 's']\n"
     ]
    }
   ],
   "source": [
    "s = input(\"Enter comma-separated values: \")\n",
    "items = s.split(',')\n",
    "print(\"Split list:\", items)\n"
   ]
  },
  {
   "cell_type": "code",
   "execution_count": 22,
   "id": "88f8e21e-5d77-4ff3-a0a1-7f6d2d63b96a",
   "metadata": {},
   "outputs": [
    {
     "name": "stdout",
     "output_type": "stream",
     "text": [
      "Sorted tuples: [(1, 'a'), (2, 'b'), (3, 'c')]\n"
     ]
    }
   ],
   "source": [
    "lst = [(2, 'b'), (1, 'a'), (3, 'c')]\n",
    "lst.sort()\n",
    "print(\"Sorted tuples:\", lst)\n"
   ]
  },
  {
   "cell_type": "code",
   "execution_count": 23,
   "id": "04227a51-c784-4593-85c2-b1b04b810379",
   "metadata": {},
   "outputs": [
    {
     "name": "stdin",
     "output_type": "stream",
     "text": [
      "List A:  1 2 3 4 5\n",
      "List B:  6 7 8 3 9\n"
     ]
    },
    {
     "name": "stdout",
     "output_type": "stream",
     "text": [
      "Common elements: [3]\n"
     ]
    }
   ],
   "source": [
    "a = list(map(int, input(\"List A: \").split()))\n",
    "b = list(map(int, input(\"List B: \").split()))\n",
    "common = list(set(a) & set(b))\n",
    "print(\"Common elements:\", common)\n"
   ]
  },
  {
   "cell_type": "code",
   "execution_count": 24,
   "id": "33738f7b-42b1-469f-ae83-58b7b86635a0",
   "metadata": {},
   "outputs": [
    {
     "name": "stdout",
     "output_type": "stream",
     "text": [
      "Flattened: [1, 2, 3, 4, 5]\n"
     ]
    }
   ],
   "source": [
    "nested = [[1, 2], [3, 4], [5]]\n",
    "flat = [item for sublist in nested for item in sublist]\n",
    "print(\"Flattened:\", flat)\n"
   ]
  },
  {
   "cell_type": "code",
   "execution_count": null,
   "id": "245de8b1-9e46-4bd7-be98-c2ff68ab5b82",
   "metadata": {},
   "outputs": [],
   "source": []
  }
 ],
 "metadata": {
  "kernelspec": {
   "display_name": "Python 3 (ipykernel)",
   "language": "python",
   "name": "python3"
  },
  "language_info": {
   "codemirror_mode": {
    "name": "ipython",
    "version": 3
   },
   "file_extension": ".py",
   "mimetype": "text/x-python",
   "name": "python",
   "nbconvert_exporter": "python",
   "pygments_lexer": "ipython3",
   "version": "3.12.11"
  }
 },
 "nbformat": 4,
 "nbformat_minor": 5
}
