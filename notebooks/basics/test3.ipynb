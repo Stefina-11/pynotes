{
 "cells": [
  {
   "cell_type": "code",
   "execution_count": 1,
   "id": "02642658-106b-4333-aa21-ce5895b9412e",
   "metadata": {},
   "outputs": [
    {
     "name": "stdout",
     "output_type": "stream",
     "text": [
      "Confusion Matrix:\n",
      " [[199  13   8   0]\n",
      " [  3 169   3   3]\n",
      " [  6  12 165   6]\n",
      " [  3   9   1 179]]\n",
      "\n",
      "Classification Report:\n",
      "                        precision    recall  f1-score   support\n",
      "\n",
      "   rec.sport.baseball       0.94      0.90      0.92       220\n",
      "            sci.space       0.83      0.95      0.89       178\n",
      "        comp.graphics       0.93      0.87      0.90       189\n",
      "talk.politics.mideast       0.95      0.93      0.94       192\n",
      "\n",
      "             accuracy                           0.91       779\n",
      "            macro avg       0.91      0.91      0.91       779\n",
      "         weighted avg       0.92      0.91      0.91       779\n",
      "\n",
      "\n",
      "Predicted Category: comp.graphics\n"
     ]
    }
   ],
   "source": [
    "from sklearn.datasets import fetch_20newsgroups\n",
    "from sklearn.model_selection import train_test_split\n",
    "from sklearn.feature_extraction.text import TfidfVectorizer\n",
    "from sklearn.svm import LinearSVC\n",
    "from sklearn.metrics import classification_report, confusion_matrix\n",
    "categories = ['rec.sport.baseball', 'sci.space', 'comp.graphics', 'talk.politics.mideast']  \n",
    "newsgroups = fetch_20newsgroups(subset='all', categories=categories, remove=('headers', 'footers', 'quotes'))\n",
    "X_train, X_test, y_train, y_test = train_test_split(newsgroups.data, newsgroups.target, test_size=0.2, random_state=42)\n",
    "vectorizer = TfidfVectorizer(stop_words='english', max_df=0.5)\n",
    "X_train_tfidf = vectorizer.fit_transform(X_train)\n",
    "X_test_tfidf = vectorizer.transform(X_test)\n",
    "model = LinearSVC()\n",
    "model.fit(X_train_tfidf, y_train)\n",
    "y_pred = model.predict(X_test_tfidf)\n",
    "print(\"Confusion Matrix:\\n\", confusion_matrix(y_test, y_pred))\n",
    "print(\"\\nClassification Report:\\n\", classification_report(y_test, y_pred, target_names=categories))\n",
    "sample = [\"NASA successfully launched a new satellite into orbit last night.\"]\n",
    "sample_tfidf = vectorizer.transform(sample)\n",
    "predicted_category = model.predict(sample_tfidf)[0]\n",
    "print(\"\\nPredicted Category:\", categories[predicted_category])"
   ]
  },
  {
   "cell_type": "code",
   "execution_count": 2,
   "id": "103d11d3-2a56-4dfc-aeb8-0dcc06a73207",
   "metadata": {},
   "outputs": [
    {
     "ename": "SyntaxError",
     "evalue": "invalid non-printable character U+00A0 (3636701277.py, line 20)",
     "output_type": "error",
     "traceback": [
      "  \u001b[36mCell\u001b[39m\u001b[36m \u001b[39m\u001b[32mIn[2]\u001b[39m\u001b[32m, line 20\u001b[39m\n\u001b[31m    \u001b[39m\u001b[31mprint(\"\\nPrediction:\", \"Positive\" if model.predict(sample_tfidf)[0] == 1 else \"Negative\")\u001b[39m\n                                                                                 ^\n\u001b[31mSyntaxError\u001b[39m\u001b[31m:\u001b[39m invalid non-printable character U+00A0\n"
     ]
    }
   ],
   "source": []
  },
  {
   "cell_type": "code",
   "execution_count": null,
   "id": "07c5e262-d030-4bb5-939f-0e59002d665a",
   "metadata": {},
   "outputs": [],
   "source": []
  },
  {
   "cell_type": "code",
   "execution_count": null,
   "id": "445f3aa4-21d3-4f50-ad26-af1fa247d120",
   "metadata": {},
   "outputs": [],
   "source": []
  },
  {
   "cell_type": "code",
   "execution_count": null,
   "id": "2de5ed82-f925-49d7-8f67-c77ce44f694a",
   "metadata": {},
   "outputs": [],
   "source": []
  }
 ],
 "metadata": {
  "kernelspec": {
   "display_name": "Python 3 (ipykernel)",
   "language": "python",
   "name": "python3"
  },
  "language_info": {
   "codemirror_mode": {
    "name": "ipython",
    "version": 3
   },
   "file_extension": ".py",
   "mimetype": "text/x-python",
   "name": "python",
   "nbconvert_exporter": "python",
   "pygments_lexer": "ipython3",
   "version": "3.12.11"
  }
 },
 "nbformat": 4,
 "nbformat_minor": 5
}
