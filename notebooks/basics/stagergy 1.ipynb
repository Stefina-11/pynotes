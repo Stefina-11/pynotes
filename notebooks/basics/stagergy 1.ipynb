{
 "cells": [
  {
   "cell_type": "code",
   "execution_count": 1,
   "id": "486a6b91-4f42-4d31-a21d-9a68b2c73b17",
   "metadata": {},
   "outputs": [],
   "source": [
    "import pandas as pd\n",
    "from sklearn.model_selection import train_test_split\n",
    "from sklearn.feature_extraction.text import TfidfVectorizer\n",
    "from sklearn.naive_bayes import MultinomialNB\n",
    "from sklearn.metrics import classification_report, confusion_matrix\n"
   ]
  },
  {
   "cell_type": "code",
   "execution_count": 2,
   "id": "905436d8-d710-403c-82f1-6628e5d7fb04",
   "metadata": {},
   "outputs": [],
   "source": [
    "df = pd.read_csv('spam.csv', encoding='latin-1')[['v1', 'v2']]\n"
   ]
  },
  {
   "cell_type": "code",
   "execution_count": 3,
   "id": "49c9c5a1-f4a7-4906-a37a-fddd5c654e05",
   "metadata": {},
   "outputs": [],
   "source": [
    "df.columns = ['label', 'text']\n"
   ]
  },
  {
   "cell_type": "code",
   "execution_count": 4,
   "id": "cba6ee82-0ea2-4af1-bf52-a610f681717a",
   "metadata": {},
   "outputs": [],
   "source": [
    "df['label'] = df['label'].map({'ham': 0, 'spam': 1})\n",
    "X_train, X_test, y_train, y_test = train_test_split(df['text'], df['label'], test_size=0.2, random_state=42)\n",
    "vectorizer = TfidfVectorizer(stop_words='english')\n",
    "X_train_tfidf = vectorizer.fit_transform(X_train)\n",
    "X_test_tfidf = vectorizer.transform(X_test)\n",
    "model = MultinomialNB()\n"
   ]
  },
  {
   "cell_type": "code",
   "execution_count": 5,
   "id": "754b2d5b-2dc4-45fb-a43b-c33429c0a5fd",
   "metadata": {},
   "outputs": [
    {
     "name": "stdout",
     "output_type": "stream",
     "text": [
      "Confusion Matrix:\n",
      " [[965   0]\n",
      " [ 37 113]]\n",
      "\n",
      "Classification Report:\n",
      "               precision    recall  f1-score   support\n",
      "\n",
      "           0       0.96      1.00      0.98       965\n",
      "           1       1.00      0.75      0.86       150\n",
      "\n",
      "    accuracy                           0.97      1115\n",
      "   macro avg       0.98      0.88      0.92      1115\n",
      "weighted avg       0.97      0.97      0.96      1115\n",
      "\n"
     ]
    }
   ],
   "source": [
    "model.fit(X_train_tfidf, y_train)\n",
    "y_pred = model.predict(X_test_tfidf)\n",
    "print(\"Confusion Matrix:\\n\", confusion_matrix(y_test, y_pred))\n",
    "print(\"\\nClassification Report:\\n\", classification_report(y_test, y_pred))\n"
   ]
  },
  {
   "cell_type": "code",
   "execution_count": 6,
   "id": "9757515f-ff03-494f-8aac-57021598a4b0",
   "metadata": {},
   "outputs": [
    {
     "name": "stdout",
     "output_type": "stream",
     "text": [
      "\n",
      "Prediction: Spam\n"
     ]
    }
   ],
   "source": [
    "sample = [\"Congratulations! You won a $1000 prize. Click here to claim.\"]\n",
    "sample_tfidf = vectorizer.transform(sample)\n",
    "print(\"\\nPrediction:\", \"Spam\" if model.predict(sample_tfidf)[0] == 1 else \"Ham\")\n"
   ]
  },
  {
   "cell_type": "code",
   "execution_count": 8,
   "id": "b849f3c4-4bac-4be0-8d5a-334d361a481c",
   "metadata": {},
   "outputs": [],
   "source": [
    "from sklearn.datasets import fetch_20newsgroups\n",
    "from sklearn.model_selection import train_test_split\n",
    "from sklearn.feature_extraction.text import TfidfVectorizer\n",
    "from sklearn.svm import LinearSVC\n",
    "from sklearn.metrics import classification_report, confusion_matrix\n"
   ]
  },
  {
   "cell_type": "code",
   "execution_count": 9,
   "id": "9ef0e5c7-1bd3-49dc-ba04-f017040e4fbb",
   "metadata": {},
   "outputs": [],
   "source": [
    "categories = ['rec.sport.baseball', 'sci.space', 'comp.graphics', 'talk.politics.mideast']  \n",
    "newsgroups = fetch_20newsgroups(subset='all', categories=categories, remove=('headers', 'footers', 'quotes'))\n",
    "X_train, X_test, y_train, y_test = train_test_split(newsgroups.data, newsgroups.target, test_size=0.2, random_state=42)\n",
    "vectorizer = TfidfVectorizer(stop_words='english', max_df=0.5)\n",
    "X_train_tfidf = vectorizer.fit_transform(X_train)\n",
    "X_test_tfidf = vectorizer.transform(X_test)\n"
   ]
  },
  {
   "cell_type": "code",
   "execution_count": 10,
   "id": "6639fff3-1c2f-4143-9e58-2bd5f85984d7",
   "metadata": {},
   "outputs": [
    {
     "name": "stdout",
     "output_type": "stream",
     "text": [
      "Confusion Matrix:\n",
      " [[199  13   8   0]\n",
      " [  3 169   3   3]\n",
      " [  6  12 165   6]\n",
      " [  3   9   1 179]]\n",
      "\n",
      "Classification Report:\n",
      "                        precision    recall  f1-score   support\n",
      "\n",
      "   rec.sport.baseball       0.94      0.90      0.92       220\n",
      "            sci.space       0.83      0.95      0.89       178\n",
      "        comp.graphics       0.93      0.87      0.90       189\n",
      "talk.politics.mideast       0.95      0.93      0.94       192\n",
      "\n",
      "             accuracy                           0.91       779\n",
      "            macro avg       0.91      0.91      0.91       779\n",
      "         weighted avg       0.92      0.91      0.91       779\n",
      "\n"
     ]
    }
   ],
   "source": [
    "model = LinearSVC()\n",
    "model.fit(X_train_tfidf, y_train)\n",
    "y_pred = model.predict(X_test_tfidf)\n",
    "print(\"Confusion Matrix:\\n\", confusion_matrix(y_test, y_pred))\n",
    "print(\"\\nClassification Report:\\n\", classification_report(y_test, y_pred, target_names=categories))\n"
   ]
  },
  {
   "cell_type": "code",
   "execution_count": 11,
   "id": "497b5711-3bb8-4233-80c3-851eb02268ca",
   "metadata": {},
   "outputs": [
    {
     "name": "stdout",
     "output_type": "stream",
     "text": [
      "\n",
      "Predicted Category: comp.graphics\n"
     ]
    }
   ],
   "source": [
    "sample = [\"NASA successfully launched a new satellite into orbit last night.\"]\n",
    "sample_tfidf = vectorizer.transform(sample)\n",
    "predicted_category = model.predict(sample_tfidf)[0]\n",
    "print(\"\\nPredicted Category:\", categories[predicted_category])"
   ]
  },
  {
   "cell_type": "code",
   "execution_count": 12,
   "id": "c0e528fc-7012-4d49-8771-aa4ed3ee4cc1",
   "metadata": {},
   "outputs": [],
   "source": [
    "import pandas as pd\n",
    "import numpy as np\n",
    "import requests\n",
    "from io import BytesIO\n",
    "import re\n",
    "from bs4 import BeautifulSoup\n",
    "import nltk\n",
    "from sklearn.model_selection import train_test_split\n",
    "from sklearn.feature_extraction.text import CountVectorizer, TfidfTransformer\n",
    "from sklearn.naive_bayes import MultinomialNB\n",
    "from sklearn.pipeline import Pipeline\n",
    "from sklearn.metrics import accuracy_score, classification_report\n",
    "\n"
   ]
  },
  {
   "cell_type": "code",
   "execution_count": 13,
   "id": "7d932019-cdf9-4429-95f7-7e5284532532",
   "metadata": {},
   "outputs": [
    {
     "name": "stderr",
     "output_type": "stream",
     "text": [
      "[nltk_data] Downloading package stopwords to\n",
      "[nltk_data]     C:\\Users\\stefi\\AppData\\Roaming\\nltk_data...\n",
      "[nltk_data]   Package stopwords is already up-to-date!\n"
     ]
    }
   ],
   "source": [
    "nltk.download('stopwords')\n",
    "from nltk.corpus import stopwords\n",
    "\n"
   ]
  }
 ],
 "metadata": {
  "kernelspec": {
   "display_name": "Python 3 (ipykernel)",
   "language": "python",
   "name": "python3"
  },
  "language_info": {
   "codemirror_mode": {
    "name": "ipython",
    "version": 3
   },
   "file_extension": ".py",
   "mimetype": "text/x-python",
   "name": "python",
   "nbconvert_exporter": "python",
   "pygments_lexer": "ipython3",
   "version": "3.12.11"
  }
 },
 "nbformat": 4,
 "nbformat_minor": 5
}
