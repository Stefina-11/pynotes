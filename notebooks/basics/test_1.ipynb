{
 "cells": [
  {
   "cell_type": "code",
   "execution_count": 1,
   "id": "d3db096b-95af-4d28-836b-b2dce3d041ae",
   "metadata": {},
   "outputs": [
    {
     "name": "stdout",
     "output_type": "stream",
     "text": [
      "Hello World\n"
     ]
    }
   ],
   "source": [
    "print(\"Hello World\")"
   ]
  },
  {
   "cell_type": "code",
   "execution_count": 4,
   "id": "ced79f6c-39bb-4eaf-ae0b-08526e399a2c",
   "metadata": {},
   "outputs": [
    {
     "name": "stdin",
     "output_type": "stream",
     "text": [
      "Enter number of elements:  2\n",
      "Enter the array elements separated by space:  10 10\n"
     ]
    },
    {
     "name": "stdout",
     "output_type": "stream",
     "text": [
      "Maximum Subarray Sum: 20\n"
     ]
    }
   ],
   "source": [
    "def solve():\n",
    "    try:\n",
    "        n_input = input(\"Enter number of elements: \").strip()\n",
    "        if not n_input:\n",
    "            print(\"No input provided for number of elements.\")\n",
    "            return  \n",
    "        n = int(n_input)  \n",
    "        arr_input = input(\"Enter the array elements separated by space: \").strip()\n",
    "        if not arr_input:\n",
    "            print(\"No array elements provided.\")\n",
    "            return\n",
    "        arr = list(map(int, arr_input.split()))\n",
    "        if len(arr) != n:\n",
    "            print(f\"You entered {len(arr)} elements, but expected {n}.\")\n",
    "            return\n",
    "        max_ending_here = max_so_far = arr[0]\n",
    "        for x in arr[1:]:\n",
    "            max_ending_here = max(x, max_ending_here + x)\n",
    "            max_so_far = max(max_so_far, max_ending_here)\n",
    "        print(\"Maximum Subarray Sum:\", max_so_far)\n",
    "    except ValueError as ve:\n",
    "        print(\"Invalid input! Please enter integers only.\")\n",
    "        print(\"Error details:\", ve)\n",
    "solve()\n"
   ]
  },
  {
   "cell_type": "code",
   "execution_count": 4,
   "id": "bcb3a48b-de35-4e2f-af87-6cc4bf12851f",
   "metadata": {},
   "outputs": [
    {
     "name": "stdin",
     "output_type": "stream",
     "text": [
      " 10 9 2 5 3 7 101 18\n"
     ]
    },
    {
     "name": "stdout",
     "output_type": "stream",
     "text": [
      "4\n"
     ]
    }
   ],
   "source": [
    "import bisect\n",
    "def solve():\n",
    "    try:\n",
    "        arr_input = input().strip()\n",
    "        if not arr_input:\n",
    "            return\n",
    "        arr = list(map(int, arr_input.split()))\n",
    "        if not arr:\n",
    "            return\n",
    "        sub = []\n",
    "        for num in arr:\n",
    "            idx = bisect.bisect_left(sub, num)\n",
    "            if idx == len(sub):\n",
    "                sub.append(num)\n",
    "            else:\n",
    "                sub[idx] = num\n",
    "        print(len(sub))\n",
    "    except ValueError:\n",
    "        print(\"Invalid input\")\n",
    "solve()\n"
   ]
  },
  {
   "cell_type": "code",
   "execution_count": 1,
   "id": "0ba79339-14fd-4615-8155-7ac9d3c33d7b",
   "metadata": {},
   "outputs": [
    {
     "name": "stdin",
     "output_type": "stream",
     "text": [
      " Stefina\n",
      " Ai Engineer\n"
     ]
    },
    {
     "name": "stdout",
     "output_type": "stream",
     "text": [
      "2\n"
     ]
    }
   ],
   "source": [
    "def solve():\n",
    "    try:\n",
    "        s1 = input().strip()\n",
    "        s2 = input().strip()\n",
    "        n, m = len(s1), len(s2)\n",
    "        dp = [[0]*(m+1) for _ in range(n+1)]\n",
    "        for i in range(1, n+1):\n",
    "            for j in range(1, m+1):\n",
    "                if s1[i-1] == s2[j-1]:\n",
    "                    dp[i][j] = dp[i-1][j-1] + 1\n",
    "                else:\n",
    "                    dp[i][j] = max(dp[i-1][j], dp[i][j-1])\n",
    "        print(dp[n][m])\n",
    "    except:\n",
    "        print(\"Invalid input\")\n",
    "solve()\n"
   ]
  },
  {
   "cell_type": "code",
   "execution_count": 2,
   "id": "5fc8e8cc-8f55-4047-8fe8-cebce3964bda",
   "metadata": {},
   "outputs": [
    {
     "name": "stdin",
     "output_type": "stream",
     "text": [
      " 1  2 3 4 5\n",
      " 7\n"
     ]
    },
    {
     "name": "stdout",
     "output_type": "stream",
     "text": [
      "Yes\n"
     ]
    }
   ],
   "source": [
    "def solve():\n",
    "    try:\n",
    "        arr = list(map(int, input().strip().split()))\n",
    "        target = int(input().strip())\n",
    "        n = len(arr)\n",
    "        dp = [[False]*(target+1) for _ in range(n+1)]\n",
    "        for i in range(n+1):\n",
    "            dp[i][0] = True\n",
    "        for i in range(1, n+1):\n",
    "            for j in range(1, target+1):\n",
    "                if arr[i-1] > j:\n",
    "                    dp[i][j] = dp[i-1][j]\n",
    "                else:\n",
    "                    dp[i][j] = dp[i-1][j] or dp[i-1][j-arr[i-1]]\n",
    "        print(\"Yes\" if dp[n][target] else \"No\")\n",
    "    except:\n",
    "        print(\"Invalid input\")\n",
    "        \n",
    "solve()\n"
   ]
  },
  {
   "cell_type": "code",
   "execution_count": 1,
   "id": "13c2fc9f-f889-43cc-be8e-f7256791edd5",
   "metadata": {},
   "outputs": [
    {
     "name": "stdin",
     "output_type": "stream",
     "text": [
      " 2 2 3 4 2 5 2 6\n"
     ]
    },
    {
     "name": "stdout",
     "output_type": "stream",
     "text": [
      "2\n"
     ]
    }
   ],
   "source": [
    "def solve():\n",
    "    arr = list(map(int, input().strip().split()))\n",
    "    count = 0\n",
    "    candidate = None\n",
    "    for num in arr:\n",
    "        if count == 0:\n",
    "            candidate = num\n",
    "        count += (1 if num == candidate else -1)\n",
    "    print(candidate)\n",
    "solve()\n"
   ]
  },
  {
   "cell_type": "code",
   "execution_count": 2,
   "id": "ceb4d9e3-94af-4a7c-9a3d-ee809a11aaec",
   "metadata": {},
   "outputs": [
    {
     "name": "stdin",
     "output_type": "stream",
     "text": [
      " 1 2 3 4\n",
      " 5\n"
     ]
    },
    {
     "name": "stdout",
     "output_type": "stream",
     "text": [
      "1 2\n"
     ]
    }
   ],
   "source": [
    "def solve():\n",
    "    arr = list(map(int, input().strip().split()))\n",
    "    target = int(input().strip())\n",
    "    seen = {}\n",
    "    for i, num in enumerate(arr):\n",
    "        diff = target - num\n",
    "        if diff in seen:\n",
    "            print(seen[diff], i)\n",
    "            return\n",
    "        seen[num] = i\n",
    "    print(\"No pair\")\n",
    "solve()\n"
   ]
  },
  {
   "cell_type": "code",
   "execution_count": 4,
   "id": "18f401a2-df15-4fa9-b83a-d353fc60d77a",
   "metadata": {},
   "outputs": [
    {
     "name": "stdin",
     "output_type": "stream",
     "text": [
      " madam\n"
     ]
    },
    {
     "name": "stdout",
     "output_type": "stream",
     "text": [
      "Yes\n"
     ]
    }
   ],
   "source": [
    "def solve():\n",
    "    s = input().strip()\n",
    "    print(\"Yes\" if s == s[::-1] else \"No\")\n",
    "solve()\n"
   ]
  },
  {
   "cell_type": "code",
   "execution_count": 5,
   "id": "6d5ff864-6ce3-43e1-bab7-8fa3fb8a58b5",
   "metadata": {},
   "outputs": [
    {
     "name": "stdin",
     "output_type": "stream",
     "text": [
      " listen\n",
      " silent\n"
     ]
    },
    {
     "name": "stdout",
     "output_type": "stream",
     "text": [
      "Yes\n"
     ]
    }
   ],
   "source": [
    "def solve():\n",
    "    s1 = input().strip()\n",
    "    s2 = input().strip()\n",
    "    print(\"Yes\" if sorted(s1) == sorted(s2) else \"No\")\n",
    "solve()\n"
   ]
  },
  {
   "cell_type": "code",
   "execution_count": 7,
   "id": "0995535c-9904-4ccb-874f-21e398953d55",
   "metadata": {},
   "outputs": [
    {
     "name": "stdin",
     "output_type": "stream",
     "text": [
      " 3 0 1\n"
     ]
    },
    {
     "name": "stdout",
     "output_type": "stream",
     "text": [
      "2\n"
     ]
    }
   ],
   "source": [
    "def solve():\n",
    "    arr = list(map(int, input().strip().split()))\n",
    "    n = len(arr)\n",
    "    total = n * (n + 1) // 2\n",
    "    print(total - sum(arr))\n",
    "solve()\n"
   ]
  },
  {
   "cell_type": "code",
   "execution_count": 10,
   "id": "90fa7329-33b0-447b-9dac-27554ec72309",
   "metadata": {},
   "outputs": [
    {
     "name": "stdin",
     "output_type": "stream",
     "text": [
      " 4 4\n",
      " 0 1\n",
      " 1 2\n",
      " 2 3\n",
      " 3 1\n"
     ]
    },
    {
     "name": "stdout",
     "output_type": "stream",
     "text": [
      "Yes\n"
     ]
    }
   ],
   "source": [
    "def solve():\n",
    "    from collections import defaultdict\n",
    "    def dfs(v):\n",
    "        visited[v] = True\n",
    "        recStack[v] = True\n",
    "        for neighbor in graph[v]:\n",
    "            if not visited[neighbor] and dfs(neighbor):\n",
    "                return True\n",
    "            elif recStack[neighbor]:\n",
    "                return True\n",
    "        recStack[v] = False\n",
    "        return False\n",
    "\n",
    "    n, e = map(int, input().split())\n",
    "    graph = defaultdict(list)\n",
    "    for _ in range(e):\n",
    "        u, v = map(int, input().split())\n",
    "        graph[u].append(v)\n",
    "\n",
    "    visited = [False]*n\n",
    "    recStack = [False]*n\n",
    "    for node in range(n):\n",
    "        if not visited[node]:\n",
    "            if dfs(node):\n",
    "                print(\"Yes\")\n",
    "                return\n",
    "    print(\"No\")\n",
    "solve()\n"
   ]
  },
  {
   "cell_type": "code",
   "execution_count": 11,
   "id": "56d56d47-4b06-443e-af7e-6a80ac0846a3",
   "metadata": {},
   "outputs": [
    {
     "name": "stdin",
     "output_type": "stream",
     "text": [
      " 7\n"
     ]
    },
    {
     "name": "stdout",
     "output_type": "stream",
     "text": [
      "3\n"
     ]
    }
   ],
   "source": [
    "def solve():\n",
    "    n = int(input())\n",
    "    print(bin(n).count('1'))\n",
    "solve()\n"
   ]
  },
  {
   "cell_type": "code",
   "execution_count": 12,
   "id": "6a506441-d406-4995-aa7b-80e35d115296",
   "metadata": {},
   "outputs": [
    {
     "name": "stdin",
     "output_type": "stream",
     "text": [
      " a b c a b d d\n"
     ]
    },
    {
     "name": "stdout",
     "output_type": "stream",
     "text": [
      "c\n"
     ]
    }
   ],
   "source": [
    "def solve():\n",
    "    s = input().strip()\n",
    "    from collections import Counter\n",
    "    count = Counter(s)\n",
    "    for ch in s:\n",
    "        if count[ch] == 1:\n",
    "            print(ch)\n",
    "            return\n",
    "    print(\"None\")\n",
    "solve()\n"
   ]
  },
  {
   "cell_type": "code",
   "execution_count": 15,
   "id": "452a0958-b2a5-452a-b09a-e551703a2876",
   "metadata": {},
   "outputs": [
    {
     "name": "stdin",
     "output_type": "stream",
     "text": [
      " 16\n"
     ]
    },
    {
     "name": "stdout",
     "output_type": "stream",
     "text": [
      "Yes\n"
     ]
    }
   ],
   "source": [
    "def solve():\n",
    "    n = int(input())\n",
    "    print(\"Yes\" if n > 0 and (n & (n - 1)) == 0 else \"No\")\n",
    "solve()\n"
   ]
  },
  {
   "cell_type": "code",
   "execution_count": 16,
   "id": "ec0d9a52-6382-40fe-b3ae-02f67fab02d5",
   "metadata": {},
   "outputs": [
    {
     "name": "stdin",
     "output_type": "stream",
     "text": [
      " (1, (2, None, None), (3, None, None))\n"
     ]
    },
    {
     "name": "stdout",
     "output_type": "stream",
     "text": [
      "Yes\n"
     ]
    }
   ],
   "source": [
    "def solve():\n",
    "    import sys\n",
    "    sys.setrecursionlimit(10000)\n",
    "    def is_balanced(root):\n",
    "        if not root:\n",
    "            return 0, True\n",
    "        lh, lb = is_balanced(root[1])\n",
    "        rh, rb = is_balanced(root[2])\n",
    "        balanced = lb and rb and abs(lh - rh) <= 1\n",
    "        return max(lh, rh) + 1, balanced\n",
    "\n",
    "    # Input format: (val, left_subtree, right_subtree) or None\n",
    "    tree = eval(input())  \n",
    "    print(\"Yes\" if is_balanced(tree)[1] else \"No\")\n",
    "solve()\n"
   ]
  },
  {
   "cell_type": "code",
   "execution_count": 17,
   "id": "4c6d47de-a8e7-461b-ab68-cebe6e375278",
   "metadata": {},
   "outputs": [
    {
     "name": "stdin",
     "output_type": "stream",
     "text": [
      " 3\n",
      " 1 3\n",
      " 2 5\n",
      " 4 7\n"
     ]
    },
    {
     "name": "stdout",
     "output_type": "stream",
     "text": [
      "2\n"
     ]
    }
   ],
   "source": [
    "def solve():\n",
    "    n = int(input())\n",
    "    intervals = [tuple(map(int, input().split())) for _ in range(n)]\n",
    "    intervals.sort(key=lambda x: x[1])\n",
    "    count, end = 0, 0\n",
    "    for s, e in intervals:\n",
    "        if s >= end:\n",
    "            count += 1\n",
    "            end = e\n",
    "    print(count)\n",
    "solve()\n"
   ]
  },
  {
   "cell_type": "code",
   "execution_count": 18,
   "id": "33440dde-33af-4c3c-a37c-99e9335e1135",
   "metadata": {},
   "outputs": [
    {
     "name": "stdin",
     "output_type": "stream",
     "text": [
      " 4\n"
     ]
    },
    {
     "name": "stdout",
     "output_type": "stream",
     "text": [
      "2\n"
     ]
    }
   ],
   "source": [
    "def solve():\n",
    "    def is_safe(board, row, col):\n",
    "        for i in range(row):\n",
    "            if board[i] == col or abs(board[i] - col) == abs(i - row):\n",
    "                return False\n",
    "        return True\n",
    "\n",
    "    def solve_nq(n):\n",
    "        def backtrack(row=0):\n",
    "            if row == n:\n",
    "                result.append(board[:])\n",
    "                return\n",
    "            for col in range(n):\n",
    "                if is_safe(board, row, col):\n",
    "                    board[row] = col\n",
    "                    backtrack(row + 1)\n",
    "        board = [-1] * n\n",
    "        result = []\n",
    "        backtrack()\n",
    "        return result\n",
    "\n",
    "    n = int(input())\n",
    "    solutions = solve_nq(n)\n",
    "    print(len(solutions))\n",
    "solve()\n"
   ]
  },
  {
   "cell_type": "code",
   "execution_count": 19,
   "id": "89f34e60-30af-4eab-8e0a-0e2f993d60ff",
   "metadata": {},
   "outputs": [
    {
     "name": "stdin",
     "output_type": "stream",
     "text": [
      " 1 2 5\n",
      " 11\n"
     ]
    },
    {
     "name": "stdout",
     "output_type": "stream",
     "text": [
      "3\n"
     ]
    }
   ],
   "source": [
    "def solve():\n",
    "    coins = list(map(int, input().split()))\n",
    "    amount = int(input())\n",
    "    dp = [float('inf')] * (amount + 1)\n",
    "    dp[0] = 0\n",
    "    for c in coins:\n",
    "        for i in range(c, amount + 1):\n",
    "            dp[i] = min(dp[i], dp[i - c] + 1)\n",
    "    print(dp[amount] if dp[amount] != float('inf') else -1)\n",
    "solve()\n"
   ]
  },
  {
   "cell_type": "code",
   "execution_count": 20,
   "id": "7a0cdb32-60de-44cc-9e22-a9bf75db0348",
   "metadata": {},
   "outputs": [
    {
     "name": "stdin",
     "output_type": "stream",
     "text": [
      " leetcode\n",
      " leet code\n"
     ]
    },
    {
     "name": "stdout",
     "output_type": "stream",
     "text": [
      "Yes\n"
     ]
    }
   ],
   "source": [
    "def solve():\n",
    "    s = input().strip()\n",
    "    word_dict = set(input().strip().split())\n",
    "    dp = [False] * (len(s)+1)\n",
    "    dp[0] = True\n",
    "    for i in range(1, len(s)+1):\n",
    "        for j in range(i):\n",
    "            if dp[j] and s[j:i] in word_dict:\n",
    "                dp[i] = True\n",
    "                break\n",
    "    print(\"Yes\" if dp[-1] else \"No\")\n",
    "solve()\n"
   ]
  },
  {
   "cell_type": "code",
   "execution_count": null,
   "id": "5a83ec84-b7e5-4663-a51b-11cd21c013ac",
   "metadata": {},
   "outputs": [],
   "source": [
    "import pandas as pd\n",
    "import numpy as np\n",
    "import matplotlib.pyplot as plt\n",
    "import seaborn as sns\n",
    "\n",
    "from sklearn.model_selection import train_test_split\n",
    "from sklearn.ensemble import RandomForestClassifier\n",
    "from sklearn.metrics import classification_report, confusion_matrix, accuracy_score, roc_auc_score, roc_curve\n"
   ]
  },
  {
   "cell_type": "code",
   "execution_count": 19,
   "id": "6c4f34c3-4179-4822-9dad-2f81b4d7f20a",
   "metadata": {},
   "outputs": [
    {
     "data": {
      "text/html": [
       "<div>\n",
       "<style scoped>\n",
       "    .dataframe tbody tr th:only-of-type {\n",
       "        vertical-align: middle;\n",
       "    }\n",
       "\n",
       "    .dataframe tbody tr th {\n",
       "        vertical-align: top;\n",
       "    }\n",
       "\n",
       "    .dataframe thead th {\n",
       "        text-align: right;\n",
       "    }\n",
       "</style>\n",
       "<table border=\"1\" class=\"dataframe\">\n",
       "  <thead>\n",
       "    <tr style=\"text-align: right;\">\n",
       "      <th></th>\n",
       "      <th>Name</th>\n",
       "      <th>Surname</th>\n",
       "      <th>Age</th>\n",
       "      <th>Smokes</th>\n",
       "      <th>AreaQ</th>\n",
       "      <th>Alkhol</th>\n",
       "      <th>Result</th>\n",
       "    </tr>\n",
       "  </thead>\n",
       "  <tbody>\n",
       "    <tr>\n",
       "      <th>0</th>\n",
       "      <td>John</td>\n",
       "      <td>Wick</td>\n",
       "      <td>35</td>\n",
       "      <td>3</td>\n",
       "      <td>5</td>\n",
       "      <td>4</td>\n",
       "      <td>1</td>\n",
       "    </tr>\n",
       "    <tr>\n",
       "      <th>1</th>\n",
       "      <td>John</td>\n",
       "      <td>Constantine</td>\n",
       "      <td>27</td>\n",
       "      <td>20</td>\n",
       "      <td>2</td>\n",
       "      <td>5</td>\n",
       "      <td>1</td>\n",
       "    </tr>\n",
       "    <tr>\n",
       "      <th>2</th>\n",
       "      <td>Camela</td>\n",
       "      <td>Anderson</td>\n",
       "      <td>30</td>\n",
       "      <td>0</td>\n",
       "      <td>5</td>\n",
       "      <td>2</td>\n",
       "      <td>0</td>\n",
       "    </tr>\n",
       "    <tr>\n",
       "      <th>3</th>\n",
       "      <td>Alex</td>\n",
       "      <td>Telles</td>\n",
       "      <td>28</td>\n",
       "      <td>0</td>\n",
       "      <td>8</td>\n",
       "      <td>1</td>\n",
       "      <td>0</td>\n",
       "    </tr>\n",
       "    <tr>\n",
       "      <th>4</th>\n",
       "      <td>Diego</td>\n",
       "      <td>Maradona</td>\n",
       "      <td>68</td>\n",
       "      <td>4</td>\n",
       "      <td>5</td>\n",
       "      <td>6</td>\n",
       "      <td>1</td>\n",
       "    </tr>\n",
       "  </tbody>\n",
       "</table>\n",
       "</div>"
      ],
      "text/plain": [
       "     Name      Surname  Age  Smokes  AreaQ  Alkhol  Result\n",
       "0    John         Wick   35       3      5       4       1\n",
       "1    John  Constantine   27      20      2       5       1\n",
       "2  Camela     Anderson   30       0      5       2       0\n",
       "3    Alex       Telles   28       0      8       1       0\n",
       "4   Diego     Maradona   68       4      5       6       1"
      ]
     },
     "execution_count": 19,
     "metadata": {},
     "output_type": "execute_result"
    }
   ],
   "source": [
    "df = pd.read_csv(\"lung_cancer.csv\")  # make sure this file is in your JupyterLab folder\n",
    "df.head()\n"
   ]
  },
  {
   "cell_type": "code",
   "execution_count": 32,
   "id": "dc67a1c3-1482-4456-958f-a2e60a4b7028",
   "metadata": {},
   "outputs": [
    {
     "name": "stdout",
     "output_type": "stream",
     "text": [
      "Collecting matplotlib\n",
      "  Downloading matplotlib-3.10.3-cp312-cp312-win_amd64.whl.metadata (11 kB)\n",
      "Collecting seaborn\n",
      "  Using cached seaborn-0.13.2-py3-none-any.whl.metadata (5.4 kB)\n",
      "Collecting contourpy>=1.0.1 (from matplotlib)\n",
      "  Downloading contourpy-1.3.2-cp312-cp312-win_amd64.whl.metadata (5.5 kB)\n",
      "Collecting cycler>=0.10 (from matplotlib)\n",
      "  Using cached cycler-0.12.1-py3-none-any.whl.metadata (3.8 kB)\n",
      "Collecting fonttools>=4.22.0 (from matplotlib)\n",
      "  Downloading fonttools-4.58.4-cp312-cp312-win_amd64.whl.metadata (108 kB)\n",
      "Collecting kiwisolver>=1.3.1 (from matplotlib)\n",
      "  Downloading kiwisolver-1.4.8-cp312-cp312-win_amd64.whl.metadata (6.3 kB)\n",
      "Requirement already satisfied: numpy>=1.23 in c:\\users\\stefi\\miniconda3\\envs\\py312\\lib\\site-packages (from matplotlib) (2.3.1)\n",
      "Requirement already satisfied: packaging>=20.0 in c:\\users\\stefi\\miniconda3\\envs\\py312\\lib\\site-packages (from matplotlib) (25.0)\n",
      "Collecting pillow>=8 (from matplotlib)\n",
      "  Downloading pillow-11.2.1-cp312-cp312-win_amd64.whl.metadata (9.1 kB)\n",
      "Collecting pyparsing>=2.3.1 (from matplotlib)\n",
      "  Downloading pyparsing-3.2.3-py3-none-any.whl.metadata (5.0 kB)\n",
      "Requirement already satisfied: python-dateutil>=2.7 in c:\\users\\stefi\\miniconda3\\envs\\py312\\lib\\site-packages (from matplotlib) (2.9.0.post0)\n",
      "Requirement already satisfied: pandas>=1.2 in c:\\users\\stefi\\miniconda3\\envs\\py312\\lib\\site-packages (from seaborn) (2.3.0)\n",
      "Requirement already satisfied: pytz>=2020.1 in c:\\users\\stefi\\miniconda3\\envs\\py312\\lib\\site-packages (from pandas>=1.2->seaborn) (2025.2)\n",
      "Requirement already satisfied: tzdata>=2022.7 in c:\\users\\stefi\\miniconda3\\envs\\py312\\lib\\site-packages (from pandas>=1.2->seaborn) (2025.2)\n",
      "Requirement already satisfied: six>=1.5 in c:\\users\\stefi\\miniconda3\\envs\\py312\\lib\\site-packages (from python-dateutil>=2.7->matplotlib) (1.17.0)\n",
      "Downloading matplotlib-3.10.3-cp312-cp312-win_amd64.whl (8.1 MB)\n",
      "   ---------------------------------------- 0.0/8.1 MB ? eta -:--:--\n",
      "   - -------------------------------------- 0.3/8.1 MB ? eta -:--:--\n",
      "   --- ------------------------------------ 0.8/8.1 MB 2.1 MB/s eta 0:00:04\n",
      "   ------ --------------------------------- 1.3/8.1 MB 2.4 MB/s eta 0:00:03\n",
      "   ------- -------------------------------- 1.6/8.1 MB 2.5 MB/s eta 0:00:03\n",
      "   ------- -------------------------------- 1.6/8.1 MB 2.5 MB/s eta 0:00:03\n",
      "   ------- -------------------------------- 1.6/8.1 MB 2.5 MB/s eta 0:00:03\n",
      "   ------- -------------------------------- 1.6/8.1 MB 2.5 MB/s eta 0:00:03\n",
      "   ------- -------------------------------- 1.6/8.1 MB 2.5 MB/s eta 0:00:03\n",
      "   ------- -------------------------------- 1.6/8.1 MB 2.5 MB/s eta 0:00:03\n",
      "   ------- -------------------------------- 1.6/8.1 MB 2.5 MB/s eta 0:00:03\n",
      "   ------- -------------------------------- 1.6/8.1 MB 2.5 MB/s eta 0:00:03\n",
      "   ------- -------------------------------- 1.6/8.1 MB 2.5 MB/s eta 0:00:03\n",
      "   ------- -------------------------------- 1.6/8.1 MB 2.5 MB/s eta 0:00:03\n",
      "   ------- -------------------------------- 1.6/8.1 MB 2.5 MB/s eta 0:00:03\n",
      "   ------- -------------------------------- 1.6/8.1 MB 2.5 MB/s eta 0:00:03\n",
      "   ------- -------------------------------- 1.6/8.1 MB 2.5 MB/s eta 0:00:03\n",
      "   --------- ------------------------------ 1.8/8.1 MB 477.1 kB/s eta 0:00:14\n",
      "   --------- ------------------------------ 1.8/8.1 MB 477.1 kB/s eta 0:00:14\n",
      "   --------- ------------------------------ 1.8/8.1 MB 477.1 kB/s eta 0:00:14\n",
      "   --------- ------------------------------ 1.8/8.1 MB 477.1 kB/s eta 0:00:14\n",
      "   --------- ------------------------------ 1.8/8.1 MB 477.1 kB/s eta 0:00:14\n",
      "   --------- ------------------------------ 1.8/8.1 MB 477.1 kB/s eta 0:00:14\n",
      "   --------- ------------------------------ 1.8/8.1 MB 477.1 kB/s eta 0:00:14\n",
      "   --------- ------------------------------ 1.8/8.1 MB 477.1 kB/s eta 0:00:14\n",
      "   --------- ------------------------------ 1.8/8.1 MB 477.1 kB/s eta 0:00:14\n",
      "   --------- ------------------------------ 1.8/8.1 MB 477.1 kB/s eta 0:00:14\n",
      "   ---------- ----------------------------- 2.1/8.1 MB 336.5 kB/s eta 0:00:18\n",
      "   ---------- ----------------------------- 2.1/8.1 MB 336.5 kB/s eta 0:00:18\n",
      "   ----------- ---------------------------- 2.4/8.1 MB 362.7 kB/s eta 0:00:16\n",
      "   -------------- ------------------------- 2.9/8.1 MB 432.4 kB/s eta 0:00:12\n",
      "   --------------- ------------------------ 3.1/8.1 MB 464.8 kB/s eta 0:00:11\n",
      "   ------------------ --------------------- 3.7/8.1 MB 526.8 kB/s eta 0:00:09\n",
      "   ------------------ --------------------- 3.7/8.1 MB 526.8 kB/s eta 0:00:09\n",
      "   ------------------ --------------------- 3.7/8.1 MB 526.8 kB/s eta 0:00:09\n",
      "   ------------------ --------------------- 3.7/8.1 MB 526.8 kB/s eta 0:00:09\n",
      "   ------------------ --------------------- 3.7/8.1 MB 526.8 kB/s eta 0:00:09\n",
      "   ------------------ --------------------- 3.7/8.1 MB 526.8 kB/s eta 0:00:09\n",
      "   ------------------ --------------------- 3.7/8.1 MB 526.8 kB/s eta 0:00:09\n",
      "   ------------------ --------------------- 3.7/8.1 MB 526.8 kB/s eta 0:00:09\n",
      "   ------------------ --------------------- 3.7/8.1 MB 526.8 kB/s eta 0:00:09\n",
      "   ------------------ --------------------- 3.7/8.1 MB 526.8 kB/s eta 0:00:09\n",
      "   ------------------ --------------------- 3.7/8.1 MB 526.8 kB/s eta 0:00:09\n",
      "   ------------------ --------------------- 3.7/8.1 MB 526.8 kB/s eta 0:00:09\n",
      "   ------------------ --------------------- 3.7/8.1 MB 526.8 kB/s eta 0:00:09\n",
      "   ------------------ --------------------- 3.7/8.1 MB 526.8 kB/s eta 0:00:09\n",
      "   ------------------ --------------------- 3.7/8.1 MB 526.8 kB/s eta 0:00:09\n",
      "   ------------------ --------------------- 3.7/8.1 MB 526.8 kB/s eta 0:00:09\n",
      "   ------------------ --------------------- 3.7/8.1 MB 526.8 kB/s eta 0:00:09\n",
      "   ------------------ --------------------- 3.7/8.1 MB 526.8 kB/s eta 0:00:09\n",
      "   ------------------ --------------------- 3.7/8.1 MB 526.8 kB/s eta 0:00:09\n",
      "   ------------------ --------------------- 3.7/8.1 MB 526.8 kB/s eta 0:00:09\n",
      "   ------------------ --------------------- 3.7/8.1 MB 526.8 kB/s eta 0:00:09\n",
      "   ------------------ --------------------- 3.7/8.1 MB 526.8 kB/s eta 0:00:09\n",
      "   ------------------ --------------------- 3.7/8.1 MB 526.8 kB/s eta 0:00:09\n",
      "   ------------------ --------------------- 3.7/8.1 MB 526.8 kB/s eta 0:00:09\n",
      "   ------------------ --------------------- 3.7/8.1 MB 526.8 kB/s eta 0:00:09\n",
      "   ------------------ --------------------- 3.7/8.1 MB 526.8 kB/s eta 0:00:09\n",
      "   ------------------ --------------------- 3.7/8.1 MB 526.8 kB/s eta 0:00:09\n",
      "   ------------------ --------------------- 3.7/8.1 MB 526.8 kB/s eta 0:00:09\n",
      "   ------------------ --------------------- 3.7/8.1 MB 526.8 kB/s eta 0:00:09\n",
      "   ------------------ --------------------- 3.7/8.1 MB 526.8 kB/s eta 0:00:09\n",
      "   ------------------ --------------------- 3.7/8.1 MB 526.8 kB/s eta 0:00:09\n",
      "   ------------------ --------------------- 3.7/8.1 MB 526.8 kB/s eta 0:00:09\n",
      "   ------------------ --------------------- 3.7/8.1 MB 526.8 kB/s eta 0:00:09\n",
      "   ------------------ --------------------- 3.7/8.1 MB 526.8 kB/s eta 0:00:09\n",
      "   ------------------ --------------------- 3.7/8.1 MB 526.8 kB/s eta 0:00:09\n",
      "   ------------------ --------------------- 3.7/8.1 MB 526.8 kB/s eta 0:00:09\n",
      "   ------------------ --------------------- 3.7/8.1 MB 526.8 kB/s eta 0:00:09\n",
      "   ------------------ --------------------- 3.7/8.1 MB 526.8 kB/s eta 0:00:09\n",
      "   ------------------ --------------------- 3.7/8.1 MB 526.8 kB/s eta 0:00:09\n",
      "   ------------------ --------------------- 3.7/8.1 MB 526.8 kB/s eta 0:00:09\n",
      "   ------------------ --------------------- 3.7/8.1 MB 526.8 kB/s eta 0:00:09\n",
      "   ------------------ --------------------- 3.7/8.1 MB 526.8 kB/s eta 0:00:09\n",
      "   ------------------ --------------------- 3.7/8.1 MB 526.8 kB/s eta 0:00:09\n",
      "   ------------------ --------------------- 3.7/8.1 MB 526.8 kB/s eta 0:00:09\n",
      "   ------------------ --------------------- 3.7/8.1 MB 526.8 kB/s eta 0:00:09\n",
      "   ------------------ --------------------- 3.7/8.1 MB 526.8 kB/s eta 0:00:09\n",
      "   -------------------- ------------------- 4.2/8.1 MB 247.2 kB/s eta 0:00:16\n",
      "   -------------------- ------------------- 4.2/8.1 MB 247.2 kB/s eta 0:00:16\n",
      "   ---------------------- ----------------- 4.5/8.1 MB 256.6 kB/s eta 0:00:15\n",
      "   ----------------------- ---------------- 4.7/8.1 MB 268.6 kB/s eta 0:00:13\n",
      "   ------------------------ --------------- 5.0/8.1 MB 280.4 kB/s eta 0:00:12\n",
      "   ------------------------- -------------- 5.2/8.1 MB 293.2 kB/s eta 0:00:10\n",
      "   --------------------------- ------------ 5.5/8.1 MB 304.5 kB/s eta 0:00:09\n",
      "   ----------------------------- ---------- 6.0/8.1 MB 329.6 kB/s eta 0:00:07\n",
      "   ------------------------------- -------- 6.3/8.1 MB 342.4 kB/s eta 0:00:06\n",
      "   ----------------------------------- ---- 7.1/8.1 MB 380.6 kB/s eta 0:00:03\n",
      "   ------------------------------------- -- 7.6/8.1 MB 405.3 kB/s eta 0:00:02\n",
      "   ---------------------------------------- 8.1/8.1 MB 427.7 kB/s eta 0:00:00\n",
      "Using cached seaborn-0.13.2-py3-none-any.whl (294 kB)\n",
      "Downloading contourpy-1.3.2-cp312-cp312-win_amd64.whl (223 kB)\n",
      "Using cached cycler-0.12.1-py3-none-any.whl (8.3 kB)\n",
      "Downloading fonttools-4.58.4-cp312-cp312-win_amd64.whl (2.2 MB)\n",
      "   ---------------------------------------- 0.0/2.2 MB ? eta -:--:--\n",
      "   --------- ------------------------------ 0.5/2.2 MB 3.4 MB/s eta 0:00:01\n",
      "   ----------------------- ---------------- 1.3/2.2 MB 3.4 MB/s eta 0:00:01\n",
      "   ---------------------------- ----------- 1.6/2.2 MB 3.4 MB/s eta 0:00:01\n",
      "   ---------------------------- ----------- 1.6/2.2 MB 3.4 MB/s eta 0:00:01\n",
      "   ---------------------------- ----------- 1.6/2.2 MB 3.4 MB/s eta 0:00:01\n",
      "   ---------------------------- ----------- 1.6/2.2 MB 3.4 MB/s eta 0:00:01\n",
      "   ---------------------------- ----------- 1.6/2.2 MB 3.4 MB/s eta 0:00:01\n",
      "   ---------------------------- ----------- 1.6/2.2 MB 3.4 MB/s eta 0:00:01\n",
      "   ---------------------------- ----------- 1.6/2.2 MB 3.4 MB/s eta 0:00:01\n",
      "   ---------------------------- ----------- 1.6/2.2 MB 3.4 MB/s eta 0:00:01\n",
      "   ---------------------------- ----------- 1.6/2.2 MB 3.4 MB/s eta 0:00:01\n",
      "   ---------------------------- ----------- 1.6/2.2 MB 3.4 MB/s eta 0:00:01\n",
      "   ---------------------------- ----------- 1.6/2.2 MB 3.4 MB/s eta 0:00:01\n",
      "   ---------------------------- ----------- 1.6/2.2 MB 3.4 MB/s eta 0:00:01\n",
      "   -------------------------------- ------- 1.8/2.2 MB 521.5 kB/s eta 0:00:01\n",
      "   ---------------------------------------- 2.2/2.2 MB 619.5 kB/s eta 0:00:00\n",
      "Downloading kiwisolver-1.4.8-cp312-cp312-win_amd64.whl (71 kB)\n",
      "Downloading pillow-11.2.1-cp312-cp312-win_amd64.whl (2.7 MB)\n",
      "   ---------------------------------------- 0.0/2.7 MB ? eta -:--:--\n",
      "   ------- -------------------------------- 0.5/2.7 MB 3.4 MB/s eta 0:00:01\n",
      "   ----------------------- ---------------- 1.6/2.7 MB 4.0 MB/s eta 0:00:01\n",
      "   ------------------------------- -------- 2.1/2.7 MB 3.8 MB/s eta 0:00:01\n",
      "   ---------------------------------------- 2.7/2.7 MB 3.5 MB/s eta 0:00:00\n",
      "Downloading pyparsing-3.2.3-py3-none-any.whl (111 kB)\n",
      "Installing collected packages: pyparsing, pillow, kiwisolver, fonttools, cycler, contourpy, matplotlib, seaborn\n",
      "\n",
      "   ---------------------------------------- 0/8 [pyparsing]\n",
      "   ----- ---------------------------------- 1/8 [pillow]\n",
      "   ----- ---------------------------------- 1/8 [pillow]\n",
      "   ----- ---------------------------------- 1/8 [pillow]\n",
      "   --------------- ------------------------ 3/8 [fonttools]\n",
      "   --------------- ------------------------ 3/8 [fonttools]\n",
      "   --------------- ------------------------ 3/8 [fonttools]\n",
      "   --------------- ------------------------ 3/8 [fonttools]\n",
      "   --------------- ------------------------ 3/8 [fonttools]\n",
      "   --------------- ------------------------ 3/8 [fonttools]\n",
      "   --------------- ------------------------ 3/8 [fonttools]\n",
      "   --------------- ------------------------ 3/8 [fonttools]\n",
      "   --------------- ------------------------ 3/8 [fonttools]\n",
      "   --------------- ------------------------ 3/8 [fonttools]\n",
      "   --------------- ------------------------ 3/8 [fonttools]\n",
      "   -------------------- ------------------- 4/8 [cycler]\n",
      "   ------------------------------ --------- 6/8 [matplotlib]\n",
      "   ------------------------------ --------- 6/8 [matplotlib]\n",
      "   ------------------------------ --------- 6/8 [matplotlib]\n",
      "   ------------------------------ --------- 6/8 [matplotlib]\n",
      "   ------------------------------ --------- 6/8 [matplotlib]\n",
      "   ------------------------------ --------- 6/8 [matplotlib]\n",
      "   ------------------------------ --------- 6/8 [matplotlib]\n",
      "   ------------------------------ --------- 6/8 [matplotlib]\n",
      "   ------------------------------ --------- 6/8 [matplotlib]\n",
      "   ------------------------------ --------- 6/8 [matplotlib]\n",
      "   ------------------------------ --------- 6/8 [matplotlib]\n",
      "   ------------------------------ --------- 6/8 [matplotlib]\n",
      "   ------------------------------ --------- 6/8 [matplotlib]\n",
      "   ------------------------------ --------- 6/8 [matplotlib]\n",
      "   ------------------------------ --------- 6/8 [matplotlib]\n",
      "   ------------------------------ --------- 6/8 [matplotlib]\n",
      "   ------------------------------ --------- 6/8 [matplotlib]\n",
      "   ----------------------------------- ---- 7/8 [seaborn]\n",
      "   ----------------------------------- ---- 7/8 [seaborn]\n",
      "   ---------------------------------------- 8/8 [seaborn]\n",
      "\n",
      "Successfully installed contourpy-1.3.2 cycler-0.12.1 fonttools-4.58.4 kiwisolver-1.4.8 matplotlib-3.10.3 pillow-11.2.1 pyparsing-3.2.3 seaborn-0.13.2\n"
     ]
    }
   ],
   "source": [
    "!pip install matplotlib seaborn\n"
   ]
  },
  {
   "cell_type": "code",
   "execution_count": 39,
   "id": "1f605054-f697-451b-8567-92a3756c826d",
   "metadata": {},
   "outputs": [
    {
     "name": "stdout",
     "output_type": "stream",
     "text": [
      "Performance Points \n",
      "Accuracy Point : 94.44\n",
      "Precision Point: 100.00\n",
      "Recall Point   : 85.71\n",
      "F1-score Point : 92.31\n"
     ]
    },
    {
     "data": {
      "image/png": "[encoded data removed]",
      "text/plain": [
       "<Figure size 500x300 with 2 Axes>"
      ]
     },
     "metadata": {},
     "output_type": "display_data"
    }
   ],
   "source": [
    "import pandas as pd\n",
    "from sklearn.model_selection import train_test_split\n",
    "from sklearn.ensemble import RandomForestClassifier\n",
    "from sklearn.metrics import accuracy_score, classification_report\n",
    "import seaborn as sns\n",
    "import matplotlib.pyplot as plt\n",
    "df = pd.read_csv(\"lung_cancer.csv\")  \n",
    "df.columns = df.columns.str.strip().str.upper().str.replace(\" \", \"_\")\n",
    "df.replace({'YES': 1, 'NO': 0, 'M': 1, 'F': 0}, inplace=True)\n",
    "df.dropna(inplace=True)\n",
    "X = df.drop([\"RESULT\", \"NAME\", \"SURNAME\"], axis=1)\n",
    "y = df[\"RESULT\"]\n",
    "X_train, X_test, y_train, y_test = train_test_split(X, y, test_size=0.3, random_state=42)\n",
    "model = RandomForestClassifier(n_estimators=100, random_state=42)\n",
    "model.fit(X_train, y_train)\n",
    "y_pred = model.predict(X_test)\n",
    "report = classification_report(y_test, y_pred, output_dict=True)\n",
    "acc = accuracy_score(y_test, y_pred)\n",
    "prec = report['1']['precision']\n",
    "rec = report['1']['recall']\n",
    "f1 = report['1']['f1-score']\n",
    "print(\"Performance Points \")\n",
    "print(f\"Accuracy Point : {acc*100:.2f}\")\n",
    "print(f\"Precision Point: {prec*100:.2f}\")\n",
    "print(f\"Recall Point   : {rec*100:.2f}\")\n",
    "print(f\"F1-score Point : {f1*100:.2f}\")\n",
    "plt.figure(figsize=(5, 3))\n",
    "sns.heatmap(pd.crosstab(y_test, y_pred), annot=True, fmt=\"d\", cmap=\"Greens\")\n",
    "plt.xlabel(\"Predicted\")\n",
    "plt.ylabel(\"Actual\")\n",
    "plt.title(\"Confusion Matrix\")\n",
    "plt.show()\n"
   ]
  },
  {
   "cell_type": "code",
   "execution_count": 40,
   "id": "ec37dffd-9d77-4bff-9176-822aa304ea25",
   "metadata": {},
   "outputs": [
    {
     "name": "stdout",
     "output_type": "stream",
     "text": [
      "Performance Points\n",
      "Accuracy Point : 82.42\n",
      "Precision Point: 84.00\n",
      "Recall Point   : 84.00\n",
      "F1-score Point : 84.00\n"
     ]
    },
    {
     "data": {
      "image/png": "[encoded data removed]",
      "text/plain": [
       "<Figure size 500x300 with 2 Axes>"
      ]
     },
     "metadata": {},
     "output_type": "display_data"
    }
   ],
   "source": [
    "import pandas as pd\n",
    "from sklearn.model_selection import train_test_split\n",
    "from sklearn.ensemble import RandomForestClassifier\n",
    "from sklearn.metrics import accuracy_score, classification_report\n",
    "import seaborn as sns\n",
    "import matplotlib.pyplot as plt\n",
    "df = pd.read_csv(\"heart.csv\")  \n",
    "df.columns = df.columns.str.strip().str.upper().str.replace(\" \", \"_\")\n",
    "df.dropna(inplace=True)\n",
    "X = df.drop(\"TARGET\", axis=1)\n",
    "y = df[\"TARGET\"]\n",
    "X_train, X_test, y_train, y_test = train_test_split(X, y, test_size=0.3, random_state=42)\n",
    "model = RandomForestClassifier(n_estimators=100, random_state=42)\n",
    "model.fit(X_train, y_train)\n",
    "y_pred = model.predict(X_test)\n",
    "report = classification_report(y_test, y_pred, output_dict=True)\n",
    "acc = accuracy_score(y_test, y_pred)\n",
    "prec = report['1']['precision']\n",
    "rec = report['1']['recall']\n",
    "f1 = report['1']['f1-score']\n",
    "print(\"Performance Points\")\n",
    "print(f\"Accuracy Point : {acc*100:.2f}\")\n",
    "print(f\"Precision Point: {prec*100:.2f}\")\n",
    "print(f\"Recall Point   : {rec*100:.2f}\")\n",
    "print(f\"F1-score Point : {f1*100:.2f}\")\n",
    "plt.figure(figsize=(5, 3))\n",
    "sns.heatmap(pd.crosstab(y_test, y_pred), annot=True, fmt=\"d\", cmap=\"Blues\")\n",
    "plt.xlabel(\"Predicted\")\n",
    "plt.ylabel(\"Actual\")\n",
    "plt.title(\"Confusion Matrix\")\n",
    "plt.show()\n"
   ]
  },
  {
   "cell_type": "code",
   "execution_count": 41,
   "id": "860cdfd0-1c8f-41b3-8a0d-bc9e10ea9874",
   "metadata": {},
   "outputs": [
    {
     "name": "stdout",
     "output_type": "stream",
     "text": [
      "Performance Points\n",
      "Accuracy Point : 75.32\n",
      "Precision Point: 63.86\n",
      "Recall Point   : 66.25\n",
      "F1-score Point : 65.03\n"
     ]
    },
    {
     "data": {
      "image/png": "[encoded data removed]",
      "text/plain": [
       "<Figure size 500x300 with 2 Axes>"
      ]
     },
     "metadata": {},
     "output_type": "display_data"
    }
   ],
   "source": [
    "import pandas as pd\n",
    "from sklearn.model_selection import train_test_split\n",
    "from sklearn.ensemble import RandomForestClassifier\n",
    "from sklearn.metrics import accuracy_score, classification_report\n",
    "import seaborn as sns\n",
    "import matplotlib.pyplot as plt\n",
    "df = pd.read_csv(\"diabetes.csv\")\n",
    "df.columns = df.columns.str.strip().str.upper().str.replace(\" \", \"_\")\n",
    "df.dropna(inplace=True)\n",
    "X = df.drop(\"OUTCOME\", axis=1)\n",
    "y = df[\"OUTCOME\"]\n",
    "X_train, X_test, y_train, y_test = train_test_split(X, y, test_size=0.3, random_state=42)\n",
    "model = RandomForestClassifier(n_estimators=100, random_state=42)\n",
    "model.fit(X_train, y_train)\n",
    "y_pred = model.predict(X_test)\n",
    "report = classification_report(y_test, y_pred, output_dict=True)\n",
    "acc = accuracy_score(y_test, y_pred)\n",
    "prec = report['1']['precision']\n",
    "rec = report['1']['recall']\n",
    "f1 = report['1']['f1-score']\n",
    "print(\"Performance Points\")\n",
    "print(f\"Accuracy Point : {acc*100:.2f}\")\n",
    "print(f\"Precision Point: {prec*100:.2f}\")\n",
    "print(f\"Recall Point   : {rec*100:.2f}\")\n",
    "print(f\"F1-score Point : {f1*100:.2f}\")\n",
    "plt.figure(figsize=(5, 3))\n",
    "sns.heatmap(pd.crosstab(y_test, y_pred), annot=True, fmt=\"d\", cmap=\"Purples\")\n",
    "plt.xlabel(\"Predicted\")\n",
    "plt.ylabel(\"Actual\")\n",
    "plt.title(\"Confusion Matrix\")\n",
    "plt.show()\n"
   ]
  },
  {
   "cell_type": "code",
   "execution_count": 48,
   "id": "fed2c8fd-fe09-4cb2-b939-119d04d7ca35",
   "metadata": {},
   "outputs": [
    {
     "name": "stdout",
     "output_type": "stream",
     "text": [
      "Performance Points\n",
      "Accuracy Point : 97.08\n",
      "Precision Point: 98.33\n",
      "Recall Point   : 93.65\n",
      "F1-score Point : 95.93\n"
     ]
    },
    {
     "data": {
      "image/png": "[encoded data removed]",
      "text/plain": [
       "<Figure size 500x300 with 2 Axes>"
      ]
     },
     "metadata": {},
     "output_type": "display_data"
    }
   ],
   "source": [
    "import pandas as pd\n",
    "from sklearn.model_selection import train_test_split\n",
    "from sklearn.ensemble import RandomForestClassifier\n",
    "from sklearn.metrics import accuracy_score, classification_report\n",
    "import seaborn as sns\n",
    "import matplotlib.pyplot as plt\n",
    "df = pd.read_csv(\"breast_cancer.csv\")\n",
    "df.columns = df.columns.str.strip().str.upper().str.replace(\" \", \"_\")\n",
    "df['DIAGNOSIS'] = df['DIAGNOSIS'].replace({'M': 1, 'B': 0})\n",
    "df = df.infer_objects(copy=False)\n",
    "df.dropna(inplace=True)\n",
    "X = df.drop([\"DIAGNOSIS\", \"ID\"], axis=1, errors='ignore')\n",
    "y = df[\"DIAGNOSIS\"]\n",
    "X_train, X_test, y_train, y_test = train_test_split(X, y, test_size=0.3, random_state=42)\n",
    "model = RandomForestClassifier(n_estimators=100, random_state=42)\n",
    "model.fit(X_train, y_train)\n",
    "y_pred = model.predict(X_test)\n",
    "report = classification_report(y_test, y_pred, output_dict=True)\n",
    "acc = accuracy_score(y_test, y_pred)\n",
    "prec = report['1']['precision']\n",
    "rec = report['1']['recall']\n",
    "f1 = report['1']['f1-score']\n",
    "print(\"Performance Points\")\n",
    "print(f\"Accuracy Point : {acc*100:.2f}\")\n",
    "print(f\"Precision Point: {prec*100:.2f}\")\n",
    "print(f\"Recall Point   : {rec*100:.2f}\")\n",
    "print(f\"F1-score Point : {f1*100:.2f}\")\n",
    "plt.figure(figsize=(5, 3))\n",
    "sns.heatmap(pd.crosstab(y_test, y_pred), annot=True, fmt=\"d\", cmap=\"Reds\")\n",
    "plt.xlabel(\"Predicted\")\n",
    "plt.ylabel(\"Actual\")\n",
    "plt.title(\"Confusion Matrix\")\n",
    "plt.show()\n"
   ]
  },
  {
   "cell_type": "code",
   "execution_count": 53,
   "id": "f92f0840-f27a-4d57-96a3-49b9314a455d",
   "metadata": {},
   "outputs": [
    {
     "name": "stdout",
     "output_type": "stream",
     "text": [
      "Performance Points\n",
      "Accuracy Point : 100.00\n",
      "Precision Point: 100.00\n",
      "Recall Point   : 100.00\n",
      "F1-score Point : 100.00\n"
     ]
    },
    {
     "data": {
      "image/png": "[encoded data removed]",
      "text/plain": [
       "<Figure size 500x300 with 2 Axes>"
      ]
     },
     "metadata": {},
     "output_type": "display_data"
    }
   ],
   "source": [
    "import pandas as pd\n",
    "from sklearn.model_selection import train_test_split\n",
    "from sklearn.ensemble import RandomForestClassifier\n",
    "from sklearn.metrics import accuracy_score, classification_report\n",
    "import seaborn as sns\n",
    "import matplotlib.pyplot as plt\n",
    "df = pd.read_csv(\"kidney_disease.csv\")\n",
    "df.columns = df.columns.str.strip().str.upper().str.replace(\" \", \"_\")\n",
    "df.replace({\n",
    "    'yes': 1, 'no': 0,\n",
    "    'normal': 0, 'abnormal': 1,\n",
    "    'present': 1, 'notpresent': 0,\n",
    "    'ckd': 1, 'notckd': 0,\n",
    "    'CKD': 1, 'NOTCKD': 0,\n",
    "    'good': 1, 'poor': 0\n",
    "}, inplace=True)\n",
    "df.drop(['ID'], axis=1, errors='ignore', inplace=True)\n",
    "df.dropna(inplace=True)\n",
    "df['CLASSIFICATION'] = df['CLASSIFICATION'].astype(int)\n",
    "X = df.drop(\"CLASSIFICATION\", axis=1)\n",
    "y = df[\"CLASSIFICATION\"]\n",
    "X_train, X_test, y_train, y_test = train_test_split(\n",
    "    X, y, test_size=0.3, random_state=42\n",
    ")\n",
    "\n",
    "model = RandomForestClassifier(n_estimators=100, random_state=42)\n",
    "model.fit(X_train, y_train)\n",
    "y_pred = model.predict(X_test)\n",
    "report = classification_report(y_test, y_pred, output_dict=True)\n",
    "acc = accuracy_score(y_test, y_pred)\n",
    "prec = report['1']['precision']\n",
    "rec = report['1']['recall']\n",
    "f1 = report['1']['f1-score']\n",
    "print(\"Performance Points\")\n",
    "print(f\"Accuracy Point : {acc*100:.2f}\")\n",
    "print(f\"Precision Point: {prec*100:.2f}\")\n",
    "print(f\"Recall Point   : {rec*100:.2f}\")\n",
    "print(f\"F1-score Point : {f1*100:.2f}\")\n",
    "plt.figure(figsize=(5, 3))\n",
    "sns.heatmap(pd.crosstab(y_test, y_pred), annot=True, fmt=\"d\", cmap=\"YlGn\")\n",
    "plt.xlabel(\"Predicted\")\n",
    "plt.ylabel(\"Actual\")\n",
    "plt.title(\"Confusion Matrix\")\n",
    "plt.show()\n"
   ]
  },
  {
   "cell_type": "code",
   "execution_count": 55,
   "id": "ae1193c5-b45c-4df5-a97e-07c1e9481f5b",
   "metadata": {},
   "outputs": [
    {
     "name": "stdout",
     "output_type": "stream",
     "text": [
      "Performance Points\n",
      "Accuracy Point : 93.22\n",
      "Precision Point: 93.48\n",
      "Recall Point   : 97.73\n",
      "F1-score Point : 95.56\n"
     ]
    },
    {
     "data": {
      "image/png": "[encoded data removed]",
      "text/plain": [
       "<Figure size 500x300 with 2 Axes>"
      ]
     },
     "metadata": {},
     "output_type": "display_data"
    }
   ],
   "source": [
    "import pandas as pd\n",
    "from sklearn.model_selection import train_test_split\n",
    "from sklearn.ensemble import RandomForestClassifier\n",
    "from sklearn.metrics import accuracy_score, classification_report\n",
    "import seaborn as sns\n",
    "import matplotlib.pyplot as plt\n",
    "df = pd.read_csv(\"parkinsons.csv\")\n",
    "df.drop(\"name\", axis=1, inplace=True)\n",
    "X = df.drop(\"status\", axis=1)   # status = 1 (Parkinson's), 0 (Healthy)\n",
    "y = df[\"status\"]\n",
    "X_train, X_test, y_train, y_test = train_test_split(\n",
    "    X, y, test_size=0.3, random_state=42\n",
    ")\n",
    "model = RandomForestClassifier(n_estimators=100, random_state=42)\n",
    "model.fit(X_train, y_train)\n",
    "y_pred = model.predict(X_test)\n",
    "report = classification_report(y_test, y_pred, output_dict=True)\n",
    "acc = accuracy_score(y_test, y_pred)\n",
    "prec = report['1']['precision']\n",
    "rec = report['1']['recall']\n",
    "f1 = report['1']['f1-score']\n",
    "print(\"Performance Points\")\n",
    "print(f\"Accuracy Point : {acc*100:.2f}\")\n",
    "print(f\"Precision Point: {prec*100:.2f}\")\n",
    "print(f\"Recall Point   : {rec*100:.2f}\")\n",
    "print(f\"F1-score Point : {f1*100:.2f}\")\n",
    "plt.figure(figsize=(5, 3))\n",
    "sns.heatmap(pd.crosstab(y_test, y_pred), annot=True, fmt=\"d\", cmap=\"Oranges\")\n",
    "plt.xlabel(\"Predicted\")\n",
    "plt.ylabel(\"Actual\")\n",
    "plt.title(\"Confusion Matrix\")\n",
    "plt.show()\n"
   ]
  },
  {
   "cell_type": "code",
   "execution_count": 60,
   "id": "8c293ea3-dcb9-4a9a-8113-e53473b730a0",
   "metadata": {},
   "outputs": [
    {
     "name": "stdout",
     "output_type": "stream",
     "text": [
      "Performance Metrics\n",
      "Accuracy: 13.15%\n",
      "Class 1: Precision 13.21%, Recall 12.83%, F1 13.02%\n",
      "Class 2: Precision 13.19%, Recall 12.76%, F1 12.97%\n",
      "Class 3: Precision 12.98%, Recall 13.40%, F1 13.18%\n"
     ]
    },
    {
     "data": {
      "image/png": "[encoded data removed]",
      "text/plain": [
       "<Figure size 500x300 with 2 Axes>"
      ]
     },
     "metadata": {},
     "output_type": "display_data"
    }
   ],
   "source": [
    "import pandas as pd\n",
    "from sklearn.model_selection import train_test_split\n",
    "from sklearn.ensemble import RandomForestClassifier\n",
    "from sklearn.metrics import accuracy_score, classification_report\n",
    "import seaborn as sns\n",
    "import matplotlib.pyplot as plt\n",
    "df = pd.read_csv(\"COVID19_symptoms.csv\")\n",
    "df.columns = df.columns.str.strip().str.upper().str.replace(\" \", \"_\")\n",
    "df.replace({\n",
    "    'YES': 1, 'NO': 0,\n",
    "    'NONE': 0,\n",
    "    'GOOD': 1, 'POOR': 0,\n",
    "    'FEMALE': 0, 'MALE': 1, 'TRANSGENDER': 2,\n",
    "    \"DON'T-KNOW\": 2\n",
    "}, inplace=True)\n",
    "df.drop(['COUNTRY'], axis=1, inplace=True)\n",
    "df.dropna(inplace=True)\n",
    "def encode_severity(row):\n",
    "    if row['SEVERITY_NONE'] == 1:\n",
    "        return 0\n",
    "    elif row['SEVERITY_MILD'] == 1:\n",
    "        return 1\n",
    "    elif row['SEVERITY_MODERATE'] == 1:\n",
    "        return 2\n",
    "    elif row['SEVERITY_SEVERE'] == 1:\n",
    "        return 3\n",
    "    else:\n",
    "        return -1  \n",
    "df['SEVERITY_LABEL'] = df.apply(encode_severity, axis=1)\n",
    "df.drop(['SEVERITY_NONE', 'SEVERITY_MILD', 'SEVERITY_MODERATE', 'SEVERITY_SEVERE'], axis=1, inplace=True)\n",
    "X = df.drop(\"SEVERITY_LABEL\", axis=1)\n",
    "y = df[\"SEVERITY_LABEL\"]\n",
    "X_train, X_test, y_train, y_test = train_test_split(\n",
    "    X, y, test_size=0.3, random_state=42\n",
    ")\n",
    "\n",
    "model = RandomForestClassifier(n_estimators=100, random_state=42)\n",
    "model.fit(X_train, y_train)\n",
    "y_pred = model.predict(X_test)\n",
    "report = classification_report(y_test, y_pred, output_dict=True)\n",
    "acc = accuracy_score(y_test, y_pred)\n",
    "\n",
    "print(\"Performance Metrics\")\n",
    "print(f\"Accuracy: {acc*100:.2f}%\")\n",
    "for cls in [\"1\", \"2\", \"3\"]:\n",
    "    if cls in report:\n",
    "        print(f\"Class {cls}: Precision {report[cls]['precision']*100:.2f}%, Recall {report[cls]['recall']*100:.2f}%, F1 {report[cls]['f1-score']*100:.2f}%\")\n",
    "plt.figure(figsize=(5, 3))\n",
    "sns.heatmap(pd.crosstab(y_test, y_pred), annot=True, fmt=\"d\", cmap=\"Blues\")\n",
    "plt.xlabel(\"Predicted Severity\")\n",
    "plt.ylabel(\"Actual Severity\")\n",
    "plt.title(\"Confusion Matrix - COVID Severity\")\n",
    "plt.show()\n"
   ]
  },
  {
   "cell_type": "code",
   "execution_count": 62,
   "id": "c9fc7c1a-9f5b-4919-8e80-c6e8d97d5268",
   "metadata": {},
   "outputs": [
    {
     "name": "stdout",
     "output_type": "stream",
     "text": [
      "📊 Mental Health Classification\n",
      "✅ Accuracy       : 35.71%\n",
      "🎯 Precision (Yes): 34.29%\n",
      "🔁 Recall (Yes)   : 23.08%\n",
      "📌 F1-score (Yes) : 27.59%\n"
     ]
    },
    {
     "data": {
      "image/png": "[encoded data removed]",
      "text/plain": [
       "<Figure size 500x300 with 2 Axes>"
      ]
     },
     "metadata": {},
     "output_type": "display_data"
    }
   ],
   "source": [
    "import pandas as pd\n",
    "from sklearn.model_selection import train_test_split\n",
    "from sklearn.ensemble import RandomForestClassifier\n",
    "from sklearn.metrics import accuracy_score, classification_report\n",
    "import seaborn as sns\n",
    "import matplotlib.pyplot as plt\n",
    "df = pd.read_csv(\"survey.csv\")\n",
    "df = df[[\"Age\", \"Gender\", \"family_history\", \"benefits\", \"care_options\", \"seek_help\", \"mental_health_consequence\"]]\n",
    "df.dropna(inplace=True)\n",
    "def clean_gender(g):\n",
    "    g = g.lower()\n",
    "    if \"male\" in g:\n",
    "        return 0\n",
    "    elif \"female\" in g:\n",
    "        return 1\n",
    "    else:\n",
    "        return 2\n",
    "df[\"Gender\"] = df[\"Gender\"].apply(clean_gender)\n",
    "df.replace({\n",
    "    \"Yes\": 1, \"No\": 0,\n",
    "    \"Don't know\": 2, \"Not sure\": 2, \"Maybe\": 2,\n",
    "    \"Some of them\": 1, \"Not available\": 0\n",
    "}, inplace=True)\n",
    "df[\"mental_health_consequence\"] = df[\"mental_health_consequence\"].replace({\n",
    "    \"Yes\": 1,\n",
    "    \"No\": 0,\n",
    "    \"Maybe\": 1   # Treat \"Maybe\" as potential consequence\n",
    "})\n",
    "df[\"mental_health_consequence\"] = df[\"mental_health_consequence\"].astype(int)\n",
    "X = df.drop(\"mental_health_consequence\", axis=1)\n",
    "y = df[\"mental_health_consequence\"]\n",
    "X_train, X_test, y_train, y_test = train_test_split(\n",
    "    X, y, test_size=0.3, random_state=42\n",
    ")\n",
    "model = RandomForestClassifier(n_estimators=100, random_state=42)\n",
    "model.fit(X_train, y_train)\n",
    "y_pred = model.predict(X_test)\n",
    "report = classification_report(y_test, y_pred, output_dict=True)\n",
    "acc = accuracy_score(y_test, y_pred)\n",
    "print(\"Mental Health Classification\")\n",
    "print(f\"Accuracy       : {acc*100:.2f}%\")\n",
    "print(f\"Precision (Yes): {report['1']['precision']*100:.2f}%\")\n",
    "print(f\"Recall (Yes)   : {report['1']['recall']*100:.2f}%\")\n",
    "print(f\"F1-score (Yes) : {report['1']['f1-score']*100:.2f}%\")\n",
    "plt.figure(figsize=(5, 3))\n",
    "sns.heatmap(pd.crosstab(y_test, y_pred), annot=True, fmt=\"d\", cmap=\"Oranges\")\n",
    "plt.xlabel(\"Predicted\")\n",
    "plt.ylabel(\"Actual\")\n",
    "plt.title(\"Confusion Matrix - Mental Health Impact\")\n",
    "plt.show()\n"
   ]
  },
  {
   "cell_type": "code",
   "execution_count": 65,
   "id": "4be56168-5f64-45b9-91cb-8a26a051915f",
   "metadata": {},
   "outputs": [
    {
     "name": "stdout",
     "output_type": "stream",
     "text": [
      "Columns in CSV: ['Unnamed: 0', 'Stock_1', 'Stock_2', 'Stock_3', 'Stock_4', 'Stock_5']\n",
      "RMSE: 0.98\n",
      "R² Score: 0.96\n"
     ]
    },
    {
     "data": {
      "image/png": "[encoded data removed]",
      "text/plain": [
       "<Figure size 1000x500 with 1 Axes>"
      ]
     },
     "metadata": {},
     "output_type": "display_data"
    }
   ],
   "source": [
    "import pandas as pd\n",
    "import numpy as np\n",
    "import matplotlib.pyplot as plt\n",
    "from sklearn.model_selection import train_test_split\n",
    "from sklearn.linear_model import LinearRegression\n",
    "from sklearn.metrics import mean_squared_error, r2_score\n",
    "df = pd.read_csv(\"stock_data.csv\")\n",
    "print(\"Columns in CSV:\", df.columns.tolist())\n",
    "date_col = [col for col in df.columns if 'date' in col.lower() or 'time' in col.lower()]\n",
    "if date_col:\n",
    "    df[date_col[0]] = pd.to_datetime(df[date_col[0]])\n",
    "    df.set_index(date_col[0], inplace=True)\n",
    "stock_col = df.select_dtypes(include='number').columns[0]\n",
    "data = df[[stock_col]].dropna()\n",
    "data.rename(columns={stock_col: \"Close\"}, inplace=True)\n",
    "data[\"Target\"] = data[\"Close\"].shift(-1)\n",
    "data.dropna(inplace=True)\n",
    "X = data[[\"Close\"]]\n",
    "y = data[\"Target\"]\n",
    "X_train, X_test, y_train, y_test = train_test_split(X, y, test_size=0.2, shuffle=False)\n",
    "model = LinearRegression()\n",
    "model.fit(X_train, y_train)\n",
    "y_pred = model.predict(X_test)\n",
    "rmse = np.sqrt(mean_squared_error(y_test, y_pred))\n",
    "r2 = r2_score(y_test, y_pred)\n",
    "print(f\"RMSE: {rmse:.2f}\")\n",
    "print(f\"R² Score: {r2:.2f}\")\n",
    "plt.figure(figsize=(10, 5))\n",
    "plt.plot(y_test.index, y_test, label=\"Actual\")\n",
    "plt.plot(y_test.index, y_pred, label=\"Predicted\")\n",
    "plt.title(f\"{stock_col} - Next Day Price Prediction\")\n",
    "plt.xlabel(\"Date\")\n",
    "plt.ylabel(\"Price\")\n",
    "plt.legend()\n",
    "plt.show()\n"
   ]
  },
  {
   "cell_type": "code",
   "execution_count": 67,
   "id": "a26c24aa-85e2-4d90-97ba-45d1ec59f5dd",
   "metadata": {},
   "outputs": [
    {
     "name": "stdout",
     "output_type": "stream",
     "text": [
      " RMSE: 2.13\n",
      " R² Score: 0.79\n"
     ]
    },
    {
     "data": {
      "image/png": "[encoded data removed]",
      "text/plain": [
       "<Figure size 1200x600 with 1 Axes>"
      ]
     },
     "metadata": {},
     "output_type": "display_data"
    }
   ],
   "source": [
    "import pandas as pd\n",
    "import numpy as np\n",
    "import matplotlib.pyplot as plt\n",
    "from sklearn.ensemble import RandomForestRegressor\n",
    "from sklearn.metrics import mean_squared_error, r2_score\n",
    "from sklearn.model_selection import train_test_split\n",
    "df = pd.read_csv(\"stock_data.csv\")\n",
    "date_col = [col for col in df.columns if 'date' in col.lower() or 'time' in col.lower()]\n",
    "if date_col:\n",
    "    df[date_col[0]] = pd.to_datetime(df[date_col[0]])\n",
    "    df.set_index(date_col[0], inplace=True)\n",
    "stock_col = df.select_dtypes(include='number').columns[0]\n",
    "df = df[[stock_col]].rename(columns={stock_col: \"Close\"})\n",
    "df[\"MA_5\"] = df[\"Close\"].rolling(window=5).mean()\n",
    "df[\"MA_10\"] = df[\"Close\"].rolling(window=10).mean()\n",
    "df[\"Daily_Return\"] = df[\"Close\"].pct_change()\n",
    "df[\"Target\"] = df[\"Close\"].shift(-1)  # Predict next day's price\n",
    "df.dropna(inplace=True)\n",
    "X = df[[\"Close\", \"MA_5\", \"MA_10\", \"Daily_Return\"]]\n",
    "y = df[\"Target\"]\n",
    "X_train, X_test, y_train, y_test = train_test_split(X, y, shuffle=False, test_size=0.2)\n",
    "model = RandomForestRegressor(n_estimators=100, random_state=42)\n",
    "model.fit(X_train, y_train)\n",
    "y_pred = model.predict(X_test)\n",
    "rmse = np.sqrt(mean_squared_error(y_test, y_pred))\n",
    "r2 = r2_score(y_test, y_pred)\n",
    "print(f\" RMSE: {rmse:.2f}\")\n",
    "print(f\" R² Score: {r2:.2f}\")\n",
    "plt.figure(figsize=(12, 6))\n",
    "plt.plot(y_test.index, y_test, label=\"Actual\", linewidth=2)\n",
    "plt.plot(y_test.index, y_pred, label=\"Predicted\", linestyle='--')\n",
    "plt.title(\"Stock Price Prediction with Moving Averages\")\n",
    "plt.xlabel(\"Date\")\n",
    "plt.ylabel(\"Price\")\n",
    "plt.legend()\n",
    "plt.tight_layout()\n",
    "plt.show()\n"
   ]
  },
  {
   "cell_type": "code",
   "execution_count": 68,
   "id": "08ffbaaf-591f-4d10-baf8-5e91700b57f4",
   "metadata": {},
   "outputs": [
    {
     "name": "stdout",
     "output_type": "stream",
     "text": [
      "Final Score: 200\n",
      "       city  points  code status\n",
      "0   Toronto      90     1   Pass\n",
      "1  Montreal      80     2   Fail\n",
      "2  Waterloo     100     3   Pass\n"
     ]
    }
   ],
   "source": [
    "\n",
    "score = 0\n",
    "import pandas as pd\n",
    "\n",
    "data = {\n",
    "    'city': ['Toronto', 'Montreal', 'Waterloo'],\n",
    "    'points': [80, 70, 90]\n",
    "}\n",
    "df = pd.DataFrame(data)\n",
    "score += 40  \n",
    "df['code'] = [1, 2, 3]\n",
    "score += 40 \n",
    "df['points'] = df['points'] + 10\n",
    "score += 40  \n",
    "from datetime import datetime\n",
    "def get_age(d):\n",
    "    d1 = datetime.now()\n",
    "    months = (d1.year - d.year) * 12 + d1.month - d.month\n",
    "    year = int(months / 12)\n",
    "    return year\n",
    "age = get_age(datetime(1991, 1, 1))\n",
    "score += 40  # Function logic used\n",
    "df['status'] = df['points'].apply(lambda x: 'Pass' if x >= 90 else 'Fail')\n",
    "score += 40  \n",
    "print(\"Final Score:\", score)\n",
    "print(df)\n"
   ]
  },
  {
   "cell_type": "code",
   "execution_count": 69,
   "id": "4e7610f7-99f0-4e9f-8d99-77cc445c0231",
   "metadata": {},
   "outputs": [
    {
     "name": "stdout",
     "output_type": "stream",
     "text": [
      "      name  marks grade result\n",
      "0    Alice     85     B   Pass\n",
      "1      Bob     67     D   Pass\n",
      "2  Charlie     90     A   Pass\n",
      "3    David     74     C   Pass\n",
      "Average Mark: 79.0\n"
     ]
    }
   ],
   "source": [
    "import pandas as pd\n",
    "data = {\n",
    "    'name': ['Alice', 'Bob', 'Charlie', 'David'],\n",
    "    'marks': [85, 67, 90, 74]\n",
    "}\n",
    "df = pd.DataFrame(data)\n",
    "def get_grade(mark):\n",
    "    if mark >= 90:\n",
    "        return 'A'\n",
    "    elif mark >= 80:\n",
    "        return 'B'\n",
    "    elif mark >= 70:\n",
    "        return 'C'\n",
    "    elif mark >= 60:\n",
    "        return 'D'\n",
    "    else:\n",
    "        return 'F'\n",
    "df['grade'] = df['marks'].apply(get_grade)\n",
    "average_mark = df['marks'].mean()\n",
    "df['result'] = df['marks'].apply(lambda x: 'Pass' if x >= 60 else 'Fail')\n",
    "print(df)\n",
    "print(\"Average Mark:\", average_mark)\n"
   ]
  },
  {
   "cell_type": "code",
   "execution_count": 70,
   "id": "13e976f2-ea3a-4364-9c7c-7194a4707baa",
   "metadata": {},
   "outputs": [
    {
     "name": "stdout",
     "output_type": "stream",
     "text": [
      "All Employees:\n",
      "       name  join_date  salary  position  experience_years  salary_after_tax  \\\n",
      "0    Alice 2016-08-01   95000   Manager                 8           77900.0   \n",
      "1      Bob 2019-07-15   60000  Engineer                 5           49200.0   \n",
      "2  Charlie 2014-01-10  120000  Director                11           98400.0   \n",
      "3    David 2021-03-20   45000    Intern                 4           36900.0   \n",
      "4     Ella 2018-09-30   70000  Engineer                 6           57400.0   \n",
      "\n",
      "              level  \n",
      "0       Experienced  \n",
      "1       Experienced  \n",
      "2  Senior Executive  \n",
      "3         Mid-Level  \n",
      "4       Experienced   \n",
      "\n",
      "High Performers:\n",
      "       name  join_date  salary  position  experience_years  salary_after_tax  \\\n",
      "0    Alice 2016-08-01   95000   Manager                 8           77900.0   \n",
      "2  Charlie 2014-01-10  120000  Director                11           98400.0   \n",
      "\n",
      "              level  \n",
      "0       Experienced  \n",
      "2  Senior Executive  \n"
     ]
    }
   ],
   "source": [
    "import pandas as pd\n",
    "from io import StringIO\n",
    "from datetime import datetime\n",
    "csv_data = StringIO(\"\"\"\n",
    "name,join_date,salary,position\n",
    "Alice,2016-08-01,95000,Manager\n",
    "Bob,2019-07-15,60000,Engineer\n",
    "Charlie,2014-01-10,120000,Director\n",
    "David,2021-03-20,45000,Intern\n",
    "Ella,2018-09-30,70000,Engineer\n",
    "\"\"\")\n",
    "df = pd.read_csv(csv_data, parse_dates=['join_date'])\n",
    "today = datetime.today()\n",
    "df['experience_years'] = df['join_date'].apply(lambda d: (today - d).days // 365)\n",
    "df['salary_after_tax'] = df['salary'].apply(lambda x: x * 0.82)\n",
    "def get_level(exp, salary):\n",
    "    if exp >= 8 and salary > 100000:\n",
    "        return 'Senior Executive'\n",
    "    elif exp >= 5:\n",
    "        return 'Experienced'\n",
    "    elif exp >= 2:\n",
    "        return 'Mid-Level'\n",
    "    else:\n",
    "        return 'Junior'\n",
    "df['level'] = df.apply(lambda row: get_level(row['experience_years'], row['salary']), axis=1)\n",
    "high_performers = df[(df['salary'] > 70000) & (df['experience_years'] > 3)]\n",
    "print(\"All Employees:\\n\", df, \"\\n\")\n",
    "print(\"High Performers:\\n\", high_performers)\n"
   ]
  },
  {
   "cell_type": "code",
   "execution_count": 71,
   "id": "7fbf6c6c-c0c7-4bc2-9817-56038cc24899",
   "metadata": {},
   "outputs": [
    {
     "name": "stdout",
     "output_type": "stream",
     "text": [
      "\n",
      "Full Merged Data (Project Assignments + Employees):\n",
      "  emp_id     name   department project_name workload_status  experience_yrs\n",
      "0    101    Alice  Engineering        Alpha        Balanced              10\n",
      "1    102      Bob  Engineering        Alpha           Light               7\n",
      "2    104    David      Finance         Beta           Light               6\n",
      "3    103  Charlie           HR        Gamma           Light              13\n",
      "4    105      Eva      Finance        Gamma           Light               7\n",
      "5    101    Alice  Engineering        Delta        Balanced              10\n",
      "6    106    Frank  Engineering        Delta           Light               3\n",
      "\n",
      "Department Summary:\n",
      "    department  total_employees  avg_salary  total_projects  avg_experience\n",
      "0  Engineering                3     75500.0               2             7.5\n",
      "1      Finance                2     61500.0               2             6.5\n",
      "2           HR                1     60000.0               1            13.0\n",
      "\n",
      "Top Experienced Employee per Department:\n",
      "    department     name  experience_yrs  salary\n",
      "3           HR  Charlie              13   60000\n",
      "5  Engineering    Alice              10   90000\n",
      "4      Finance      Eva               7   58000\n"
     ]
    }
   ],
   "source": [
    "import pandas as pd\n",
    "from datetime import datetime\n",
    "employees = pd.DataFrame({\n",
    "    'emp_id': [101, 102, 103, 104, 105, 106],\n",
    "    'name': ['Alice', 'Bob', 'Charlie', 'David', 'Eva', 'Frank'],\n",
    "    'department': ['Engineering', 'Engineering', 'HR', 'Finance', 'Finance', 'Engineering'],\n",
    "    'join_date': pd.to_datetime(['2015-05-21', '2018-03-15', '2012-06-30', '2019-01-01', '2017-11-23', '2022-05-19']),\n",
    "    'salary': [90000, 72000, 60000, 65000, 58000, 50000]\n",
    "})\n",
    "projects = pd.DataFrame({\n",
    "    'project_id': [1, 2, 3, 4],\n",
    "    'project_name': ['Alpha', 'Beta', 'Gamma', 'Delta'],\n",
    "    'assigned_to': [[101, 102], [104], [103, 105], [101, 106]],\n",
    "    'deadline': pd.to_datetime(['2025-12-01', '2024-11-01', '2025-03-15', '2025-08-30'])\n",
    "})\n",
    "project_long = projects.explode('assigned_to').rename(columns={'assigned_to': 'emp_id'})\n",
    "merged = pd.merge(project_long, employees, on='emp_id', how='left')\n",
    "today = pd.to_datetime(datetime.today().date())\n",
    "merged['experience_yrs'] = (today - merged['join_date']).dt.days // 365\n",
    "workload = merged.groupby('emp_id').size().reset_index(name='project_count')\n",
    "merged = pd.merge(merged, workload, on='emp_id', how='left')\n",
    "import numpy as np\n",
    "conditions = [\n",
    "    (merged['project_count'] >= 3),\n",
    "    (merged['project_count'] == 2),\n",
    "    (merged['project_count'] == 1)\n",
    "]\n",
    "choices = ['Overloaded', 'Balanced', 'Light']\n",
    "merged['workload_status'] = np.select(conditions, choices, default='Unassigned')\n",
    "department_summary = merged.groupby('department').agg(\n",
    "    total_employees=('emp_id', 'nunique'),\n",
    "    avg_salary=('salary', 'mean'),\n",
    "    total_projects=('project_id', 'nunique'),\n",
    "    avg_experience=('experience_yrs', 'mean')\n",
    ").reset_index()\n",
    "top_employees = merged.sort_values('experience_yrs', ascending=False).drop_duplicates('department')\n",
    "print(\"\\nFull Merged Data (Project Assignments + Employees):\")\n",
    "print(merged[['emp_id', 'name', 'department', 'project_name', 'workload_status', 'experience_yrs']])\n",
    "print(\"\\nDepartment Summary:\")\n",
    "print(department_summary)\n",
    "print(\"\\nTop Experienced Employee per Department:\")\n",
    "print(top_employees[['department', 'name', 'experience_yrs', 'salary']])\n"
   ]
  },
  {
   "cell_type": "code",
   "execution_count": null,
   "id": "b9c4648b-88c4-4efb-8ab5-4b359117d3d9",
   "metadata": {},
   "outputs": [],
   "source": []
  }
 ],
 "metadata": {
  "kernelspec": {
   "display_name": "Python 3 (ipykernel)",
   "language": "python",
   "name": "python3"
  },
  "language_info": {
   "codemirror_mode": {
    "name": "ipython",
    "version": 3
   },
   "file_extension": ".py",
   "mimetype": "text/x-python",
   "name": "python",
   "nbconvert_exporter": "python",
   "pygments_lexer": "ipython3",
   "version": "3.12.11"
  }
 },
 "nbformat": 4,
 "nbformat_minor": 5
}
