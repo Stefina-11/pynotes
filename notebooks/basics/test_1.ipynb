{
 "cells": [
  {
   "cell_type": "code",
   "execution_count": 1,
   "id": "d3db096b-95af-4d28-836b-b2dce3d041ae",
   "metadata": {},
   "outputs": [
    {
     "name": "stdout",
     "output_type": "stream",
     "text": [
      "Hello World\n"
     ]
    }
   ],
   "source": [
    "print(\"Hello World\")"
   ]
  },
  {
   "cell_type": "code",
   "execution_count": 4,
   "id": "ced79f6c-39bb-4eaf-ae0b-08526e399a2c",
   "metadata": {},
   "outputs": [
    {
     "name": "stdin",
     "output_type": "stream",
     "text": [
      "Enter number of elements:  2\n",
      "Enter the array elements separated by space:  10 10\n"
     ]
    },
    {
     "name": "stdout",
     "output_type": "stream",
     "text": [
      "Maximum Subarray Sum: 20\n"
     ]
    }
   ],
   "source": [
    "def solve():\n",
    "    try:\n",
    "        n_input = input(\"Enter number of elements: \").strip()\n",
    "        if not n_input:\n",
    "            print(\"No input provided for number of elements.\")\n",
    "            return  \n",
    "        n = int(n_input)  \n",
    "        arr_input = input(\"Enter the array elements separated by space: \").strip()\n",
    "        if not arr_input:\n",
    "            print(\"No array elements provided.\")\n",
    "            return\n",
    "        arr = list(map(int, arr_input.split()))\n",
    "        if len(arr) != n:\n",
    "            print(f\"You entered {len(arr)} elements, but expected {n}.\")\n",
    "            return\n",
    "        max_ending_here = max_so_far = arr[0]\n",
    "        for x in arr[1:]:\n",
    "            max_ending_here = max(x, max_ending_here + x)\n",
    "            max_so_far = max(max_so_far, max_ending_here)\n",
    "        print(\"Maximum Subarray Sum:\", max_so_far)\n",
    "    except ValueError as ve:\n",
    "        print(\"Invalid input! Please enter integers only.\")\n",
    "        print(\"Error details:\", ve)\n",
    "solve()\n"
   ]
  },
  {
   "cell_type": "code",
   "execution_count": 4,
   "id": "bcb3a48b-de35-4e2f-af87-6cc4bf12851f",
   "metadata": {},
   "outputs": [
    {
     "name": "stdin",
     "output_type": "stream",
     "text": [
      " 10 9 2 5 3 7 101 18\n"
     ]
    },
    {
     "name": "stdout",
     "output_type": "stream",
     "text": [
      "4\n"
     ]
    }
   ],
   "source": [
    "import bisect\n",
    "def solve():\n",
    "    try:\n",
    "        arr_input = input().strip()\n",
    "        if not arr_input:\n",
    "            return\n",
    "        arr = list(map(int, arr_input.split()))\n",
    "        if not arr:\n",
    "            return\n",
    "        sub = []\n",
    "        for num in arr:\n",
    "            idx = bisect.bisect_left(sub, num)\n",
    "            if idx == len(sub):\n",
    "                sub.append(num)\n",
    "            else:\n",
    "                sub[idx] = num\n",
    "        print(len(sub))\n",
    "    except ValueError:\n",
    "        print(\"Invalid input\")\n",
    "solve()\n"
   ]
  },
  {
   "cell_type": "code",
   "execution_count": 1,
   "id": "0ba79339-14fd-4615-8155-7ac9d3c33d7b",
   "metadata": {},
   "outputs": [
    {
     "name": "stdin",
     "output_type": "stream",
     "text": [
      " Stefina\n",
      " Ai Engineer\n"
     ]
    },
    {
     "name": "stdout",
     "output_type": "stream",
     "text": [
      "2\n"
     ]
    }
   ],
   "source": [
    "def solve():\n",
    "    try:\n",
    "        s1 = input().strip()\n",
    "        s2 = input().strip()\n",
    "        n, m = len(s1), len(s2)\n",
    "        dp = [[0]*(m+1) for _ in range(n+1)]\n",
    "        for i in range(1, n+1):\n",
    "            for j in range(1, m+1):\n",
    "                if s1[i-1] == s2[j-1]:\n",
    "                    dp[i][j] = dp[i-1][j-1] + 1\n",
    "                else:\n",
    "                    dp[i][j] = max(dp[i-1][j], dp[i][j-1])\n",
    "        print(dp[n][m])\n",
    "    except:\n",
    "        print(\"Invalid input\")\n",
    "solve()\n"
   ]
  },
  {
   "cell_type": "code",
   "execution_count": 2,
   "id": "5fc8e8cc-8f55-4047-8fe8-cebce3964bda",
   "metadata": {},
   "outputs": [
    {
     "name": "stdin",
     "output_type": "stream",
     "text": [
      " 1  2 3 4 5\n",
      " 7\n"
     ]
    },
    {
     "name": "stdout",
     "output_type": "stream",
     "text": [
      "Yes\n"
     ]
    }
   ],
   "source": [
    "def solve():\n",
    "    try:\n",
    "        arr = list(map(int, input().strip().split()))\n",
    "        target = int(input().strip())\n",
    "        n = len(arr)\n",
    "        dp = [[False]*(target+1) for _ in range(n+1)]\n",
    "        for i in range(n+1):\n",
    "            dp[i][0] = True\n",
    "        for i in range(1, n+1):\n",
    "            for j in range(1, target+1):\n",
    "                if arr[i-1] > j:\n",
    "                    dp[i][j] = dp[i-1][j]\n",
    "                else:\n",
    "                    dp[i][j] = dp[i-1][j] or dp[i-1][j-arr[i-1]]\n",
    "        print(\"Yes\" if dp[n][target] else \"No\")\n",
    "    except:\n",
    "        print(\"Invalid input\")\n",
    "        \n",
    "solve()\n"
   ]
  },
  {
   "cell_type": "code",
   "execution_count": null,
   "id": "13c2fc9f-f889-43cc-be8e-f7256791edd5",
   "metadata": {},
   "outputs": [],
   "source": []
  }
 ],
 "metadata": {
  "kernelspec": {
   "display_name": "Python 3 (ipykernel)",
   "language": "python",
   "name": "python3"
  },
  "language_info": {
   "codemirror_mode": {
    "name": "ipython",
    "version": 3
   },
   "file_extension": ".py",
   "mimetype": "text/x-python",
   "name": "python",
   "nbconvert_exporter": "python",
   "pygments_lexer": "ipython3",
   "version": "3.12.11"
  }
 },
 "nbformat": 4,
 "nbformat_minor": 5
}
