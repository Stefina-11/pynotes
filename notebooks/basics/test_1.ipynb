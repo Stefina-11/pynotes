{
 "cells": [
  {
   "cell_type": "code",
   "execution_count": 1,
   "id": "d3db096b-95af-4d28-836b-b2dce3d041ae",
   "metadata": {},
   "outputs": [
    {
     "name": "stdout",
     "output_type": "stream",
     "text": [
      "Hello World\n"
     ]
    }
   ],
   "source": [
    "print(\"Hello World\")"
   ]
  },
  {
   "cell_type": "code",
   "execution_count": 4,
   "id": "ced79f6c-39bb-4eaf-ae0b-08526e399a2c",
   "metadata": {},
   "outputs": [
    {
     "name": "stdin",
     "output_type": "stream",
     "text": [
      "Enter number of elements:  2\n",
      "Enter the array elements separated by space:  10 10\n"
     ]
    },
    {
     "name": "stdout",
     "output_type": "stream",
     "text": [
      "Maximum Subarray Sum: 20\n"
     ]
    }
   ],
   "source": [
    "def solve():\n",
    "    try:\n",
    "        n_input = input(\"Enter number of elements: \").strip()\n",
    "        if not n_input:\n",
    "            print(\"No input provided for number of elements.\")\n",
    "            return  \n",
    "        n = int(n_input)  \n",
    "        arr_input = input(\"Enter the array elements separated by space: \").strip()\n",
    "        if not arr_input:\n",
    "            print(\"No array elements provided.\")\n",
    "            return\n",
    "        arr = list(map(int, arr_input.split()))\n",
    "        if len(arr) != n:\n",
    "            print(f\"You entered {len(arr)} elements, but expected {n}.\")\n",
    "            return\n",
    "        max_ending_here = max_so_far = arr[0]\n",
    "        for x in arr[1:]:\n",
    "            max_ending_here = max(x, max_ending_here + x)\n",
    "            max_so_far = max(max_so_far, max_ending_here)\n",
    "        print(\"Maximum Subarray Sum:\", max_so_far)\n",
    "    except ValueError as ve:\n",
    "        print(\"Invalid input! Please enter integers only.\")\n",
    "        print(\"Error details:\", ve)\n",
    "solve()\n"
   ]
  },
  {
   "cell_type": "code",
   "execution_count": 4,
   "id": "bcb3a48b-de35-4e2f-af87-6cc4bf12851f",
   "metadata": {},
   "outputs": [
    {
     "name": "stdin",
     "output_type": "stream",
     "text": [
      " 10 9 2 5 3 7 101 18\n"
     ]
    },
    {
     "name": "stdout",
     "output_type": "stream",
     "text": [
      "4\n"
     ]
    }
   ],
   "source": [
    "import bisect\n",
    "def solve():\n",
    "    try:\n",
    "        arr_input = input().strip()\n",
    "        if not arr_input:\n",
    "            return\n",
    "        arr = list(map(int, arr_input.split()))\n",
    "        if not arr:\n",
    "            return\n",
    "        sub = []\n",
    "        for num in arr:\n",
    "            idx = bisect.bisect_left(sub, num)\n",
    "            if idx == len(sub):\n",
    "                sub.append(num)\n",
    "            else:\n",
    "                sub[idx] = num\n",
    "        print(len(sub))\n",
    "    except ValueError:\n",
    "        print(\"Invalid input\")\n",
    "solve()\n"
   ]
  },
  {
   "cell_type": "code",
   "execution_count": 1,
   "id": "0ba79339-14fd-4615-8155-7ac9d3c33d7b",
   "metadata": {},
   "outputs": [
    {
     "name": "stdin",
     "output_type": "stream",
     "text": [
      " Stefina\n",
      " Ai Engineer\n"
     ]
    },
    {
     "name": "stdout",
     "output_type": "stream",
     "text": [
      "2\n"
     ]
    }
   ],
   "source": [
    "def solve():\n",
    "    try:\n",
    "        s1 = input().strip()\n",
    "        s2 = input().strip()\n",
    "        n, m = len(s1), len(s2)\n",
    "        dp = [[0]*(m+1) for _ in range(n+1)]\n",
    "        for i in range(1, n+1):\n",
    "            for j in range(1, m+1):\n",
    "                if s1[i-1] == s2[j-1]:\n",
    "                    dp[i][j] = dp[i-1][j-1] + 1\n",
    "                else:\n",
    "                    dp[i][j] = max(dp[i-1][j], dp[i][j-1])\n",
    "        print(dp[n][m])\n",
    "    except:\n",
    "        print(\"Invalid input\")\n",
    "solve()\n"
   ]
  },
  {
   "cell_type": "code",
   "execution_count": 2,
   "id": "5fc8e8cc-8f55-4047-8fe8-cebce3964bda",
   "metadata": {},
   "outputs": [
    {
     "name": "stdin",
     "output_type": "stream",
     "text": [
      " 1  2 3 4 5\n",
      " 7\n"
     ]
    },
    {
     "name": "stdout",
     "output_type": "stream",
     "text": [
      "Yes\n"
     ]
    }
   ],
   "source": [
    "def solve():\n",
    "    try:\n",
    "        arr = list(map(int, input().strip().split()))\n",
    "        target = int(input().strip())\n",
    "        n = len(arr)\n",
    "        dp = [[False]*(target+1) for _ in range(n+1)]\n",
    "        for i in range(n+1):\n",
    "            dp[i][0] = True\n",
    "        for i in range(1, n+1):\n",
    "            for j in range(1, target+1):\n",
    "                if arr[i-1] > j:\n",
    "                    dp[i][j] = dp[i-1][j]\n",
    "                else:\n",
    "                    dp[i][j] = dp[i-1][j] or dp[i-1][j-arr[i-1]]\n",
    "        print(\"Yes\" if dp[n][target] else \"No\")\n",
    "    except:\n",
    "        print(\"Invalid input\")\n",
    "        \n",
    "solve()\n"
   ]
  },
  {
   "cell_type": "code",
   "execution_count": 1,
   "id": "13c2fc9f-f889-43cc-be8e-f7256791edd5",
   "metadata": {},
   "outputs": [
    {
     "name": "stdin",
     "output_type": "stream",
     "text": [
      " 2 2 3 4 2 5 2 6\n"
     ]
    },
    {
     "name": "stdout",
     "output_type": "stream",
     "text": [
      "2\n"
     ]
    }
   ],
   "source": [
    "def solve():\n",
    "    arr = list(map(int, input().strip().split()))\n",
    "    count = 0\n",
    "    candidate = None\n",
    "    for num in arr:\n",
    "        if count == 0:\n",
    "            candidate = num\n",
    "        count += (1 if num == candidate else -1)\n",
    "    print(candidate)\n",
    "solve()\n"
   ]
  },
  {
   "cell_type": "code",
   "execution_count": 2,
   "id": "ceb4d9e3-94af-4a7c-9a3d-ee809a11aaec",
   "metadata": {},
   "outputs": [
    {
     "name": "stdin",
     "output_type": "stream",
     "text": [
      " 1 2 3 4\n",
      " 5\n"
     ]
    },
    {
     "name": "stdout",
     "output_type": "stream",
     "text": [
      "1 2\n"
     ]
    }
   ],
   "source": [
    "def solve():\n",
    "    arr = list(map(int, input().strip().split()))\n",
    "    target = int(input().strip())\n",
    "    seen = {}\n",
    "    for i, num in enumerate(arr):\n",
    "        diff = target - num\n",
    "        if diff in seen:\n",
    "            print(seen[diff], i)\n",
    "            return\n",
    "        seen[num] = i\n",
    "    print(\"No pair\")\n",
    "solve()\n"
   ]
  },
  {
   "cell_type": "code",
   "execution_count": 4,
   "id": "18f401a2-df15-4fa9-b83a-d353fc60d77a",
   "metadata": {},
   "outputs": [
    {
     "name": "stdin",
     "output_type": "stream",
     "text": [
      " madam\n"
     ]
    },
    {
     "name": "stdout",
     "output_type": "stream",
     "text": [
      "Yes\n"
     ]
    }
   ],
   "source": [
    "def solve():\n",
    "    s = input().strip()\n",
    "    print(\"Yes\" if s == s[::-1] else \"No\")\n",
    "solve()\n"
   ]
  },
  {
   "cell_type": "code",
   "execution_count": 5,
   "id": "6d5ff864-6ce3-43e1-bab7-8fa3fb8a58b5",
   "metadata": {},
   "outputs": [
    {
     "name": "stdin",
     "output_type": "stream",
     "text": [
      " listen\n",
      " silent\n"
     ]
    },
    {
     "name": "stdout",
     "output_type": "stream",
     "text": [
      "Yes\n"
     ]
    }
   ],
   "source": [
    "def solve():\n",
    "    s1 = input().strip()\n",
    "    s2 = input().strip()\n",
    "    print(\"Yes\" if sorted(s1) == sorted(s2) else \"No\")\n",
    "solve()\n"
   ]
  },
  {
   "cell_type": "code",
   "execution_count": 7,
   "id": "0995535c-9904-4ccb-874f-21e398953d55",
   "metadata": {},
   "outputs": [
    {
     "name": "stdin",
     "output_type": "stream",
     "text": [
      " 3 0 1\n"
     ]
    },
    {
     "name": "stdout",
     "output_type": "stream",
     "text": [
      "2\n"
     ]
    }
   ],
   "source": [
    "def solve():\n",
    "    arr = list(map(int, input().strip().split()))\n",
    "    n = len(arr)\n",
    "    total = n * (n + 1) // 2\n",
    "    print(total - sum(arr))\n",
    "solve()\n"
   ]
  },
  {
   "cell_type": "code",
   "execution_count": 10,
   "id": "90fa7329-33b0-447b-9dac-27554ec72309",
   "metadata": {},
   "outputs": [
    {
     "name": "stdin",
     "output_type": "stream",
     "text": [
      " 4 4\n",
      " 0 1\n",
      " 1 2\n",
      " 2 3\n",
      " 3 1\n"
     ]
    },
    {
     "name": "stdout",
     "output_type": "stream",
     "text": [
      "Yes\n"
     ]
    }
   ],
   "source": [
    "def solve():\n",
    "    from collections import defaultdict\n",
    "    def dfs(v):\n",
    "        visited[v] = True\n",
    "        recStack[v] = True\n",
    "        for neighbor in graph[v]:\n",
    "            if not visited[neighbor] and dfs(neighbor):\n",
    "                return True\n",
    "            elif recStack[neighbor]:\n",
    "                return True\n",
    "        recStack[v] = False\n",
    "        return False\n",
    "\n",
    "    n, e = map(int, input().split())\n",
    "    graph = defaultdict(list)\n",
    "    for _ in range(e):\n",
    "        u, v = map(int, input().split())\n",
    "        graph[u].append(v)\n",
    "\n",
    "    visited = [False]*n\n",
    "    recStack = [False]*n\n",
    "    for node in range(n):\n",
    "        if not visited[node]:\n",
    "            if dfs(node):\n",
    "                print(\"Yes\")\n",
    "                return\n",
    "    print(\"No\")\n",
    "solve()\n"
   ]
  },
  {
   "cell_type": "code",
   "execution_count": 11,
   "id": "56d56d47-4b06-443e-af7e-6a80ac0846a3",
   "metadata": {},
   "outputs": [
    {
     "name": "stdin",
     "output_type": "stream",
     "text": [
      " 7\n"
     ]
    },
    {
     "name": "stdout",
     "output_type": "stream",
     "text": [
      "3\n"
     ]
    }
   ],
   "source": [
    "def solve():\n",
    "    n = int(input())\n",
    "    print(bin(n).count('1'))\n",
    "solve()\n"
   ]
  },
  {
   "cell_type": "code",
   "execution_count": 12,
   "id": "6a506441-d406-4995-aa7b-80e35d115296",
   "metadata": {},
   "outputs": [
    {
     "name": "stdin",
     "output_type": "stream",
     "text": [
      " a b c a b d d\n"
     ]
    },
    {
     "name": "stdout",
     "output_type": "stream",
     "text": [
      "c\n"
     ]
    }
   ],
   "source": [
    "def solve():\n",
    "    s = input().strip()\n",
    "    from collections import Counter\n",
    "    count = Counter(s)\n",
    "    for ch in s:\n",
    "        if count[ch] == 1:\n",
    "            print(ch)\n",
    "            return\n",
    "    print(\"None\")\n",
    "solve()\n"
   ]
  },
  {
   "cell_type": "code",
   "execution_count": 15,
   "id": "452a0958-b2a5-452a-b09a-e551703a2876",
   "metadata": {},
   "outputs": [
    {
     "name": "stdin",
     "output_type": "stream",
     "text": [
      " 16\n"
     ]
    },
    {
     "name": "stdout",
     "output_type": "stream",
     "text": [
      "Yes\n"
     ]
    }
   ],
   "source": [
    "def solve():\n",
    "    n = int(input())\n",
    "    print(\"Yes\" if n > 0 and (n & (n - 1)) == 0 else \"No\")\n",
    "solve()\n"
   ]
  },
  {
   "cell_type": "code",
   "execution_count": 16,
   "id": "ec0d9a52-6382-40fe-b3ae-02f67fab02d5",
   "metadata": {},
   "outputs": [
    {
     "name": "stdin",
     "output_type": "stream",
     "text": [
      " (1, (2, None, None), (3, None, None))\n"
     ]
    },
    {
     "name": "stdout",
     "output_type": "stream",
     "text": [
      "Yes\n"
     ]
    }
   ],
   "source": [
    "def solve():\n",
    "    import sys\n",
    "    sys.setrecursionlimit(10000)\n",
    "    def is_balanced(root):\n",
    "        if not root:\n",
    "            return 0, True\n",
    "        lh, lb = is_balanced(root[1])\n",
    "        rh, rb = is_balanced(root[2])\n",
    "        balanced = lb and rb and abs(lh - rh) <= 1\n",
    "        return max(lh, rh) + 1, balanced\n",
    "\n",
    "    # Input format: (val, left_subtree, right_subtree) or None\n",
    "    tree = eval(input())  \n",
    "    print(\"Yes\" if is_balanced(tree)[1] else \"No\")\n",
    "solve()\n"
   ]
  },
  {
   "cell_type": "code",
   "execution_count": 17,
   "id": "4c6d47de-a8e7-461b-ab68-cebe6e375278",
   "metadata": {},
   "outputs": [
    {
     "name": "stdin",
     "output_type": "stream",
     "text": [
      " 3\n",
      " 1 3\n",
      " 2 5\n",
      " 4 7\n"
     ]
    },
    {
     "name": "stdout",
     "output_type": "stream",
     "text": [
      "2\n"
     ]
    }
   ],
   "source": [
    "def solve():\n",
    "    n = int(input())\n",
    "    intervals = [tuple(map(int, input().split())) for _ in range(n)]\n",
    "    intervals.sort(key=lambda x: x[1])\n",
    "    count, end = 0, 0\n",
    "    for s, e in intervals:\n",
    "        if s >= end:\n",
    "            count += 1\n",
    "            end = e\n",
    "    print(count)\n",
    "solve()\n"
   ]
  },
  {
   "cell_type": "code",
   "execution_count": 18,
   "id": "33440dde-33af-4c3c-a37c-99e9335e1135",
   "metadata": {},
   "outputs": [
    {
     "name": "stdin",
     "output_type": "stream",
     "text": [
      " 4\n"
     ]
    },
    {
     "name": "stdout",
     "output_type": "stream",
     "text": [
      "2\n"
     ]
    }
   ],
   "source": [
    "def solve():\n",
    "    def is_safe(board, row, col):\n",
    "        for i in range(row):\n",
    "            if board[i] == col or abs(board[i] - col) == abs(i - row):\n",
    "                return False\n",
    "        return True\n",
    "\n",
    "    def solve_nq(n):\n",
    "        def backtrack(row=0):\n",
    "            if row == n:\n",
    "                result.append(board[:])\n",
    "                return\n",
    "            for col in range(n):\n",
    "                if is_safe(board, row, col):\n",
    "                    board[row] = col\n",
    "                    backtrack(row + 1)\n",
    "        board = [-1] * n\n",
    "        result = []\n",
    "        backtrack()\n",
    "        return result\n",
    "\n",
    "    n = int(input())\n",
    "    solutions = solve_nq(n)\n",
    "    print(len(solutions))\n",
    "solve()\n"
   ]
  },
  {
   "cell_type": "code",
   "execution_count": 19,
   "id": "89f34e60-30af-4eab-8e0a-0e2f993d60ff",
   "metadata": {},
   "outputs": [
    {
     "name": "stdin",
     "output_type": "stream",
     "text": [
      " 1 2 5\n",
      " 11\n"
     ]
    },
    {
     "name": "stdout",
     "output_type": "stream",
     "text": [
      "3\n"
     ]
    }
   ],
   "source": [
    "def solve():\n",
    "    coins = list(map(int, input().split()))\n",
    "    amount = int(input())\n",
    "    dp = [float('inf')] * (amount + 1)\n",
    "    dp[0] = 0\n",
    "    for c in coins:\n",
    "        for i in range(c, amount + 1):\n",
    "            dp[i] = min(dp[i], dp[i - c] + 1)\n",
    "    print(dp[amount] if dp[amount] != float('inf') else -1)\n",
    "solve()\n"
   ]
  },
  {
   "cell_type": "code",
   "execution_count": 20,
   "id": "7a0cdb32-60de-44cc-9e22-a9bf75db0348",
   "metadata": {},
   "outputs": [
    {
     "name": "stdin",
     "output_type": "stream",
     "text": [
      " leetcode\n",
      " leet code\n"
     ]
    },
    {
     "name": "stdout",
     "output_type": "stream",
     "text": [
      "Yes\n"
     ]
    }
   ],
   "source": [
    "def solve():\n",
    "    s = input().strip()\n",
    "    word_dict = set(input().strip().split())\n",
    "    dp = [False] * (len(s)+1)\n",
    "    dp[0] = True\n",
    "    for i in range(1, len(s)+1):\n",
    "        for j in range(i):\n",
    "            if dp[j] and s[j:i] in word_dict:\n",
    "                dp[i] = True\n",
    "                break\n",
    "    print(\"Yes\" if dp[-1] else \"No\")\n",
    "solve()\n"
   ]
  },
  {
   "cell_type": "code",
   "execution_count": null,
   "id": "5a83ec84-b7e5-4663-a51b-11cd21c013ac",
   "metadata": {},
   "outputs": [],
   "source": [
    "import pandas as pd\n",
    "import numpy as np\n",
    "import matplotlib.pyplot as plt\n",
    "import seaborn as sns\n",
    "\n",
    "from sklearn.model_selection import train_test_split\n",
    "from sklearn.ensemble import RandomForestClassifier\n",
    "from sklearn.metrics import classification_report, confusion_matrix, accuracy_score, roc_auc_score, roc_curve\n"
   ]
  },
  {
   "cell_type": "code",
   "execution_count": 19,
   "id": "6c4f34c3-4179-4822-9dad-2f81b4d7f20a",
   "metadata": {},
   "outputs": [
    {
     "data": {
      "text/html": [
       "<div>\n",
       "<style scoped>\n",
       "    .dataframe tbody tr th:only-of-type {\n",
       "        vertical-align: middle;\n",
       "    }\n",
       "\n",
       "    .dataframe tbody tr th {\n",
       "        vertical-align: top;\n",
       "    }\n",
       "\n",
       "    .dataframe thead th {\n",
       "        text-align: right;\n",
       "    }\n",
       "</style>\n",
       "<table border=\"1\" class=\"dataframe\">\n",
       "  <thead>\n",
       "    <tr style=\"text-align: right;\">\n",
       "      <th></th>\n",
       "      <th>Name</th>\n",
       "      <th>Surname</th>\n",
       "      <th>Age</th>\n",
       "      <th>Smokes</th>\n",
       "      <th>AreaQ</th>\n",
       "      <th>Alkhol</th>\n",
       "      <th>Result</th>\n",
       "    </tr>\n",
       "  </thead>\n",
       "  <tbody>\n",
       "    <tr>\n",
       "      <th>0</th>\n",
       "      <td>John</td>\n",
       "      <td>Wick</td>\n",
       "      <td>35</td>\n",
       "      <td>3</td>\n",
       "      <td>5</td>\n",
       "      <td>4</td>\n",
       "      <td>1</td>\n",
       "    </tr>\n",
       "    <tr>\n",
       "      <th>1</th>\n",
       "      <td>John</td>\n",
       "      <td>Constantine</td>\n",
       "      <td>27</td>\n",
       "      <td>20</td>\n",
       "      <td>2</td>\n",
       "      <td>5</td>\n",
       "      <td>1</td>\n",
       "    </tr>\n",
       "    <tr>\n",
       "      <th>2</th>\n",
       "      <td>Camela</td>\n",
       "      <td>Anderson</td>\n",
       "      <td>30</td>\n",
       "      <td>0</td>\n",
       "      <td>5</td>\n",
       "      <td>2</td>\n",
       "      <td>0</td>\n",
       "    </tr>\n",
       "    <tr>\n",
       "      <th>3</th>\n",
       "      <td>Alex</td>\n",
       "      <td>Telles</td>\n",
       "      <td>28</td>\n",
       "      <td>0</td>\n",
       "      <td>8</td>\n",
       "      <td>1</td>\n",
       "      <td>0</td>\n",
       "    </tr>\n",
       "    <tr>\n",
       "      <th>4</th>\n",
       "      <td>Diego</td>\n",
       "      <td>Maradona</td>\n",
       "      <td>68</td>\n",
       "      <td>4</td>\n",
       "      <td>5</td>\n",
       "      <td>6</td>\n",
       "      <td>1</td>\n",
       "    </tr>\n",
       "  </tbody>\n",
       "</table>\n",
       "</div>"
      ],
      "text/plain": [
       "     Name      Surname  Age  Smokes  AreaQ  Alkhol  Result\n",
       "0    John         Wick   35       3      5       4       1\n",
       "1    John  Constantine   27      20      2       5       1\n",
       "2  Camela     Anderson   30       0      5       2       0\n",
       "3    Alex       Telles   28       0      8       1       0\n",
       "4   Diego     Maradona   68       4      5       6       1"
      ]
     },
     "execution_count": 19,
     "metadata": {},
     "output_type": "execute_result"
    }
   ],
   "source": [
    "df = pd.read_csv(\"lung_cancer.csv\")  # make sure this file is in your JupyterLab folder\n",
    "df.head()\n"
   ]
  },
  {
   "cell_type": "code",
   "execution_count": 32,
   "id": "dc67a1c3-1482-4456-958f-a2e60a4b7028",
   "metadata": {},
   "outputs": [
    {
     "name": "stdout",
     "output_type": "stream",
     "text": [
      "Collecting matplotlib\n",
      "  Downloading matplotlib-3.10.3-cp312-cp312-win_amd64.whl.metadata (11 kB)\n",
      "Collecting seaborn\n",
      "  Using cached seaborn-0.13.2-py3-none-any.whl.metadata (5.4 kB)\n",
      "Collecting contourpy>=1.0.1 (from matplotlib)\n",
      "  Downloading contourpy-1.3.2-cp312-cp312-win_amd64.whl.metadata (5.5 kB)\n",
      "Collecting cycler>=0.10 (from matplotlib)\n",
      "  Using cached cycler-0.12.1-py3-none-any.whl.metadata (3.8 kB)\n",
      "Collecting fonttools>=4.22.0 (from matplotlib)\n",
      "  Downloading fonttools-4.58.4-cp312-cp312-win_amd64.whl.metadata (108 kB)\n",
      "Collecting kiwisolver>=1.3.1 (from matplotlib)\n",
      "  Downloading kiwisolver-1.4.8-cp312-cp312-win_amd64.whl.metadata (6.3 kB)\n",
      "Requirement already satisfied: numpy>=1.23 in c:\\users\\stefi\\miniconda3\\envs\\py312\\lib\\site-packages (from matplotlib) (2.3.1)\n",
      "Requirement already satisfied: packaging>=20.0 in c:\\users\\stefi\\miniconda3\\envs\\py312\\lib\\site-packages (from matplotlib) (25.0)\n",
      "Collecting pillow>=8 (from matplotlib)\n",
      "  Downloading pillow-11.2.1-cp312-cp312-win_amd64.whl.metadata (9.1 kB)\n",
      "Collecting pyparsing>=2.3.1 (from matplotlib)\n",
      "  Downloading pyparsing-3.2.3-py3-none-any.whl.metadata (5.0 kB)\n",
      "Requirement already satisfied: python-dateutil>=2.7 in c:\\users\\stefi\\miniconda3\\envs\\py312\\lib\\site-packages (from matplotlib) (2.9.0.post0)\n",
      "Requirement already satisfied: pandas>=1.2 in c:\\users\\stefi\\miniconda3\\envs\\py312\\lib\\site-packages (from seaborn) (2.3.0)\n",
      "Requirement already satisfied: pytz>=2020.1 in c:\\users\\stefi\\miniconda3\\envs\\py312\\lib\\site-packages (from pandas>=1.2->seaborn) (2025.2)\n",
      "Requirement already satisfied: tzdata>=2022.7 in c:\\users\\stefi\\miniconda3\\envs\\py312\\lib\\site-packages (from pandas>=1.2->seaborn) (2025.2)\n",
      "Requirement already satisfied: six>=1.5 in c:\\users\\stefi\\miniconda3\\envs\\py312\\lib\\site-packages (from python-dateutil>=2.7->matplotlib) (1.17.0)\n",
      "Downloading matplotlib-3.10.3-cp312-cp312-win_amd64.whl (8.1 MB)\n",
      "   ---------------------------------------- 0.0/8.1 MB ? eta -:--:--\n",
      "   - -------------------------------------- 0.3/8.1 MB ? eta -:--:--\n",
      "   --- ------------------------------------ 0.8/8.1 MB 2.1 MB/s eta 0:00:04\n",
      "   ------ --------------------------------- 1.3/8.1 MB 2.4 MB/s eta 0:00:03\n",
      "   ------- -------------------------------- 1.6/8.1 MB 2.5 MB/s eta 0:00:03\n",
      "   ------- -------------------------------- 1.6/8.1 MB 2.5 MB/s eta 0:00:03\n",
      "   ------- -------------------------------- 1.6/8.1 MB 2.5 MB/s eta 0:00:03\n",
      "   ------- -------------------------------- 1.6/8.1 MB 2.5 MB/s eta 0:00:03\n",
      "   ------- -------------------------------- 1.6/8.1 MB 2.5 MB/s eta 0:00:03\n",
      "   ------- -------------------------------- 1.6/8.1 MB 2.5 MB/s eta 0:00:03\n",
      "   ------- -------------------------------- 1.6/8.1 MB 2.5 MB/s eta 0:00:03\n",
      "   ------- -------------------------------- 1.6/8.1 MB 2.5 MB/s eta 0:00:03\n",
      "   ------- -------------------------------- 1.6/8.1 MB 2.5 MB/s eta 0:00:03\n",
      "   ------- -------------------------------- 1.6/8.1 MB 2.5 MB/s eta 0:00:03\n",
      "   ------- -------------------------------- 1.6/8.1 MB 2.5 MB/s eta 0:00:03\n",
      "   ------- -------------------------------- 1.6/8.1 MB 2.5 MB/s eta 0:00:03\n",
      "   ------- -------------------------------- 1.6/8.1 MB 2.5 MB/s eta 0:00:03\n",
      "   --------- ------------------------------ 1.8/8.1 MB 477.1 kB/s eta 0:00:14\n",
      "   --------- ------------------------------ 1.8/8.1 MB 477.1 kB/s eta 0:00:14\n",
      "   --------- ------------------------------ 1.8/8.1 MB 477.1 kB/s eta 0:00:14\n",
      "   --------- ------------------------------ 1.8/8.1 MB 477.1 kB/s eta 0:00:14\n",
      "   --------- ------------------------------ 1.8/8.1 MB 477.1 kB/s eta 0:00:14\n",
      "   --------- ------------------------------ 1.8/8.1 MB 477.1 kB/s eta 0:00:14\n",
      "   --------- ------------------------------ 1.8/8.1 MB 477.1 kB/s eta 0:00:14\n",
      "   --------- ------------------------------ 1.8/8.1 MB 477.1 kB/s eta 0:00:14\n",
      "   --------- ------------------------------ 1.8/8.1 MB 477.1 kB/s eta 0:00:14\n",
      "   --------- ------------------------------ 1.8/8.1 MB 477.1 kB/s eta 0:00:14\n",
      "   ---------- ----------------------------- 2.1/8.1 MB 336.5 kB/s eta 0:00:18\n",
      "   ---------- ----------------------------- 2.1/8.1 MB 336.5 kB/s eta 0:00:18\n",
      "   ----------- ---------------------------- 2.4/8.1 MB 362.7 kB/s eta 0:00:16\n",
      "   -------------- ------------------------- 2.9/8.1 MB 432.4 kB/s eta 0:00:12\n",
      "   --------------- ------------------------ 3.1/8.1 MB 464.8 kB/s eta 0:00:11\n",
      "   ------------------ --------------------- 3.7/8.1 MB 526.8 kB/s eta 0:00:09\n",
      "   ------------------ --------------------- 3.7/8.1 MB 526.8 kB/s eta 0:00:09\n",
      "   ------------------ --------------------- 3.7/8.1 MB 526.8 kB/s eta 0:00:09\n",
      "   ------------------ --------------------- 3.7/8.1 MB 526.8 kB/s eta 0:00:09\n",
      "   ------------------ --------------------- 3.7/8.1 MB 526.8 kB/s eta 0:00:09\n",
      "   ------------------ --------------------- 3.7/8.1 MB 526.8 kB/s eta 0:00:09\n",
      "   ------------------ --------------------- 3.7/8.1 MB 526.8 kB/s eta 0:00:09\n",
      "   ------------------ --------------------- 3.7/8.1 MB 526.8 kB/s eta 0:00:09\n",
      "   ------------------ --------------------- 3.7/8.1 MB 526.8 kB/s eta 0:00:09\n",
      "   ------------------ --------------------- 3.7/8.1 MB 526.8 kB/s eta 0:00:09\n",
      "   ------------------ --------------------- 3.7/8.1 MB 526.8 kB/s eta 0:00:09\n",
      "   ------------------ --------------------- 3.7/8.1 MB 526.8 kB/s eta 0:00:09\n",
      "   ------------------ --------------------- 3.7/8.1 MB 526.8 kB/s eta 0:00:09\n",
      "   ------------------ --------------------- 3.7/8.1 MB 526.8 kB/s eta 0:00:09\n",
      "   ------------------ --------------------- 3.7/8.1 MB 526.8 kB/s eta 0:00:09\n",
      "   ------------------ --------------------- 3.7/8.1 MB 526.8 kB/s eta 0:00:09\n",
      "   ------------------ --------------------- 3.7/8.1 MB 526.8 kB/s eta 0:00:09\n",
      "   ------------------ --------------------- 3.7/8.1 MB 526.8 kB/s eta 0:00:09\n",
      "   ------------------ --------------------- 3.7/8.1 MB 526.8 kB/s eta 0:00:09\n",
      "   ------------------ --------------------- 3.7/8.1 MB 526.8 kB/s eta 0:00:09\n",
      "   ------------------ --------------------- 3.7/8.1 MB 526.8 kB/s eta 0:00:09\n",
      "   ------------------ --------------------- 3.7/8.1 MB 526.8 kB/s eta 0:00:09\n",
      "   ------------------ --------------------- 3.7/8.1 MB 526.8 kB/s eta 0:00:09\n",
      "   ------------------ --------------------- 3.7/8.1 MB 526.8 kB/s eta 0:00:09\n",
      "   ------------------ --------------------- 3.7/8.1 MB 526.8 kB/s eta 0:00:09\n",
      "   ------------------ --------------------- 3.7/8.1 MB 526.8 kB/s eta 0:00:09\n",
      "   ------------------ --------------------- 3.7/8.1 MB 526.8 kB/s eta 0:00:09\n",
      "   ------------------ --------------------- 3.7/8.1 MB 526.8 kB/s eta 0:00:09\n",
      "   ------------------ --------------------- 3.7/8.1 MB 526.8 kB/s eta 0:00:09\n",
      "   ------------------ --------------------- 3.7/8.1 MB 526.8 kB/s eta 0:00:09\n",
      "   ------------------ --------------------- 3.7/8.1 MB 526.8 kB/s eta 0:00:09\n",
      "   ------------------ --------------------- 3.7/8.1 MB 526.8 kB/s eta 0:00:09\n",
      "   ------------------ --------------------- 3.7/8.1 MB 526.8 kB/s eta 0:00:09\n",
      "   ------------------ --------------------- 3.7/8.1 MB 526.8 kB/s eta 0:00:09\n",
      "   ------------------ --------------------- 3.7/8.1 MB 526.8 kB/s eta 0:00:09\n",
      "   ------------------ --------------------- 3.7/8.1 MB 526.8 kB/s eta 0:00:09\n",
      "   ------------------ --------------------- 3.7/8.1 MB 526.8 kB/s eta 0:00:09\n",
      "   ------------------ --------------------- 3.7/8.1 MB 526.8 kB/s eta 0:00:09\n",
      "   ------------------ --------------------- 3.7/8.1 MB 526.8 kB/s eta 0:00:09\n",
      "   ------------------ --------------------- 3.7/8.1 MB 526.8 kB/s eta 0:00:09\n",
      "   ------------------ --------------------- 3.7/8.1 MB 526.8 kB/s eta 0:00:09\n",
      "   ------------------ --------------------- 3.7/8.1 MB 526.8 kB/s eta 0:00:09\n",
      "   ------------------ --------------------- 3.7/8.1 MB 526.8 kB/s eta 0:00:09\n",
      "   ------------------ --------------------- 3.7/8.1 MB 526.8 kB/s eta 0:00:09\n",
      "   ------------------ --------------------- 3.7/8.1 MB 526.8 kB/s eta 0:00:09\n",
      "   ------------------ --------------------- 3.7/8.1 MB 526.8 kB/s eta 0:00:09\n",
      "   -------------------- ------------------- 4.2/8.1 MB 247.2 kB/s eta 0:00:16\n",
      "   -------------------- ------------------- 4.2/8.1 MB 247.2 kB/s eta 0:00:16\n",
      "   ---------------------- ----------------- 4.5/8.1 MB 256.6 kB/s eta 0:00:15\n",
      "   ----------------------- ---------------- 4.7/8.1 MB 268.6 kB/s eta 0:00:13\n",
      "   ------------------------ --------------- 5.0/8.1 MB 280.4 kB/s eta 0:00:12\n",
      "   ------------------------- -------------- 5.2/8.1 MB 293.2 kB/s eta 0:00:10\n",
      "   --------------------------- ------------ 5.5/8.1 MB 304.5 kB/s eta 0:00:09\n",
      "   ----------------------------- ---------- 6.0/8.1 MB 329.6 kB/s eta 0:00:07\n",
      "   ------------------------------- -------- 6.3/8.1 MB 342.4 kB/s eta 0:00:06\n",
      "   ----------------------------------- ---- 7.1/8.1 MB 380.6 kB/s eta 0:00:03\n",
      "   ------------------------------------- -- 7.6/8.1 MB 405.3 kB/s eta 0:00:02\n",
      "   ---------------------------------------- 8.1/8.1 MB 427.7 kB/s eta 0:00:00\n",
      "Using cached seaborn-0.13.2-py3-none-any.whl (294 kB)\n",
      "Downloading contourpy-1.3.2-cp312-cp312-win_amd64.whl (223 kB)\n",
      "Using cached cycler-0.12.1-py3-none-any.whl (8.3 kB)\n",
      "Downloading fonttools-4.58.4-cp312-cp312-win_amd64.whl (2.2 MB)\n",
      "   ---------------------------------------- 0.0/2.2 MB ? eta -:--:--\n",
      "   --------- ------------------------------ 0.5/2.2 MB 3.4 MB/s eta 0:00:01\n",
      "   ----------------------- ---------------- 1.3/2.2 MB 3.4 MB/s eta 0:00:01\n",
      "   ---------------------------- ----------- 1.6/2.2 MB 3.4 MB/s eta 0:00:01\n",
      "   ---------------------------- ----------- 1.6/2.2 MB 3.4 MB/s eta 0:00:01\n",
      "   ---------------------------- ----------- 1.6/2.2 MB 3.4 MB/s eta 0:00:01\n",
      "   ---------------------------- ----------- 1.6/2.2 MB 3.4 MB/s eta 0:00:01\n",
      "   ---------------------------- ----------- 1.6/2.2 MB 3.4 MB/s eta 0:00:01\n",
      "   ---------------------------- ----------- 1.6/2.2 MB 3.4 MB/s eta 0:00:01\n",
      "   ---------------------------- ----------- 1.6/2.2 MB 3.4 MB/s eta 0:00:01\n",
      "   ---------------------------- ----------- 1.6/2.2 MB 3.4 MB/s eta 0:00:01\n",
      "   ---------------------------- ----------- 1.6/2.2 MB 3.4 MB/s eta 0:00:01\n",
      "   ---------------------------- ----------- 1.6/2.2 MB 3.4 MB/s eta 0:00:01\n",
      "   ---------------------------- ----------- 1.6/2.2 MB 3.4 MB/s eta 0:00:01\n",
      "   ---------------------------- ----------- 1.6/2.2 MB 3.4 MB/s eta 0:00:01\n",
      "   -------------------------------- ------- 1.8/2.2 MB 521.5 kB/s eta 0:00:01\n",
      "   ---------------------------------------- 2.2/2.2 MB 619.5 kB/s eta 0:00:00\n",
      "Downloading kiwisolver-1.4.8-cp312-cp312-win_amd64.whl (71 kB)\n",
      "Downloading pillow-11.2.1-cp312-cp312-win_amd64.whl (2.7 MB)\n",
      "   ---------------------------------------- 0.0/2.7 MB ? eta -:--:--\n",
      "   ------- -------------------------------- 0.5/2.7 MB 3.4 MB/s eta 0:00:01\n",
      "   ----------------------- ---------------- 1.6/2.7 MB 4.0 MB/s eta 0:00:01\n",
      "   ------------------------------- -------- 2.1/2.7 MB 3.8 MB/s eta 0:00:01\n",
      "   ---------------------------------------- 2.7/2.7 MB 3.5 MB/s eta 0:00:00\n",
      "Downloading pyparsing-3.2.3-py3-none-any.whl (111 kB)\n",
      "Installing collected packages: pyparsing, pillow, kiwisolver, fonttools, cycler, contourpy, matplotlib, seaborn\n",
      "\n",
      "   ---------------------------------------- 0/8 [pyparsing]\n",
      "   ----- ---------------------------------- 1/8 [pillow]\n",
      "   ----- ---------------------------------- 1/8 [pillow]\n",
      "   ----- ---------------------------------- 1/8 [pillow]\n",
      "   --------------- ------------------------ 3/8 [fonttools]\n",
      "   --------------- ------------------------ 3/8 [fonttools]\n",
      "   --------------- ------------------------ 3/8 [fonttools]\n",
      "   --------------- ------------------------ 3/8 [fonttools]\n",
      "   --------------- ------------------------ 3/8 [fonttools]\n",
      "   --------------- ------------------------ 3/8 [fonttools]\n",
      "   --------------- ------------------------ 3/8 [fonttools]\n",
      "   --------------- ------------------------ 3/8 [fonttools]\n",
      "   --------------- ------------------------ 3/8 [fonttools]\n",
      "   --------------- ------------------------ 3/8 [fonttools]\n",
      "   --------------- ------------------------ 3/8 [fonttools]\n",
      "   -------------------- ------------------- 4/8 [cycler]\n",
      "   ------------------------------ --------- 6/8 [matplotlib]\n",
      "   ------------------------------ --------- 6/8 [matplotlib]\n",
      "   ------------------------------ --------- 6/8 [matplotlib]\n",
      "   ------------------------------ --------- 6/8 [matplotlib]\n",
      "   ------------------------------ --------- 6/8 [matplotlib]\n",
      "   ------------------------------ --------- 6/8 [matplotlib]\n",
      "   ------------------------------ --------- 6/8 [matplotlib]\n",
      "   ------------------------------ --------- 6/8 [matplotlib]\n",
      "   ------------------------------ --------- 6/8 [matplotlib]\n",
      "   ------------------------------ --------- 6/8 [matplotlib]\n",
      "   ------------------------------ --------- 6/8 [matplotlib]\n",
      "   ------------------------------ --------- 6/8 [matplotlib]\n",
      "   ------------------------------ --------- 6/8 [matplotlib]\n",
      "   ------------------------------ --------- 6/8 [matplotlib]\n",
      "   ------------------------------ --------- 6/8 [matplotlib]\n",
      "   ------------------------------ --------- 6/8 [matplotlib]\n",
      "   ------------------------------ --------- 6/8 [matplotlib]\n",
      "   ----------------------------------- ---- 7/8 [seaborn]\n",
      "   ----------------------------------- ---- 7/8 [seaborn]\n",
      "   ---------------------------------------- 8/8 [seaborn]\n",
      "\n",
      "Successfully installed contourpy-1.3.2 cycler-0.12.1 fonttools-4.58.4 kiwisolver-1.4.8 matplotlib-3.10.3 pillow-11.2.1 pyparsing-3.2.3 seaborn-0.13.2\n"
     ]
    }
   ],
   "source": [
    "!pip install matplotlib seaborn\n"
   ]
  },
  {
   "cell_type": "code",
   "execution_count": 39,
   "id": "1f605054-f697-451b-8567-92a3756c826d",
   "metadata": {},
   "outputs": [
    {
     "name": "stdout",
     "output_type": "stream",
     "text": [
      "Performance Points \n",
      "Accuracy Point : 94.44\n",
      "Precision Point: 100.00\n",
      "Recall Point   : 85.71\n",
      "F1-score Point : 92.31\n"
     ]
    },
    {
     "data": {
      "image/png": "[encoded data removed]",
      "text/plain": [
       "<Figure size 500x300 with 2 Axes>"
      ]
     },
     "metadata": {},
     "output_type": "display_data"
    }
   ],
   "source": [
    "import pandas as pd\n",
    "from sklearn.model_selection import train_test_split\n",
    "from sklearn.ensemble import RandomForestClassifier\n",
    "from sklearn.metrics import accuracy_score, classification_report\n",
    "import seaborn as sns\n",
    "import matplotlib.pyplot as plt\n",
    "df = pd.read_csv(\"lung_cancer.csv\")  \n",
    "df.columns = df.columns.str.strip().str.upper().str.replace(\" \", \"_\")\n",
    "df.replace({'YES': 1, 'NO': 0, 'M': 1, 'F': 0}, inplace=True)\n",
    "df.dropna(inplace=True)\n",
    "X = df.drop([\"RESULT\", \"NAME\", \"SURNAME\"], axis=1)\n",
    "y = df[\"RESULT\"]\n",
    "X_train, X_test, y_train, y_test = train_test_split(X, y, test_size=0.3, random_state=42)\n",
    "model = RandomForestClassifier(n_estimators=100, random_state=42)\n",
    "model.fit(X_train, y_train)\n",
    "y_pred = model.predict(X_test)\n",
    "report = classification_report(y_test, y_pred, output_dict=True)\n",
    "acc = accuracy_score(y_test, y_pred)\n",
    "prec = report['1']['precision']\n",
    "rec = report['1']['recall']\n",
    "f1 = report['1']['f1-score']\n",
    "print(\"Performance Points \")\n",
    "print(f\"Accuracy Point : {acc*100:.2f}\")\n",
    "print(f\"Precision Point: {prec*100:.2f}\")\n",
    "print(f\"Recall Point   : {rec*100:.2f}\")\n",
    "print(f\"F1-score Point : {f1*100:.2f}\")\n",
    "plt.figure(figsize=(5, 3))\n",
    "sns.heatmap(pd.crosstab(y_test, y_pred), annot=True, fmt=\"d\", cmap=\"Greens\")\n",
    "plt.xlabel(\"Predicted\")\n",
    "plt.ylabel(\"Actual\")\n",
    "plt.title(\"Confusion Matrix\")\n",
    "plt.show()\n"
   ]
  },
  {
   "cell_type": "code",
   "execution_count": 40,
   "id": "ec37dffd-9d77-4bff-9176-822aa304ea25",
   "metadata": {},
   "outputs": [
    {
     "name": "stdout",
     "output_type": "stream",
     "text": [
      "Performance Points\n",
      "Accuracy Point : 82.42\n",
      "Precision Point: 84.00\n",
      "Recall Point   : 84.00\n",
      "F1-score Point : 84.00\n"
     ]
    },
    {
     "data": {
      "image/png": "[encoded data removed]",
      "text/plain": [
       "<Figure size 500x300 with 2 Axes>"
      ]
     },
     "metadata": {},
     "output_type": "display_data"
    }
   ],
   "source": [
    "import pandas as pd\n",
    "from sklearn.model_selection import train_test_split\n",
    "from sklearn.ensemble import RandomForestClassifier\n",
    "from sklearn.metrics import accuracy_score, classification_report\n",
    "import seaborn as sns\n",
    "import matplotlib.pyplot as plt\n",
    "df = pd.read_csv(\"heart.csv\")  \n",
    "df.columns = df.columns.str.strip().str.upper().str.replace(\" \", \"_\")\n",
    "df.dropna(inplace=True)\n",
    "X = df.drop(\"TARGET\", axis=1)\n",
    "y = df[\"TARGET\"]\n",
    "X_train, X_test, y_train, y_test = train_test_split(X, y, test_size=0.3, random_state=42)\n",
    "model = RandomForestClassifier(n_estimators=100, random_state=42)\n",
    "model.fit(X_train, y_train)\n",
    "y_pred = model.predict(X_test)\n",
    "report = classification_report(y_test, y_pred, output_dict=True)\n",
    "acc = accuracy_score(y_test, y_pred)\n",
    "prec = report['1']['precision']\n",
    "rec = report['1']['recall']\n",
    "f1 = report['1']['f1-score']\n",
    "print(\"Performance Points\")\n",
    "print(f\"Accuracy Point : {acc*100:.2f}\")\n",
    "print(f\"Precision Point: {prec*100:.2f}\")\n",
    "print(f\"Recall Point   : {rec*100:.2f}\")\n",
    "print(f\"F1-score Point : {f1*100:.2f}\")\n",
    "plt.figure(figsize=(5, 3))\n",
    "sns.heatmap(pd.crosstab(y_test, y_pred), annot=True, fmt=\"d\", cmap=\"Blues\")\n",
    "plt.xlabel(\"Predicted\")\n",
    "plt.ylabel(\"Actual\")\n",
    "plt.title(\"Confusion Matrix\")\n",
    "plt.show()\n"
   ]
  },
  {
   "cell_type": "code",
   "execution_count": 41,
   "id": "860cdfd0-1c8f-41b3-8a0d-bc9e10ea9874",
   "metadata": {},
   "outputs": [
    {
     "name": "stdout",
     "output_type": "stream",
     "text": [
      "Performance Points\n",
      "Accuracy Point : 75.32\n",
      "Precision Point: 63.86\n",
      "Recall Point   : 66.25\n",
      "F1-score Point : 65.03\n"
     ]
    },
    {
     "data": {
      "image/png": "[encoded data removed]",
      "text/plain": [
       "<Figure size 500x300 with 2 Axes>"
      ]
     },
     "metadata": {},
     "output_type": "display_data"
    }
   ],
   "source": [
    "import pandas as pd\n",
    "from sklearn.model_selection import train_test_split\n",
    "from sklearn.ensemble import RandomForestClassifier\n",
    "from sklearn.metrics import accuracy_score, classification_report\n",
    "import seaborn as sns\n",
    "import matplotlib.pyplot as plt\n",
    "df = pd.read_csv(\"diabetes.csv\")\n",
    "df.columns = df.columns.str.strip().str.upper().str.replace(\" \", \"_\")\n",
    "df.dropna(inplace=True)\n",
    "X = df.drop(\"OUTCOME\", axis=1)\n",
    "y = df[\"OUTCOME\"]\n",
    "X_train, X_test, y_train, y_test = train_test_split(X, y, test_size=0.3, random_state=42)\n",
    "model = RandomForestClassifier(n_estimators=100, random_state=42)\n",
    "model.fit(X_train, y_train)\n",
    "y_pred = model.predict(X_test)\n",
    "report = classification_report(y_test, y_pred, output_dict=True)\n",
    "acc = accuracy_score(y_test, y_pred)\n",
    "prec = report['1']['precision']\n",
    "rec = report['1']['recall']\n",
    "f1 = report['1']['f1-score']\n",
    "print(\"Performance Points\")\n",
    "print(f\"Accuracy Point : {acc*100:.2f}\")\n",
    "print(f\"Precision Point: {prec*100:.2f}\")\n",
    "print(f\"Recall Point   : {rec*100:.2f}\")\n",
    "print(f\"F1-score Point : {f1*100:.2f}\")\n",
    "plt.figure(figsize=(5, 3))\n",
    "sns.heatmap(pd.crosstab(y_test, y_pred), annot=True, fmt=\"d\", cmap=\"Purples\")\n",
    "plt.xlabel(\"Predicted\")\n",
    "plt.ylabel(\"Actual\")\n",
    "plt.title(\"Confusion Matrix\")\n",
    "plt.show()\n"
   ]
  },
  {
   "cell_type": "code",
   "execution_count": 48,
   "id": "fed2c8fd-fe09-4cb2-b939-119d04d7ca35",
   "metadata": {},
   "outputs": [
    {
     "name": "stdout",
     "output_type": "stream",
     "text": [
      "Performance Points\n",
      "Accuracy Point : 97.08\n",
      "Precision Point: 98.33\n",
      "Recall Point   : 93.65\n",
      "F1-score Point : 95.93\n"
     ]
    },
    {
     "data": {
      "image/png": "[encoded data removed]",
      "text/plain": [
       "<Figure size 500x300 with 2 Axes>"
      ]
     },
     "metadata": {},
     "output_type": "display_data"
    }
   ],
   "source": [
    "import pandas as pd\n",
    "from sklearn.model_selection import train_test_split\n",
    "from sklearn.ensemble import RandomForestClassifier\n",
    "from sklearn.metrics import accuracy_score, classification_report\n",
    "import seaborn as sns\n",
    "import matplotlib.pyplot as plt\n",
    "df = pd.read_csv(\"breast_cancer.csv\")\n",
    "df.columns = df.columns.str.strip().str.upper().str.replace(\" \", \"_\")\n",
    "df['DIAGNOSIS'] = df['DIAGNOSIS'].replace({'M': 1, 'B': 0})\n",
    "df = df.infer_objects(copy=False)\n",
    "df.dropna(inplace=True)\n",
    "X = df.drop([\"DIAGNOSIS\", \"ID\"], axis=1, errors='ignore')\n",
    "y = df[\"DIAGNOSIS\"]\n",
    "X_train, X_test, y_train, y_test = train_test_split(X, y, test_size=0.3, random_state=42)\n",
    "model = RandomForestClassifier(n_estimators=100, random_state=42)\n",
    "model.fit(X_train, y_train)\n",
    "y_pred = model.predict(X_test)\n",
    "report = classification_report(y_test, y_pred, output_dict=True)\n",
    "acc = accuracy_score(y_test, y_pred)\n",
    "prec = report['1']['precision']\n",
    "rec = report['1']['recall']\n",
    "f1 = report['1']['f1-score']\n",
    "print(\"Performance Points\")\n",
    "print(f\"Accuracy Point : {acc*100:.2f}\")\n",
    "print(f\"Precision Point: {prec*100:.2f}\")\n",
    "print(f\"Recall Point   : {rec*100:.2f}\")\n",
    "print(f\"F1-score Point : {f1*100:.2f}\")\n",
    "plt.figure(figsize=(5, 3))\n",
    "sns.heatmap(pd.crosstab(y_test, y_pred), annot=True, fmt=\"d\", cmap=\"Reds\")\n",
    "plt.xlabel(\"Predicted\")\n",
    "plt.ylabel(\"Actual\")\n",
    "plt.title(\"Confusion Matrix\")\n",
    "plt.show()\n"
   ]
  },
  {
   "cell_type": "code",
   "execution_count": null,
   "id": "f92f0840-f27a-4d57-96a3-49b9314a455d",
   "metadata": {},
   "outputs": [],
   "source": []
  }
 ],
 "metadata": {
  "kernelspec": {
   "display_name": "Python 3 (ipykernel)",
   "language": "python",
   "name": "python3"
  },
  "language_info": {
   "codemirror_mode": {
    "name": "ipython",
    "version": 3
   },
   "file_extension": ".py",
   "mimetype": "text/x-python",
   "name": "python",
   "nbconvert_exporter": "python",
   "pygments_lexer": "ipython3",
   "version": "3.12.11"
  }
 },
 "nbformat": 4,
 "nbformat_minor": 5
}
