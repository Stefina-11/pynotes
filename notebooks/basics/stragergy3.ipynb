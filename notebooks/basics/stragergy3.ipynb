{
 "cells": [
  {
   "cell_type": "code",
   "execution_count": 1,
   "id": "45aeee31-bbb1-4972-9aeb-f33ffbead9fc",
   "metadata": {},
   "outputs": [],
   "source": [
    "from abc import ABC, abstractmethod\n",
    "\n",
    "class Shape(ABC):\n",
    "    @abstractmethod\n",
    "    def area(self): pass\n"
   ]
  },
  {
   "cell_type": "code",
   "execution_count": 2,
   "id": "2de28a13-cd0a-4243-82df-76480ef5f57e",
   "metadata": {},
   "outputs": [],
   "source": [
    "from abc import ABC, abstractmethod\n",
    "\n",
    "class Shape(ABC):\n",
    "    def info(self):\n",
    "        print(\"Shape info\")\n",
    "\n",
    "    @abstractmethod\n",
    "    def area(self): pass\n"
   ]
  },
  {
   "cell_type": "code",
   "execution_count": 4,
   "id": "5d94dfb8-0982-4d92-8300-4c67766539ce",
   "metadata": {},
   "outputs": [],
   "source": [
    "from abc import ABC, abstractmethod\n",
    "\n",
    "class Appliance(ABC):\n",
    "    def plug_in(self):\n",
    "        print(\"Appliance plugged in\")\n",
    "\n",
    "    @abstractmethod\n",
    "    def operate(self): pass\n"
   ]
  },
  {
   "cell_type": "code",
   "execution_count": 5,
   "id": "46bed0b5-7f78-4f3c-8fb5-939db86d0a9f",
   "metadata": {},
   "outputs": [
    {
     "name": "stdout",
     "output_type": "stream",
     "text": [
      "Meow\n"
     ]
    }
   ],
   "source": [
    "from abc import ABC, abstractmethod\n",
    "\n",
    "class Animal(ABC):\n",
    "    @abstractmethod\n",
    "    def sound(self): pass\n",
    "\n",
    "class Cat(Animal):\n",
    "    def sound(self):\n",
    "        print(\"Meow\")\n",
    "\n",
    "c = Cat()\n",
    "c.sound()\n"
   ]
  },
  {
   "cell_type": "code",
   "execution_count": 6,
   "id": "7954ec8c-4a3e-43da-abf4-b7b6b1483867",
   "metadata": {},
   "outputs": [],
   "source": [
    "from abc import ABC, abstractmethod\n",
    "\n",
    "class Machine(ABC):\n",
    "    @abstractmethod\n",
    "    def start(self): pass\n",
    "\n",
    "    @abstractmethod\n",
    "    def stop(self): pass\n",
    "\n",
    "class Fan(Machine):\n",
    "    def start(self): print(\"Fan started\")\n",
    "    def stop(self): print(\"Fan stopped\")\n"
   ]
  },
  {
   "cell_type": "code",
   "execution_count": 7,
   "id": "37329a5d-d394-416e-abe9-6c67e698c084",
   "metadata": {},
   "outputs": [],
   "source": [
    "from abc import ABC, abstractmethod\n",
    "\n",
    "class Shape(ABC):\n",
    "    @abstractmethod\n",
    "    def area(self): pass\n",
    "\n",
    "    @abstractmethod\n",
    "    def volume(self): pass\n"
   ]
  },
  {
   "cell_type": "code",
   "execution_count": 8,
   "id": "27f19a62-5ebf-4611-ae3a-89d112e86828",
   "metadata": {},
   "outputs": [
    {
     "name": "stdout",
     "output_type": "stream",
     "text": [
      "Baking Pizza\n",
      "Serve on plate\n"
     ]
    }
   ],
   "source": [
    "from abc import ABC, abstractmethod\n",
    "\n",
    "class Meal(ABC):\n",
    "    def prepare_meal(self):\n",
    "        self.cook()\n",
    "        self.serve()\n",
    "\n",
    "    @abstractmethod\n",
    "    def cook(self): pass\n",
    "\n",
    "    def serve(self):\n",
    "        print(\"Serve on plate\")\n",
    "\n",
    "class Pizza(Meal):\n",
    "    def cook(self):\n",
    "        print(\"Baking Pizza\")\n",
    "\n",
    "p = Pizza()\n",
    "p.prepare_meal()\n"
   ]
  },
  {
   "cell_type": "code",
   "execution_count": 9,
   "id": "ab765d06-4f23-4a2c-8eca-e70c92144da8",
   "metadata": {},
   "outputs": [],
   "source": [
    "from abc import ABC, abstractmethod\n",
    "\n",
    "class Base(ABC):\n",
    "    def __init__(self):\n",
    "        print(\"Base init\")\n",
    "\n",
    "    @abstractmethod\n",
    "    def display(self): pass\n"
   ]
  },
  {
   "cell_type": "code",
   "execution_count": 10,
   "id": "5e8455a9-8da7-4deb-b235-9e9950deb968",
   "metadata": {},
   "outputs": [
    {
     "name": "stdout",
     "output_type": "stream",
     "text": [
      "TV power toggled\n"
     ]
    }
   ],
   "source": [
    "from abc import ABC, abstractmethod\n",
    "\n",
    "class RemoteControl(ABC):\n",
    "    @abstractmethod\n",
    "    def power(self): pass\n",
    "\n",
    "class TV(RemoteControl):\n",
    "    def power(self):\n",
    "        print(\"TV power toggled\")\n",
    "\n",
    "tv = TV()\n",
    "tv.power()\n"
   ]
  },
  {
   "cell_type": "code",
   "execution_count": 11,
   "id": "26d35207-c6bf-4c13-b858-30800a0cc6cc",
   "metadata": {},
   "outputs": [
    {
     "name": "stdout",
     "output_type": "stream",
     "text": [
      "This is the help section.\n"
     ]
    }
   ],
   "source": [
    "from abc import ABC, abstractmethod\n",
    "\n",
    "class Utils(ABC):\n",
    "    @staticmethod\n",
    "    @abstractmethod\n",
    "    def help(): pass\n",
    "\n",
    "class HelpSystem(Utils):\n",
    "    @staticmethod\n",
    "    def help():\n",
    "        print(\"This is the help section.\")\n",
    "\n",
    "HelpSystem.help()\n"
   ]
  },
  {
   "cell_type": "code",
   "execution_count": 12,
   "id": "5429354b-701f-4c94-806b-828024ee2048",
   "metadata": {},
   "outputs": [
    {
     "name": "stdout",
     "output_type": "stream",
     "text": [
      "Stefina\n"
     ]
    }
   ],
   "source": [
    "class User:\n",
    "    def __init__(self, name):\n",
    "        self.name = name\n",
    "\n",
    "u = User(\"Stefina\")\n",
    "print(u.name)\n"
   ]
  },
  {
   "cell_type": "code",
   "execution_count": 13,
   "id": "d65e21cc-6110-4b70-93d2-b6ecc2873146",
   "metadata": {},
   "outputs": [
    {
     "name": "stdout",
     "output_type": "stream",
     "text": [
      "Product: Laptop\n"
     ]
    }
   ],
   "source": [
    "class Product:\n",
    "    def __init__(self, name):\n",
    "        self.name = name\n",
    "\n",
    "    def __str__(self):\n",
    "        return f\"Product: {self.name}\"\n",
    "\n",
    "p = Product(\"Laptop\")\n",
    "print(p)\n"
   ]
  },
  {
   "cell_type": "code",
   "execution_count": 14,
   "id": "4b1dc8d2-fe6d-4c23-8e79-3e15016d0db7",
   "metadata": {},
   "outputs": [
    {
     "name": "stdout",
     "output_type": "stream",
     "text": [
      "Point(10)\n"
     ]
    }
   ],
   "source": [
    "class Point:\n",
    "    def __init__(self, x):\n",
    "        self.x = x\n",
    "\n",
    "    def __repr__(self):\n",
    "        return f\"Point({self.x})\"\n",
    "\n",
    "p = Point(10)\n",
    "print(repr(p))\n"
   ]
  },
  {
   "cell_type": "code",
   "execution_count": 15,
   "id": "9f327e8d-ac0c-454d-994e-bb185605f6ca",
   "metadata": {},
   "outputs": [
    {
     "name": "stdout",
     "output_type": "stream",
     "text": [
      "File object deleted\n"
     ]
    }
   ],
   "source": [
    "class File:\n",
    "    def __del__(self):\n",
    "        print(\"File object deleted\")\n",
    "\n",
    "f = File()\n",
    "del f\n"
   ]
  },
  {
   "cell_type": "code",
   "execution_count": 16,
   "id": "6eca6ed6-67e4-4796-b4ab-188d274fd0e3",
   "metadata": {},
   "outputs": [
    {
     "name": "stdout",
     "output_type": "stream",
     "text": [
      "250\n"
     ]
    }
   ],
   "source": [
    "class Book:\n",
    "    def __init__(self, pages):\n",
    "        self.pages = pages\n",
    "\n",
    "    def __len__(self):\n",
    "        return self.pages\n",
    "\n",
    "b = Book(250)\n",
    "print(len(b))\n"
   ]
  },
  {
   "cell_type": "code",
   "execution_count": 17,
   "id": "48bd1dff-b15e-421c-82cd-6d32660db732",
   "metadata": {},
   "outputs": [
    {
     "name": "stdout",
     "output_type": "stream",
     "text": [
      "True\n"
     ]
    }
   ],
   "source": [
    "class MyList:\n",
    "    def __init__(self, data):\n",
    "        self.data = data\n",
    "\n",
    "    def __contains__(self, item):\n",
    "        return item in self.data\n",
    "\n",
    "ml = MyList([1, 2, 3])\n",
    "print(2 in ml)\n"
   ]
  },
  {
   "cell_type": "code",
   "execution_count": 18,
   "id": "f121c7ff-4848-4ed1-a74a-3019e81e40db",
   "metadata": {},
   "outputs": [
    {
     "name": "stdout",
     "output_type": "stream",
     "text": [
      "1\n",
      "2\n",
      "3\n"
     ]
    }
   ],
   "source": [
    "class Counter:\n",
    "    def __init__(self, limit):\n",
    "        self.limit = limit\n",
    "        self.num = 0\n",
    "\n",
    "    def __iter__(self):\n",
    "        return self\n",
    "\n",
    "    def __next__(self):\n",
    "        if self.num < self.limit:\n",
    "            self.num += 1\n",
    "            return self.num\n",
    "        else:\n",
    "            raise StopIteration\n",
    "\n",
    "for i in Counter(3):\n",
    "    print(i)\n"
   ]
  },
  {
   "cell_type": "code",
   "execution_count": 19,
   "id": "cecc9149-cbaa-495f-9cc3-76eac4f5ab1f",
   "metadata": {},
   "outputs": [
    {
     "name": "stdout",
     "output_type": "stream",
     "text": [
      "True\n"
     ]
    }
   ],
   "source": [
    "class Box:\n",
    "    def __init__(self, weight):\n",
    "        self.weight = weight\n",
    "\n",
    "    def __eq__(self, other):\n",
    "        return self.weight == other.weight\n",
    "\n",
    "b1 = Box(50)\n",
    "b2 = Box(50)\n",
    "print(b1 == b2)\n"
   ]
  },
  {
   "cell_type": "code",
   "execution_count": 20,
   "id": "81345bfa-f84c-4b53-b716-ea340e8f5d3d",
   "metadata": {},
   "outputs": [
    {
     "name": "stdout",
     "output_type": "stream",
     "text": [
      "123\n"
     ]
    }
   ],
   "source": [
    "class ID:\n",
    "    def __init__(self, num):\n",
    "        self.num = num\n",
    "\n",
    "    def __hash__(self):\n",
    "        return hash(self.num)\n",
    "\n",
    "id1 = ID(123)\n",
    "print(hash(id1))\n"
   ]
  },
  {
   "cell_type": "code",
   "execution_count": 21,
   "id": "df7cec66-0f44-4746-be9d-7ce058b63f12",
   "metadata": {},
   "outputs": [
    {
     "name": "stdout",
     "output_type": "stream",
     "text": [
      "True\n"
     ]
    }
   ],
   "source": [
    "class Cart:\n",
    "    def __init__(self, items):\n",
    "        self.items = items\n",
    "\n",
    "    def __bool__(self):\n",
    "        return bool(self.items)\n",
    "\n",
    "cart = Cart([\"item1\"])\n",
    "print(bool(cart))\n"
   ]
  },
  {
   "cell_type": "code",
   "execution_count": 22,
   "id": "c5c5f400-8aac-4fac-a135-3df2efaf3953",
   "metadata": {},
   "outputs": [
    {
     "name": "stdout",
     "output_type": "stream",
     "text": [
      "True\n"
     ]
    }
   ],
   "source": [
    "class Singleton:\n",
    "    _instance = None\n",
    "\n",
    "    def __new__(cls):\n",
    "        if cls._instance is None:\n",
    "            cls._instance = super().__new__(cls)\n",
    "        return cls._instance\n",
    "\n",
    "s1 = Singleton()\n",
    "s2 = Singleton()\n",
    "print(s1 is s2)\n"
   ]
  },
  {
   "cell_type": "code",
   "execution_count": 23,
   "id": "a8cdf485-9fb5-4c8c-b360-e27a5f28428e",
   "metadata": {},
   "outputs": [
    {
     "name": "stdout",
     "output_type": "stream",
     "text": [
      "Meow\n"
     ]
    }
   ],
   "source": [
    "class Dog:\n",
    "    def speak(self): return \"Woof\"\n",
    "\n",
    "class Cat:\n",
    "    def speak(self): return \"Meow\"\n",
    "\n",
    "def pet_factory(pet=\"dog\"):\n",
    "    pets = dict(dog=Dog(), cat=Cat())\n",
    "    return pets[pet]\n",
    "\n",
    "pet = pet_factory(\"cat\")\n",
    "print(pet.speak())\n"
   ]
  },
  {
   "cell_type": "code",
   "execution_count": 24,
   "id": "e4e07065-4245-46be-b1a5-48be87ce07a3",
   "metadata": {},
   "outputs": [
    {
     "name": "stdout",
     "output_type": "stream",
     "text": [
      "<b>Hello</b>\n"
     ]
    }
   ],
   "source": [
    "class BoldText:\n",
    "    def __init__(self, text):\n",
    "        self.text = text\n",
    "\n",
    "    def render(self):\n",
    "        return f\"<b>{self.text}</b>\"\n",
    "\n",
    "msg = BoldText(\"Hello\")\n",
    "print(msg.render())\n"
   ]
  },
  {
   "cell_type": "code",
   "execution_count": 25,
   "id": "16b737cc-91b2-4e07-b41c-b4292292d8c6",
   "metadata": {},
   "outputs": [
    {
     "name": "stdout",
     "output_type": "stream",
     "text": [
      "Subscriber updated!\n"
     ]
    }
   ],
   "source": [
    "class Publisher:\n",
    "    def __init__(self):\n",
    "        self.subscribers = []\n",
    "\n",
    "    def subscribe(self, sub):\n",
    "        self.subscribers.append(sub)\n",
    "\n",
    "    def notify(self):\n",
    "        for sub in self.subscribers:\n",
    "            sub.update()\n",
    "\n",
    "class Subscriber:\n",
    "    def update(self):\n",
    "        print(\"Subscriber updated!\")\n",
    "\n",
    "p = Publisher()\n",
    "s = Subscriber()\n",
    "p.subscribe(s)\n",
    "p.notify()\n"
   ]
  },
  {
   "cell_type": "code",
   "execution_count": 26,
   "id": "1b45cc26-6c71-4f5c-a1b0-257858c65999",
   "metadata": {},
   "outputs": [
    {
     "name": "stdout",
     "output_type": "stream",
     "text": [
      "1300\n"
     ]
    }
   ],
   "source": [
    "class BankAccount:\n",
    "    def __init__(self, owner, balance=0):\n",
    "        self.owner = owner\n",
    "        self.balance = balance\n",
    "\n",
    "    def deposit(self, amount):\n",
    "        self.balance += amount\n",
    "\n",
    "    def withdraw(self, amount):\n",
    "        if amount <= self.balance:\n",
    "            self.balance -= amount\n",
    "\n",
    "a = BankAccount(\"Stefina\", 1000)\n",
    "a.deposit(500)\n",
    "a.withdraw(200)\n",
    "print(a.balance)\n"
   ]
  },
  {
   "cell_type": "code",
   "execution_count": 27,
   "id": "2d70df3f-4df2-4b00-a769-18e1e2e0c5b4",
   "metadata": {},
   "outputs": [
    {
     "name": "stdout",
     "output_type": "stream",
     "text": [
      "Pen 10\n"
     ]
    }
   ],
   "source": [
    "class Product:\n",
    "    def __init__(self, name, qty):\n",
    "        self.name = name\n",
    "        self.qty = qty\n",
    "\n",
    "class Inventory:\n",
    "    def __init__(self):\n",
    "        self.products = []\n",
    "\n",
    "    def add_product(self, product):\n",
    "        self.products.append(product)\n",
    "\n",
    "    def show(self):\n",
    "        for p in self.products:\n",
    "            print(p.name, p.qty)\n",
    "\n",
    "inv = Inventory()\n",
    "inv.add_product(Product(\"Pen\", 10))\n",
    "inv.show()\n"
   ]
  },
  {
   "cell_type": "code",
   "execution_count": 28,
   "id": "cd181a5b-47b0-49d4-bde0-da8856715ad6",
   "metadata": {},
   "outputs": [
    {
     "name": "stdout",
     "output_type": "stream",
     "text": [
      "Ana 90\n"
     ]
    }
   ],
   "source": [
    "class Student:\n",
    "    def __init__(self, name, grade):\n",
    "        self.name = name\n",
    "        self.grade = grade\n",
    "\n",
    "class School:\n",
    "    def __init__(self):\n",
    "        self.students = []\n",
    "\n",
    "    def add_student(self, s):\n",
    "        self.students.append(s)\n",
    "\n",
    "    def display(self):\n",
    "        for s in self.students:\n",
    "            print(s.name, s.grade)\n",
    "\n",
    "s1 = Student(\"Ana\", 90)\n",
    "school = School()\n",
    "school.add_student(s1)\n",
    "school.display()\n"
   ]
  },
  {
   "cell_type": "code",
   "execution_count": 29,
   "id": "9dc254d8-703c-4d19-a126-6f30a58c8702",
   "metadata": {},
   "outputs": [
    {
     "name": "stdout",
     "output_type": "stream",
     "text": [
      "Python 101\n"
     ]
    }
   ],
   "source": [
    "class Book:\n",
    "    def __init__(self, title):\n",
    "        self.title = title\n",
    "\n",
    "class Library:\n",
    "    def __init__(self):\n",
    "        self.books = []\n",
    "\n",
    "    def add_book(self, b):\n",
    "        self.books.append(b)\n",
    "\n",
    "    def list_books(self):\n",
    "        for b in self.books:\n",
    "            print(b.title)\n",
    "\n",
    "lib = Library()\n",
    "lib.add_book(Book(\"Python 101\"))\n",
    "lib.list_books()\n"
   ]
  },
  {
   "cell_type": "code",
   "execution_count": 30,
   "id": "d5a163de-a7ab-4d6b-ae5d-8218c8929b20",
   "metadata": {},
   "outputs": [
    {
     "name": "stdout",
     "output_type": "stream",
     "text": [
      "John Flu\n"
     ]
    }
   ],
   "source": [
    "class Patient:\n",
    "    def __init__(self, name, disease):\n",
    "        self.name = name\n",
    "        self.disease = disease\n",
    "\n",
    "class Hospital:\n",
    "    def __init__(self):\n",
    "        self.patients = []\n",
    "\n",
    "    def admit(self, p):\n",
    "        self.patients.append(p)\n",
    "\n",
    "h = Hospital()\n",
    "h.admit(Patient(\"John\", \"Flu\"))\n",
    "for p in h.patients:\n",
    "    print(p.name, p.disease)\n"
   ]
  },
  {
   "cell_type": "code",
   "execution_count": 31,
   "id": "30a69afc-b186-4f36-b4a5-8c93f3510d05",
   "metadata": {},
   "outputs": [
    {
     "name": "stdout",
     "output_type": "stream",
     "text": [
      "Withdrawn: 300\n",
      "Balance: 700\n"
     ]
    }
   ],
   "source": [
    "class ATM:\n",
    "    def __init__(self, balance):\n",
    "        self.balance = balance\n",
    "\n",
    "    def withdraw(self, amount):\n",
    "        if amount <= self.balance:\n",
    "            self.balance -= amount\n",
    "            print(f\"Withdrawn: {amount}\")\n",
    "        else:\n",
    "            print(\"Insufficient balance\")\n",
    "\n",
    "atm = ATM(1000)\n",
    "atm.withdraw(300)\n",
    "print(\"Balance:\", atm.balance)\n"
   ]
  },
  {
   "cell_type": "code",
   "execution_count": 32,
   "id": "bdd6d7b8-d3ec-4acd-aaeb-cc848e284e98",
   "metadata": {},
   "outputs": [
    {
     "name": "stdout",
     "output_type": "stream",
     "text": [
      "['apple', 'banana', 'cherry']\n",
      "banana\n",
      "3\n",
      "mango\n",
      "cherry\n",
      "orange\n",
      "False\n",
      "['mango', 'cherry', 'orange', 5, 4, 3, 1]\n",
      "3\n",
      "2\n",
      "2\n",
      "red\n",
      "3\n",
      "red\n",
      "green\n",
      "blue\n",
      "3\n",
      "('green', 'blue')\n",
      "True\n",
      "('red', 'green', 'blue', 'yellow')\n",
      "{1, 2, 3}\n",
      "{2}\n",
      "{1}\n",
      "{1, 3}\n",
      "True\n",
      "True\n",
      "3\n",
      "1\n",
      "3\n",
      "4\n",
      "John\n",
      "Not available\n",
      "['name', 'age', 'grade']\n",
      "['John', 21, 'A']\n",
      "[('name', 'John'), ('age', 21), ('grade', 'A')]\n",
      "name John\n",
      "age 21\n",
      "grade A\n",
      "True\n",
      "Ana\n",
      "2\n",
      "Unknown\n",
      "Empty\n",
      "True\n",
      "10\n",
      "1\n",
      "1\n",
      "deque(['B', 'C', 'A'])\n",
      "Balanced\n",
      "0\n",
      "olleh\n",
      "False\n",
      "hll\n",
      "Counter({'l': 2, 'h': 1, 'e': 1, 'o': 1})\n",
      "False\n",
      "hi-there-how-are-you\n",
      "there\n",
      "True\n",
      "he**o\n",
      "2\n",
      "90\n",
      "value\n",
      "2\n",
      "Sam\n",
      "Lily\n",
      "True\n",
      "{frozenset({3, 4}), frozenset({1, 2})}\n",
      "{'a': 1, 'b': 2}\n",
      "[1, 2, 3, 4]\n"
     ]
    }
   ],
   "source": [
    "fruits = [\"apple\", \"banana\", \"cherry\"]\n",
    "print(fruits)\n",
    "print(fruits[1])\n",
    "fruits[0] = \"mango\"\n",
    "fruits.append(\"orange\")\n",
    "fruits.insert(1, \"grape\")\n",
    "fruits.remove(\"banana\")\n",
    "fruits.pop(1)\n",
    "print(len(fruits))\n",
    "for f in fruits:\n",
    "    print(f)\n",
    "print(\"apple\" in fruits)\n",
    "nums = [3, 5, 1, 4]\n",
    "nums.sort()\n",
    "nums.reverse()\n",
    "copy_list = fruits.copy()\n",
    "print(fruits + nums)\n",
    "squares = [x*x for x in range(6)]\n",
    "even = [x for x in range(10) if x % 2 == 0]\n",
    "matrix = [[1, 2], [3, 4]]\n",
    "print(matrix[1][0])\n",
    "print(fruits.index(\"orange\"))\n",
    "nums = [1, 2, 2, 3]\n",
    "print(nums.count(2))\n",
    "fruits.clear()\n",
    "\n",
    "colors = (\"red\", \"green\", \"blue\")\n",
    "print(colors[0])\n",
    "print(len(colors))\n",
    "for c in colors:\n",
    "    print(c)\n",
    "temp = list(colors)\n",
    "a, b, c = colors\n",
    "nested = ((1, 2), (3, 4))\n",
    "print(nested[1][0])\n",
    "print(colors[1:])\n",
    "print(\"green\" in colors)\n",
    "print(colors + (\"yellow\",))\n",
    "\n",
    "s = {1, 2, 3}\n",
    "s.add(4)\n",
    "s.remove(2)\n",
    "s.discard(5)\n",
    "a = {1, 2}\n",
    "b = {2, 3}\n",
    "print(a.union(b))\n",
    "print(a.intersection(b))\n",
    "print(a.difference(b))\n",
    "print(a.symmetric_difference(b))\n",
    "print({1}.issubset(a))\n",
    "print(a.issuperset({1}))\n",
    "a.clear()\n",
    "print(len(s))\n",
    "for item in s:\n",
    "    print(item)\n",
    "frozen = frozenset([1, 2, 3])\n",
    "unique = set([1, 2, 2, 3])\n",
    "\n",
    "student = {\"name\": \"John\", \"age\": 20}\n",
    "print(student[\"name\"])\n",
    "print(student.get(\"grade\", \"Not available\"))\n",
    "student[\"grade\"] = \"A\"\n",
    "student[\"age\"] = 21\n",
    "print(list(student.keys()))\n",
    "print(list(student.values()))\n",
    "print(list(student.items()))\n",
    "for k, v in student.items():\n",
    "    print(k, v)\n",
    "print(\"name\" in student)\n",
    "student.pop(\"grade\")\n",
    "del student[\"age\"]\n",
    "student.clear()\n",
    "copy_dict = student.copy()\n",
    "d1 = {\"a\": 1}\n",
    "d2 = {\"b\": 2}\n",
    "d1.update(d2)\n",
    "data = {\"emp\": {\"name\": \"Ana\", \"id\": 101}}\n",
    "print(data[\"emp\"][\"name\"])\n",
    "squares = {x: x*x for x in range(5)}\n",
    "print(len(d1))\n",
    "print(student.setdefault(\"name\", \"Unknown\"))\n",
    "student.clear()\n",
    "\n",
    "stack = []\n",
    "stack.append(1)\n",
    "stack.append(2)\n",
    "stack.pop()\n",
    "queue = [1, 2, 3]\n",
    "queue.pop(0)\n",
    "from collections import deque\n",
    "stack = deque()\n",
    "stack.append(5)\n",
    "stack.pop()\n",
    "queue = deque()\n",
    "queue.append(10)\n",
    "queue.popleft()\n",
    "print(stack[-1] if stack else \"Empty\")\n",
    "print(len(stack) == 0)\n",
    "q = deque([1, 2, 3])\n",
    "q.reverse()\n",
    "class Stack:\n",
    "    def __init__(self): self.items = []\n",
    "    def push(self, item): self.items.append(item)\n",
    "    def pop(self): return self.items.pop()\n",
    "s = Stack()\n",
    "s.push(10)\n",
    "print(s.pop())\n",
    "class Queue:\n",
    "    def __init__(self): self.items = deque()\n",
    "    def enqueue(self, item): self.items.append(item)\n",
    "    def dequeue(self): return self.items.popleft()\n",
    "q = Queue()\n",
    "q.enqueue(1)\n",
    "print(q.dequeue())\n",
    "import heapq\n",
    "pq = []\n",
    "heapq.heappush(pq, 2)\n",
    "heapq.heappush(pq, 1)\n",
    "print(heapq.heappop(pq))\n",
    "people = deque([\"A\", \"B\", \"C\"])\n",
    "people.rotate(-1)\n",
    "print(people)\n",
    "expr = \"(()())\"\n",
    "stack = []\n",
    "balanced = True\n",
    "for char in expr:\n",
    "    if char == \"(\":\n",
    "        stack.append(char)\n",
    "    elif char == \")\":\n",
    "        if not stack:\n",
    "            balanced = False\n",
    "            break\n",
    "        stack.pop()\n",
    "print(\"Balanced\" if balanced and not stack else \"Unbalanced\")\n",
    "print(len(queue))\n",
    "\n",
    "s = \"hello\"\n",
    "print(s[::-1])\n",
    "print(s == s[::-1])\n",
    "print(''.join([ch for ch in s if ch.lower() not in 'aeiou']))\n",
    "from collections import Counter\n",
    "print(Counter(s))\n",
    "print(len(set(s)) == len(s))\n",
    "sentence = \"hi there how are you\"\n",
    "words = sentence.split()\n",
    "print('-'.join(words))\n",
    "print(max(words, key=len))\n",
    "a, b = \"listen\", \"silent\"\n",
    "print(sorted(a) == sorted(b))\n",
    "print(s.replace(\"l\", \"*\"))\n",
    "\n",
    "users = [{\"id\": 1}, {\"id\": 2}]\n",
    "print(users[1][\"id\"])\n",
    "grades = {\"Math\": [90, 85]}\n",
    "print(grades[\"Math\"][0])\n",
    "d = {(1, 2): \"value\"}\n",
    "print(d[(1, 2)])\n",
    "mat = [[1, 2], [3, 4]]\n",
    "print(mat[0][1])\n",
    "class Person:\n",
    "    def __init__(self, name): self.name = name\n",
    "people = [Person(\"Sam\")]\n",
    "print(people[0].name)\n",
    "objs = {\"p1\": Person(\"Lily\")}\n",
    "print(objs[\"p1\"].name)\n",
    "coords = {(0, 0), (1, 1)}\n",
    "print((1, 1) in coords)\n",
    "fs = {frozenset([1, 2]), frozenset([3, 4])}\n",
    "print(fs)\n",
    "keys = ['a', 'b']\n",
    "vals = [1, 2]\n",
    "print(dict(zip(keys, vals)))\n",
    "nested = [[1, 2], [3, 4]]\n",
    "flat = [num for sublist in nested for num in sublist]\n",
    "print(flat)\n"
   ]
  },
  {
   "cell_type": "code",
   "execution_count": null,
   "id": "8d36c2df-1435-4ddb-baae-95d00097db35",
   "metadata": {},
   "outputs": [],
   "source": []
  }
 ],
 "metadata": {
  "kernelspec": {
   "display_name": "Python 3 (ipykernel)",
   "language": "python",
   "name": "python3"
  },
  "language_info": {
   "codemirror_mode": {
    "name": "ipython",
    "version": 3
   },
   "file_extension": ".py",
   "mimetype": "text/x-python",
   "name": "python",
   "nbconvert_exporter": "python",
   "pygments_lexer": "ipython3",
   "version": "3.12.11"
  }
 },
 "nbformat": 4,
 "nbformat_minor": 5
}
