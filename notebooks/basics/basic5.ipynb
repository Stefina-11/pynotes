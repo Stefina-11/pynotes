{
 "cells": [
  {
   "cell_type": "code",
   "execution_count": 2,
   "id": "d4f55008-1f62-47cc-81cb-55b16bb0d262",
   "metadata": {},
   "outputs": [
    {
     "name": "stdout",
     "output_type": "stream",
     "text": [
      "File Content:\n",
      "\n",
      "Hello, Stefina!\n",
      "This is a sample file created by Python.\n",
      "Welcome to file handling!\n"
     ]
    }
   ],
   "source": [
    "\n",
    "with open(\"sample.txt\", \"w\") as file:\n",
    "    file.write(\"Hello, Stefina!\\nThis is a sample file created by Python.\\nWelcome to file handling!\")\n",
    "with open(\"sample.txt\", \"r\") as file:\n",
    "    content = file.read()\n",
    "    print(\"File Content:\\n\")\n",
    "    print(content)\n"
   ]
  },
  {
   "cell_type": "code",
   "execution_count": 4,
   "id": "01d260d8-576b-4adb-996e-ca49854cc737",
   "metadata": {},
   "outputs": [
    {
     "name": "stdin",
     "output_type": "stream",
     "text": [
      "Enter text to write:  AI Engineer\n"
     ]
    }
   ],
   "source": [
    "with open(\"output.txt\", \"w\") as file:\n",
    "    file.write(input(\"Enter text to write: \"))\n"
   ]
  },
  {
   "cell_type": "code",
   "execution_count": 5,
   "id": "ac61c89f-3933-4eed-a145-db5d7910594a",
   "metadata": {},
   "outputs": [
    {
     "name": "stdin",
     "output_type": "stream",
     "text": [
      "Enter text to append:  passionate in Deep leaning\n"
     ]
    }
   ],
   "source": [
    "with open(\"output.txt\", \"a\") as file:\n",
    "    file.write(\"\\n\" + input(\"Enter text to append: \"))\n"
   ]
  },
  {
   "cell_type": "code",
   "execution_count": 6,
   "id": "c3e1bee1-f409-4134-9144-32d0ea8e11fb",
   "metadata": {},
   "outputs": [
    {
     "name": "stdout",
     "output_type": "stream",
     "text": [
      "Line count: 3\n"
     ]
    }
   ],
   "source": [
    "with open(\"sample.txt\", \"r\") as file:\n",
    "    lines = file.readlines()\n",
    "    print(\"Line count:\", len(lines))\n"
   ]
  },
  {
   "cell_type": "code",
   "execution_count": 7,
   "id": "3a37c7cc-2c29-4ca8-a095-cf3d16e01798",
   "metadata": {},
   "outputs": [
    {
     "name": "stdout",
     "output_type": "stream",
     "text": [
      "Word count: 14\n"
     ]
    }
   ],
   "source": [
    "with open(\"sample.txt\", \"r\") as file:\n",
    "    words = file.read().split()\n",
    "    print(\"Word count:\", len(words))\n"
   ]
  },
  {
   "cell_type": "code",
   "execution_count": 9,
   "id": "2f8329f6-54dd-4dc8-b955-e18948050402",
   "metadata": {},
   "outputs": [
    {
     "name": "stdout",
     "output_type": "stream",
     "text": [
      "Character count: 82\n"
     ]
    }
   ],
   "source": [
    "with open(\"sample.txt\", \"r\") as file:\n",
    "    text = file.read()\n",
    "    print(\"Character count:\", len(text))\n"
   ]
  },
  {
   "cell_type": "code",
   "execution_count": 10,
   "id": "6b9ce1a9-45ad-4df3-8cb5-b3b455b42eda",
   "metadata": {},
   "outputs": [
    {
     "name": "stdout",
     "output_type": "stream",
     "text": [
      "Longest word: handling!\n"
     ]
    }
   ],
   "source": [
    "with open(\"sample.txt\", \"r\") as file:\n",
    "    words = file.read().split()\n",
    "    print(\"Longest word:\", max(words, key=len))\n"
   ]
  },
  {
   "cell_type": "code",
   "execution_count": 11,
   "id": "0a638673-806a-4fdc-b580-43e4b835a4e1",
   "metadata": {},
   "outputs": [],
   "source": [
    "with open(\"sample.txt\", \"r\") as src, open(\"copy.txt\", \"w\") as dest:\n",
    "    dest.write(src.read())\n"
   ]
  },
  {
   "cell_type": "code",
   "execution_count": 12,
   "id": "711d2b69-2cdb-4899-8c52-f7cecc74989f",
   "metadata": {},
   "outputs": [
    {
     "name": "stdout",
     "output_type": "stream",
     "text": [
      "File exists\n"
     ]
    }
   ],
   "source": [
    "import os\n",
    "\n",
    "filename = \"sample.txt\"\n",
    "print(\"File exists\" if os.path.exists(filename) else \"File does not exist\")\n"
   ]
  },
  {
   "cell_type": "code",
   "execution_count": 13,
   "id": "62c22359-e0b3-4646-b8ad-af90be3a9ccd",
   "metadata": {},
   "outputs": [
    {
     "name": "stdout",
     "output_type": "stream",
     "text": [
      "File created\n"
     ]
    }
   ],
   "source": [
    "import os\n",
    "\n",
    "filename = \"newfile.txt\"\n",
    "if not os.path.exists(filename):\n",
    "    open(filename, \"w\").close()\n",
    "    print(\"File created\")\n",
    "else:\n",
    "    print(\"File already exists\")\n"
   ]
  },
  {
   "cell_type": "code",
   "execution_count": 17,
   "id": "873fbdc9-027c-4051-a769-bbf763337d1b",
   "metadata": {},
   "outputs": [],
   "source": [
    "\n",
    "with open(\"oldname.txt\", \"w\") as file:\n",
    "    file.write(\"This is the file you will rename.\")\n"
   ]
  },
  {
   "cell_type": "code",
   "execution_count": 18,
   "id": "73bd49f9-befd-4cc7-a365-1bbdc8a5dd5f",
   "metadata": {},
   "outputs": [
    {
     "name": "stdout",
     "output_type": "stream",
     "text": [
      "File renamed\n"
     ]
    }
   ],
   "source": [
    "import os\n",
    "\n",
    "if os.path.exists(\"oldname.txt\"):\n",
    "    os.rename(\"oldname.txt\", \"newname.txt\")\n",
    "    print(\"File renamed\")\n",
    "else:\n",
    "    print(\"File 'oldname.txt' not found.\")\n"
   ]
  },
  {
   "cell_type": "code",
   "execution_count": 20,
   "id": "2d6a00a8-589f-40e6-898a-cc41713c842e",
   "metadata": {},
   "outputs": [
    {
     "name": "stdout",
     "output_type": "stream",
     "text": [
      "Vowel count: 24\n"
     ]
    }
   ],
   "source": [
    "with open(\"sample.txt\", \"r\") as file:\n",
    "    text = file.read().lower()\n",
    "    vowels = \"aeiou\"\n",
    "    count = sum(1 for ch in text if ch in vowels)\n",
    "    print(\"Vowel count:\", count)\n"
   ]
  },
  {
   "cell_type": "code",
   "execution_count": 21,
   "id": "ce97fd2a-eb90-45a3-9d4f-8dc0767dfc64",
   "metadata": {},
   "outputs": [
    {
     "name": "stdin",
     "output_type": "stream",
     "text": [
      "Enter first number:  20\n",
      "Enter second number:  30\n",
      "Enter operation (+, -, *, /):  /\n"
     ]
    },
    {
     "name": "stdout",
     "output_type": "stream",
     "text": [
      "0.6666666666666666\n"
     ]
    }
   ],
   "source": [
    "def add(a, b): return a + b\n",
    "def sub(a, b): return a - b\n",
    "def mul(a, b): return a * b\n",
    "def div(a, b): return a / b\n",
    "\n",
    "a = float(input(\"Enter first number: \"))\n",
    "b = float(input(\"Enter second number: \"))\n",
    "op = input(\"Enter operation (+, -, *, /): \")\n",
    "\n",
    "if op == '+':\n",
    "    print(add(a, b))\n",
    "elif op == '-':\n",
    "    print(sub(a, b))\n",
    "elif op == '*':\n",
    "    print(mul(a, b))\n",
    "elif op == '/':\n",
    "    print(div(a, b))\n",
    "else:\n",
    "    print(\"Invalid operator\")\n"
   ]
  },
  {
   "cell_type": "code",
   "execution_count": 22,
   "id": "42780858-f48d-4c14-b26e-53034c44f8d3",
   "metadata": {},
   "outputs": [
    {
     "name": "stdin",
     "output_type": "stream",
     "text": [
      "Enter task (or 'done' to exit):  23\n",
      "Enter task (or 'done' to exit):  20\n",
      "Enter task (or 'done' to exit):  22\n",
      "Enter task (or 'done' to exit):  done\n"
     ]
    },
    {
     "name": "stdout",
     "output_type": "stream",
     "text": [
      "Your To-Do List:\n",
      "1. 23\n",
      "2. 20\n",
      "3. 22\n"
     ]
    }
   ],
   "source": [
    "todo = []\n",
    "\n",
    "while True:\n",
    "    task = input(\"Enter task (or 'done' to exit): \")\n",
    "    if task.lower() == 'done':\n",
    "        break\n",
    "    todo.append(task)\n",
    "\n",
    "print(\"Your To-Do List:\")\n",
    "for i, task in enumerate(todo, 1):\n",
    "    print(f\"{i}. {task}\")\n"
   ]
  },
  {
   "cell_type": "code",
   "execution_count": 24,
   "id": "8d1f7e5a-e4cf-46d5-aa42-4900cbe61834",
   "metadata": {},
   "outputs": [
    {
     "name": "stdout",
     "output_type": "stream",
     "text": [
      "Sum: 100\n"
     ]
    }
   ],
   "source": [
    "\n",
    "with open(\"numbers.txt\", \"w\") as file:\n",
    "    file.write(\"10 20 30 40\")  \n",
    "with open(\"numbers.txt\", \"r\") as file:\n",
    "    numbers = map(int, file.read().split())\n",
    "    print(\"Sum:\", sum(numbers))\n"
   ]
  },
  {
   "cell_type": "code",
   "execution_count": 26,
   "id": "f7ced5c8-9ad9-489c-9793-bcb849f5bed3",
   "metadata": {},
   "outputs": [
    {
     "name": "stdout",
     "output_type": "stream",
     "text": [
      "Sum: 80\n"
     ]
    }
   ],
   "source": [
    "\n",
    "with open(\"numbers.txt\", \"w\") as file:\n",
    "    file.write(\"5 15 25 35\") \n",
    "try:\n",
    "    with open(\"numbers.txt\", \"r\") as file:\n",
    "        numbers = map(int, file.read().split())\n",
    "        print(\"Sum:\", sum(numbers))\n",
    "except FileNotFoundError:\n",
    "    print(\"Error: 'numbers.txt' file not found.\")\n",
    "except ValueError:\n",
    "    print(\"Error: The file contains non-integer values.\")\n"
   ]
  },
  {
   "cell_type": "code",
   "execution_count": 27,
   "id": "710b4197-d90d-406e-9b08-acf8c62a2cd3",
   "metadata": {},
   "outputs": [
    {
     "name": "stdout",
     "output_type": "stream",
     "text": [
      "Keyword count: 1\n"
     ]
    }
   ],
   "source": [
    "import keyword\n",
    "\n",
    "with open(\"sample.txt\", \"r\") as file:\n",
    "    text = file.read()\n",
    "    words = text.split()\n",
    "    count = sum(1 for word in words if word in keyword.kwlist)\n",
    "    print(\"Keyword count:\", count)\n"
   ]
  },
  {
   "cell_type": "code",
   "execution_count": 29,
   "id": "9a9932cf-8c9d-4515-ac05-f499f3927c65",
   "metadata": {},
   "outputs": [
    {
     "name": "stdout",
     "output_type": "stream",
     "text": [
      "_ _ _ _ _ _ _ \n"
     ]
    },
    {
     "name": "stdin",
     "output_type": "stream",
     "text": [
      "Guess a letter:  c\n"
     ]
    },
    {
     "name": "stdout",
     "output_type": "stream",
     "text": [
      "Wrong! Attempts left: 5\n",
      "_ _ _ _ _ _ _ \n"
     ]
    },
    {
     "name": "stdin",
     "output_type": "stream",
     "text": [
      "Guess a letter:  p\n"
     ]
    },
    {
     "name": "stdout",
     "output_type": "stream",
     "text": [
      "Wrong! Attempts left: 4\n",
      "_ _ _ _ _ _ _ \n"
     ]
    },
    {
     "name": "stdin",
     "output_type": "stream",
     "text": [
      "Guess a letter:  g\n"
     ]
    },
    {
     "name": "stdout",
     "output_type": "stream",
     "text": [
      "_ _ _ g _ _ _ \n"
     ]
    },
    {
     "name": "stdin",
     "output_type": "stream",
     "text": [
      "Guess a letter:  h \n"
     ]
    },
    {
     "name": "stdout",
     "output_type": "stream",
     "text": [
      "Wrong! Attempts left: 3\n",
      "h _ _ g _ _ _ \n"
     ]
    },
    {
     "name": "stdin",
     "output_type": "stream",
     "text": [
      "Guess a letter:  a\n"
     ]
    },
    {
     "name": "stdout",
     "output_type": "stream",
     "text": [
      "h a _ g _ a _ \n"
     ]
    },
    {
     "name": "stdin",
     "output_type": "stream",
     "text": [
      "Guess a letter:  n\n"
     ]
    },
    {
     "name": "stdout",
     "output_type": "stream",
     "text": [
      "h a n g _ a n \n"
     ]
    },
    {
     "name": "stdin",
     "output_type": "stream",
     "text": [
      "Guess a letter:  m\n"
     ]
    },
    {
     "name": "stdout",
     "output_type": "stream",
     "text": [
      "h a n g m a n \n",
      "You Win!\n"
     ]
    }
   ],
   "source": [
    "import random\n",
    "\n",
    "words = [\"python\", \"hangman\", \"code\"]\n",
    "word = random.choice(words)\n",
    "guesses = ''\n",
    "turns = 6\n",
    "\n",
    "while turns > 0:\n",
    "    failed = 0\n",
    "    for ch in word:\n",
    "        if ch in guesses:\n",
    "            print(ch, end=\" \")\n",
    "        else:\n",
    "            print(\"_\", end=\" \")\n",
    "            failed += 1\n",
    "    print()\n",
    "    if failed == 0:\n",
    "        print(\"You Win!\")\n",
    "        break\n",
    "    guess = input(\"Guess a letter: \")\n",
    "    guesses += guess\n",
    "    if guess not in word:\n",
    "        turns -= 1\n",
    "        print(\"Wrong! Attempts left:\", turns)\n",
    "        if turns == 0:\n",
    "            print(\"You Lose! Word was:\", word)\n"
   ]
  },
  {
   "cell_type": "code",
   "execution_count": 30,
   "id": "9abb17a4-e4cf-4a2b-be8b-aece72fc34ae",
   "metadata": {},
   "outputs": [
    {
     "name": "stdin",
     "output_type": "stream",
     "text": [
      "Guess the number (1-100):  50\n"
     ]
    },
    {
     "name": "stdout",
     "output_type": "stream",
     "text": [
      "Too low!\n"
     ]
    },
    {
     "name": "stdin",
     "output_type": "stream",
     "text": [
      "Guess the number (1-100):  60\n"
     ]
    },
    {
     "name": "stdout",
     "output_type": "stream",
     "text": [
      "Too low!\n"
     ]
    },
    {
     "name": "stdin",
     "output_type": "stream",
     "text": [
      "Guess the number (1-100):  70\n"
     ]
    },
    {
     "name": "stdout",
     "output_type": "stream",
     "text": [
      "Too low!\n"
     ]
    },
    {
     "name": "stdin",
     "output_type": "stream",
     "text": [
      "Guess the number (1-100):  80\n"
     ]
    },
    {
     "name": "stdout",
     "output_type": "stream",
     "text": [
      "Too low!\n"
     ]
    },
    {
     "name": "stdin",
     "output_type": "stream",
     "text": [
      "Guess the number (1-100):  90\n"
     ]
    },
    {
     "name": "stdout",
     "output_type": "stream",
     "text": [
      "Too high!\n"
     ]
    },
    {
     "name": "stdin",
     "output_type": "stream",
     "text": [
      "Guess the number (1-100):  85\n"
     ]
    },
    {
     "name": "stdout",
     "output_type": "stream",
     "text": [
      "Too high!\n"
     ]
    },
    {
     "name": "stdin",
     "output_type": "stream",
     "text": [
      "Guess the number (1-100):  81\n"
     ]
    },
    {
     "name": "stdout",
     "output_type": "stream",
     "text": [
      "Too low!\n"
     ]
    },
    {
     "name": "stdin",
     "output_type": "stream",
     "text": [
      "Guess the number (1-100):  82\n"
     ]
    },
    {
     "name": "stdout",
     "output_type": "stream",
     "text": [
      "Too low!\n"
     ]
    },
    {
     "name": "stdin",
     "output_type": "stream",
     "text": [
      "Guess the number (1-100):  83\n"
     ]
    },
    {
     "name": "stdout",
     "output_type": "stream",
     "text": [
      "Too low!\n"
     ]
    },
    {
     "name": "stdin",
     "output_type": "stream",
     "text": [
      "Guess the number (1-100):  84\n"
     ]
    },
    {
     "name": "stdout",
     "output_type": "stream",
     "text": [
      "Correct! You guessed it.\n"
     ]
    }
   ],
   "source": [
    "import random\n",
    "\n",
    "num = random.randint(1, 100)\n",
    "while True:\n",
    "    guess = int(input(\"Guess the number (1-100): \"))\n",
    "    if guess < num:\n",
    "        print(\"Too low!\")\n",
    "    elif guess > num:\n",
    "        print(\"Too high!\")\n",
    "    else:\n",
    "        print(\"Correct! You guessed it.\")\n",
    "        break\n"
   ]
  },
  {
   "cell_type": "code",
   "execution_count": 35,
   "id": "6a892435-d3dd-40f3-a29d-4bafcc423162",
   "metadata": {},
   "outputs": [
    {
     "name": "stdin",
     "output_type": "stream",
     "text": [
      "Choose rock, paper or scissors:  paper\n"
     ]
    },
    {
     "name": "stdout",
     "output_type": "stream",
     "text": [
      "Computer chose: rock\n",
      "You win!\n"
     ]
    }
   ],
   "source": [
    "import random\n",
    "\n",
    "choices = ['rock', 'paper', 'scissors']\n",
    "player = input(\"Choose rock, paper or scissors: \").lower()\n",
    "computer = random.choice(choices)\n",
    "\n",
    "print(\"Computer chose:\", computer)\n",
    "\n",
    "if player == computer:\n",
    "    print(\"It's a tie!\")\n",
    "elif (player == 'rock' and computer == 'scissors') or \\\n",
    "     (player == 'scissors' and computer == 'paper') or \\\n",
    "     (player == 'paper' and computer == 'rock'):\n",
    "    print(\"You win!\")\n",
    "else:\n",
    "    print(\"You lose!\")\n"
   ]
  },
  {
   "cell_type": "code",
   "execution_count": null,
   "id": "89b6721f-f7e5-4013-835e-2b51afb8494c",
   "metadata": {},
   "outputs": [],
   "source": []
  }
 ],
 "metadata": {
  "kernelspec": {
   "display_name": "Python 3 (ipykernel)",
   "language": "python",
   "name": "python3"
  },
  "language_info": {
   "codemirror_mode": {
    "name": "ipython",
    "version": 3
   },
   "file_extension": ".py",
   "mimetype": "text/x-python",
   "name": "python",
   "nbconvert_exporter": "python",
   "pygments_lexer": "ipython3",
   "version": "3.12.11"
  }
 },
 "nbformat": 4,
 "nbformat_minor": 5
}
