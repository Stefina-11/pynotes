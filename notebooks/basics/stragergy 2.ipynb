{
 "cells": [
  {
   "cell_type": "code",
   "execution_count": 1,
   "id": "8b310a50-3564-480c-8f97-5e3525fbc382",
   "metadata": {},
   "outputs": [
    {
     "name": "stdout",
     "output_type": "stream",
     "text": [
      "Hello, I am a person!\n"
     ]
    }
   ],
   "source": [
    "class Person:\n",
    "    def greet(self):\n",
    "        print(\"Hello, I am a person!\")\n",
    "\n",
    "p = Person()\n",
    "p.greet()\n"
   ]
  },
  {
   "cell_type": "code",
   "execution_count": 2,
   "id": "67df6d0e-ec77-4d2f-9ffa-118afd233560",
   "metadata": {},
   "outputs": [
    {
     "name": "stdout",
     "output_type": "stream",
     "text": [
      "Hi, I'm Alice\n"
     ]
    }
   ],
   "source": [
    "\n",
    "class Person:\n",
    "    def __init__(self, name):\n",
    "        self.name = name\n",
    "\n",
    "    def greet(self):\n",
    "        print(f\"Hi, I'm {self.name}\")\n",
    "\n",
    "p = Person(\"Alice\")\n",
    "p.greet()\n"
   ]
  },
  {
   "cell_type": "code",
   "execution_count": 3,
   "id": "f27cef1b-2b3b-432b-a96e-2c566c01bf4f",
   "metadata": {},
   "outputs": [
    {
     "name": "stdout",
     "output_type": "stream",
     "text": [
      "Buddy Canine\n",
      "Max Canine\n"
     ]
    }
   ],
   "source": [
    "class Dog:\n",
    "    species = \"Canine\"\n",
    "\n",
    "    def __init__(self, name):\n",
    "        self.name = name\n",
    "\n",
    "d1 = Dog(\"Buddy\")\n",
    "d2 = Dog(\"Max\")\n",
    "print(d1.name, d1.species)\n",
    "print(d2.name, d2.species)\n"
   ]
  },
  {
   "cell_type": "code",
   "execution_count": 4,
   "id": "367560df-fa3e-48b4-a228-56254773ef0b",
   "metadata": {},
   "outputs": [
    {
     "name": "stdout",
     "output_type": "stream",
     "text": [
      "8\n"
     ]
    }
   ],
   "source": [
    "class Calculator:\n",
    "    def add(self, a, b):\n",
    "        return a + b\n",
    "\n",
    "c = Calculator()\n",
    "print(c.add(5, 3))\n"
   ]
  },
  {
   "cell_type": "code",
   "execution_count": 5,
   "id": "dc744f99-5a71-455b-ab8c-5ab1b7ba0d5c",
   "metadata": {},
   "outputs": [
    {
     "name": "stdout",
     "output_type": "stream",
     "text": [
      "2\n"
     ]
    }
   ],
   "source": [
    "\n",
    "class Person:\n",
    "    count = 0\n",
    "\n",
    "    def __init__(self):\n",
    "        Person.count += 1\n",
    "\n",
    "    @classmethod\n",
    "    def get_count(cls):\n",
    "        return cls.count\n",
    "\n",
    "p1 = Person()\n",
    "p2 = Person()\n",
    "print(Person.get_count())\n"
   ]
  },
  {
   "cell_type": "code",
   "execution_count": 6,
   "id": "ddbcd46a-cdba-4eda-802c-94462170c3af",
   "metadata": {},
   "outputs": [
    {
     "name": "stdout",
     "output_type": "stream",
     "text": [
      "16\n"
     ]
    }
   ],
   "source": [
    "class Math:\n",
    "    @staticmethod\n",
    "    def square(x):\n",
    "        return x * x\n",
    "\n",
    "print(Math.square(4))\n"
   ]
  },
  {
   "cell_type": "code",
   "execution_count": 7,
   "id": "fdd72a46-441a-4012-b352-65feafc3a63e",
   "metadata": {},
   "outputs": [
    {
     "name": "stdout",
     "output_type": "stream",
     "text": [
      "Hidden\n"
     ]
    }
   ],
   "source": [
    "class Secret:\n",
    "    def __init__(self):\n",
    "        self.__data = \"Hidden\"\n",
    "\n",
    "    def reveal(self):\n",
    "        return self.__data\n",
    "\n",
    "s = Secret()\n",
    "print(s.reveal())\n"
   ]
  },
  {
   "cell_type": "code",
   "execution_count": 8,
   "id": "b11da58d-8f74-4be1-881e-b2772e2304b6",
   "metadata": {},
   "outputs": [
    {
     "name": "stdout",
     "output_type": "stream",
     "text": [
      "85\n",
      "95\n"
     ]
    }
   ],
   "source": [
    "class Student:\n",
    "    def __init__(self, marks):\n",
    "        self._marks = marks\n",
    "\n",
    "    @property\n",
    "    def marks(self):\n",
    "        return self._marks\n",
    "\n",
    "    @marks.setter\n",
    "    def marks(self, value):\n",
    "        if 0 <= value <= 100:\n",
    "            self._marks = value\n",
    "\n",
    "s = Student(85)\n",
    "print(s.marks)\n",
    "s.marks = 95\n",
    "print(s.marks)\n"
   ]
  },
  {
   "cell_type": "code",
   "execution_count": 9,
   "id": "f6fe853d-5b98-454f-8fe6-ba09b1383278",
   "metadata": {},
   "outputs": [
    {
     "name": "stdout",
     "output_type": "stream",
     "text": [
      "This is a sample class with a docstring.\n"
     ]
    }
   ],
   "source": [
    "class Sample:\n",
    "    \"\"\"This is a sample class with a docstring.\"\"\"\n",
    "    pass\n",
    "\n",
    "print(Sample.__doc__)\n"
   ]
  },
  {
   "cell_type": "code",
   "execution_count": 10,
   "id": "1a804642-fbcf-4c77-8e02-ba021f2a3dc3",
   "metadata": {},
   "outputs": [
    {
     "name": "stdout",
     "output_type": "stream",
     "text": [
      "Toyota BMW\n"
     ]
    }
   ],
   "source": [
    "class Car:\n",
    "    def __init__(self, brand=\"Toyota\"):\n",
    "        self.brand = brand\n",
    "\n",
    "c1 = Car()\n",
    "c2 = Car(\"BMW\")\n",
    "print(c1.brand, c2.brand)\n"
   ]
  },
  {
   "cell_type": "code",
   "execution_count": 11,
   "id": "cc5c5d4d-a973-4777-9ab7-5c64ef1fb16e",
   "metadata": {},
   "outputs": [
    {
     "name": "stdout",
     "output_type": "stream",
     "text": [
      "True\n"
     ]
    }
   ],
   "source": [
    "class Box:\n",
    "    def __init__(self, volume):\n",
    "        self.volume = volume\n",
    "\n",
    "    def is_larger(self, other):\n",
    "        return self.volume > other.volume\n",
    "\n",
    "b1 = Box(10)\n",
    "b2 = Box(7)\n",
    "print(b1.is_larger(b2))\n"
   ]
  },
  {
   "cell_type": "code",
   "execution_count": 12,
   "id": "3a9f3f86-83de-4e47-a7de-602884c67fc5",
   "metadata": {},
   "outputs": [
    {
     "name": "stdout",
     "output_type": "stream",
     "text": [
      "2\n"
     ]
    }
   ],
   "source": [
    "class Counter:\n",
    "    count = 0\n",
    "\n",
    "    def __init__(self):\n",
    "        Counter.count += 1\n",
    "\n",
    "c1 = Counter()\n",
    "c2 = Counter()\n",
    "print(Counter.count)\n"
   ]
  },
  {
   "cell_type": "code",
   "execution_count": 13,
   "id": "96e39bb5-f228-46ba-ac8d-c2ebf7bcb923",
   "metadata": {},
   "outputs": [
    {
     "name": "stdout",
     "output_type": "stream",
     "text": [
      "Pen Pen\n"
     ]
    }
   ],
   "source": [
    "import copy\n",
    "\n",
    "class Item:\n",
    "    def __init__(self, name):\n",
    "        self.name = name\n",
    "\n",
    "item1 = Item(\"Pen\")\n",
    "item2 = copy.copy(item1)\n",
    "print(item1.name, item2.name)\n"
   ]
  },
  {
   "cell_type": "code",
   "execution_count": 14,
   "id": "3e13a651-d56d-430a-9745-cf213ed05735",
   "metadata": {},
   "outputs": [
    {
     "name": "stdout",
     "output_type": "stream",
     "text": [
      "John\n"
     ]
    }
   ],
   "source": [
    "class User:\n",
    "    pass\n",
    "\n",
    "u = User()\n",
    "u.name = \"John\"\n",
    "print(u.name)\n"
   ]
  },
  {
   "cell_type": "code",
   "execution_count": 15,
   "id": "8db7e349-68ca-4074-9ea9-ca5f40df57da",
   "metadata": {},
   "outputs": [
    {
     "name": "stdout",
     "output_type": "stream",
     "text": [
      "Fruit: Apple\n",
      "Fruit('Apple')\n"
     ]
    }
   ],
   "source": [
    "class Fruit:\n",
    "    def __init__(self, name):\n",
    "        self.name = name\n",
    "\n",
    "    def __str__(self):\n",
    "        return f\"Fruit: {self.name}\"\n",
    "\n",
    "    def __repr__(self):\n",
    "        return f\"Fruit({self.name!r})\"\n",
    "\n",
    "f = Fruit(\"Apple\")\n",
    "print(str(f))\n",
    "print(repr(f))\n"
   ]
  },
  {
   "cell_type": "code",
   "execution_count": 16,
   "id": "300ca9bb-d6ef-4b07-bb14-75c694b15b56",
   "metadata": {},
   "outputs": [
    {
     "name": "stdout",
     "output_type": "stream",
     "text": [
      "10\n"
     ]
    }
   ],
   "source": [
    "class Demo:\n",
    "    def __init__(self):\n",
    "        self.x = 10\n",
    "\n",
    "d = Demo()\n",
    "print(d.x)\n",
    "del d.x\n",
    "# print(d.x)  # This will raise AttributeError\n"
   ]
  },
  {
   "cell_type": "code",
   "execution_count": 17,
   "id": "68082cdb-6d67-4683-9b59-01789b71241f",
   "metadata": {},
   "outputs": [
    {
     "name": "stdout",
     "output_type": "stream",
     "text": [
      "True\n"
     ]
    }
   ],
   "source": [
    "a = [1, 2]\n",
    "b = a\n",
    "print(a is b)  # True, both refer to the same object\n"
   ]
  },
  {
   "cell_type": "code",
   "execution_count": 18,
   "id": "05250fc8-69f3-463b-84d9-d2750022a007",
   "metadata": {},
   "outputs": [
    {
     "name": "stdout",
     "output_type": "stream",
     "text": [
      "{'val': 5}\n"
     ]
    }
   ],
   "source": [
    "class Sample:\n",
    "    def __init__(self, val):\n",
    "        self.val = val\n",
    "\n",
    "s = Sample(5)\n",
    "print(s.__dict__)\n"
   ]
  },
  {
   "cell_type": "code",
   "execution_count": 19,
   "id": "1103b4bf-bbd0-4848-a6f4-73308bd8e9a8",
   "metadata": {},
   "outputs": [
    {
     "name": "stdout",
     "output_type": "stream",
     "text": [
      "99\n"
     ]
    }
   ],
   "source": [
    "class Data:\n",
    "    def __init__(self, value):\n",
    "        self.value = value\n",
    "\n",
    "def show(obj):\n",
    "    print(obj.value)\n",
    "\n",
    "d = Data(99)\n",
    "show(d)\n"
   ]
  },
  {
   "cell_type": "code",
   "execution_count": 20,
   "id": "dbc42ae8-c9da-441f-8818-773c9e48802e",
   "metadata": {},
   "outputs": [
    {
     "name": "stdout",
     "output_type": "stream",
     "text": [
      "Tiger\n"
     ]
    }
   ],
   "source": [
    "class Animal:\n",
    "    def __init__(self, name):\n",
    "        self.name = name\n",
    "\n",
    "def get_animal():\n",
    "    return Animal(\"Tiger\")\n",
    "\n",
    "a = get_animal()\n",
    "print(a.name)\n"
   ]
  },
  {
   "cell_type": "code",
   "execution_count": 21,
   "id": "946ca948-c98b-4920-93e8-862813e712f6",
   "metadata": {},
   "outputs": [
    {
     "name": "stdout",
     "output_type": "stream",
     "text": [
      "Animal speaks\n"
     ]
    }
   ],
   "source": [
    "class Animal:\n",
    "    def speak(self):\n",
    "        print(\"Animal speaks\")\n",
    "\n",
    "class Dog(Animal):\n",
    "    pass\n",
    "\n",
    "d = Dog()\n",
    "d.speak()\n"
   ]
  },
  {
   "cell_type": "code",
   "execution_count": 22,
   "id": "df69f285-d0f6-45aa-bbba-94cf7d801a25",
   "metadata": {},
   "outputs": [
    {
     "name": "stdout",
     "output_type": "stream",
     "text": [
      "Animal speaks\n",
      "Mammal walks\n",
      "Dog barks\n"
     ]
    }
   ],
   "source": [
    "class Animal:\n",
    "    def speak(self):\n",
    "        print(\"Animal speaks\")\n",
    "\n",
    "class Mammal(Animal):\n",
    "    def walk(self):\n",
    "        print(\"Mammal walks\")\n",
    "\n",
    "class Dog(Mammal):\n",
    "    def bark(self):\n",
    "        print(\"Dog barks\")\n",
    "\n",
    "d = Dog()\n",
    "d.speak()\n",
    "d.walk()\n",
    "d.bark()\n"
   ]
  },
  {
   "cell_type": "code",
   "execution_count": 23,
   "id": "5ab07ef3-3e70-4166-ad17-fd4cd23d1a46",
   "metadata": {},
   "outputs": [
    {
     "name": "stdout",
     "output_type": "stream",
     "text": [
      "Gardening, Programming\n"
     ]
    }
   ],
   "source": [
    "class Father:\n",
    "    def skills(self):\n",
    "        print(\"Gardening, Programming\")\n",
    "\n",
    "class Mother:\n",
    "    def skills(self):\n",
    "        print(\"Cooking, Art\")\n",
    "\n",
    "class Child(Father, Mother):\n",
    "    pass\n",
    "\n",
    "c = Child()\n",
    "c.skills()  # MRO: Father’s method is called first\n"
   ]
  },
  {
   "cell_type": "code",
   "execution_count": 24,
   "id": "091681ef-287c-412b-ae99-a704045abda0",
   "metadata": {},
   "outputs": [
    {
     "name": "stdout",
     "output_type": "stream",
     "text": [
      "Parent constructor\n",
      "Child constructor\n"
     ]
    }
   ],
   "source": [
    "class Parent:\n",
    "    def __init__(self):\n",
    "        print(\"Parent constructor\")\n",
    "\n",
    "class Child(Parent):\n",
    "    def __init__(self):\n",
    "        super().__init__()\n",
    "        print(\"Child constructor\")\n",
    "\n",
    "c = Child()\n"
   ]
  },
  {
   "cell_type": "code",
   "execution_count": 25,
   "id": "8347627f-4d04-45a3-8ddb-876cd450b11a",
   "metadata": {},
   "outputs": [
    {
     "name": "stdout",
     "output_type": "stream",
     "text": [
      "Child class\n"
     ]
    }
   ],
   "source": [
    "class Parent:\n",
    "    def show(self):\n",
    "        print(\"Parent class\")\n",
    "\n",
    "class Child(Parent):\n",
    "    def show(self):\n",
    "        print(\"Child class\")\n",
    "\n",
    "c = Child()\n",
    "c.show()\n"
   ]
  },
  {
   "cell_type": "code",
   "execution_count": 26,
   "id": "ebb652f0-95bf-4a51-b95d-302eeaac81c5",
   "metadata": {},
   "outputs": [
    {
     "name": "stdout",
     "output_type": "stream",
     "text": [
      "Constructor A\n",
      "Constructor B\n"
     ]
    }
   ],
   "source": [
    "class A:\n",
    "    def __init__(self):\n",
    "        print(\"Constructor A\")\n",
    "\n",
    "class B(A):\n",
    "    def __init__(self):\n",
    "        super().__init__()\n",
    "        print(\"Constructor B\")\n",
    "\n",
    "b = B()\n"
   ]
  },
  {
   "cell_type": "code",
   "execution_count": 27,
   "id": "cb2bc8cd-0300-4966-8845-2697bde4235a",
   "metadata": {},
   "outputs": [
    {
     "name": "stdout",
     "output_type": "stream",
     "text": [
      "10\n"
     ]
    }
   ],
   "source": [
    "class A:\n",
    "    value = 10\n",
    "\n",
    "class B(A):\n",
    "    pass\n",
    "\n",
    "print(B.value)\n"
   ]
  },
  {
   "cell_type": "code",
   "execution_count": 28,
   "id": "22270bc9-e2ab-4da1-b38d-06f48e06b38d",
   "metadata": {},
   "outputs": [
    {
     "name": "stdout",
     "output_type": "stream",
     "text": [
      "Class B\n"
     ]
    }
   ],
   "source": [
    "class A:\n",
    "    def method(self):\n",
    "        print(\"Class A\")\n",
    "\n",
    "class B(A):\n",
    "    def method(self):\n",
    "        print(\"Class B\")\n",
    "\n",
    "class C(A):\n",
    "    def method(self):\n",
    "        print(\"Class C\")\n",
    "\n",
    "class D(B, C):\n",
    "    pass\n",
    "\n",
    "d = D()\n",
    "d.method()\n"
   ]
  },
  {
   "cell_type": "code",
   "execution_count": 29,
   "id": "69348a8e-a8bb-4607-b11b-57931f9112ad",
   "metadata": {},
   "outputs": [
    {
     "name": "stdout",
     "output_type": "stream",
     "text": [
      "Parent class\n",
      "Parent class\n"
     ]
    }
   ],
   "source": [
    "class Parent:\n",
    "    def show(self):\n",
    "        print(\"Parent class\")\n",
    "\n",
    "class Child1(Parent):\n",
    "    pass\n",
    "\n",
    "class Child2(Parent):\n",
    "    pass\n",
    "\n",
    "c1 = Child1()\n",
    "c2 = Child2()\n",
    "c1.show()\n",
    "c2.show()\n"
   ]
  },
  {
   "cell_type": "code",
   "execution_count": 30,
   "id": "f68fb5c0-6e9f-452a-9218-38c1bea1f920",
   "metadata": {},
   "outputs": [
    {
     "name": "stdout",
     "output_type": "stream",
     "text": [
      "B\n"
     ]
    }
   ],
   "source": [
    "class A:\n",
    "    def show(self):\n",
    "        print(\"A\")\n",
    "\n",
    "class B(A):\n",
    "    def show(self):\n",
    "        print(\"B\")\n",
    "\n",
    "class C(A):\n",
    "    def show(self):\n",
    "        print(\"C\")\n",
    "\n",
    "class D(B, C):\n",
    "    pass\n",
    "\n",
    "d = D()\n",
    "d.show()  # B is prioritized before C in MRO\n"
   ]
  },
  {
   "cell_type": "code",
   "execution_count": 31,
   "id": "3c90f8aa-cf25-47b0-9345-367bba761c06",
   "metadata": {},
   "outputs": [
    {
     "name": "stdout",
     "output_type": "stream",
     "text": [
      "[<class '__main__.D'>, <class '__main__.B'>, <class '__main__.C'>, <class '__main__.A'>, <class 'object'>]\n"
     ]
    }
   ],
   "source": [
    "class A: pass\n",
    "class B(A): pass\n",
    "class C(A): pass\n",
    "class D(B, C): pass\n",
    "\n",
    "print(D.mro())\n"
   ]
  },
  {
   "cell_type": "code",
   "execution_count": 32,
   "id": "dd15fa6d-c626-4588-83b8-f9cf299a0560",
   "metadata": {},
   "outputs": [
    {
     "name": "stdout",
     "output_type": "stream",
     "text": [
      "True\n",
      "False\n"
     ]
    }
   ],
   "source": [
    "class Animal: pass\n",
    "class Dog(Animal): pass\n",
    "\n",
    "print(issubclass(Dog, Animal))  # True\n",
    "print(issubclass(Animal, Dog))  # False\n"
   ]
  },
  {
   "cell_type": "code",
   "execution_count": 33,
   "id": "0589063c-e420-4454-a3bc-2d091ccb1fa6",
   "metadata": {},
   "outputs": [
    {
     "name": "stdout",
     "output_type": "stream",
     "text": [
      "True\n"
     ]
    }
   ],
   "source": [
    "class Car: pass\n",
    "c = Car()\n",
    "print(isinstance(c, Car))\n"
   ]
  },
  {
   "cell_type": "code",
   "execution_count": 34,
   "id": "edf5f214-ead7-4ad6-93c9-ee52cae5592b",
   "metadata": {},
   "outputs": [
    {
     "name": "stdout",
     "output_type": "stream",
     "text": [
      "B constructor\n"
     ]
    }
   ],
   "source": [
    "class A:\n",
    "    def __init__(self):\n",
    "        print(\"A constructor\")\n",
    "\n",
    "class B(A):\n",
    "    def __init__(self):\n",
    "        print(\"B constructor\")\n",
    "\n",
    "b = B()  # A’s constructor is not called unless super() used\n"
   ]
  },
  {
   "cell_type": "code",
   "execution_count": 38,
   "id": "eae413cb-b07c-430c-9ff4-bc3417551da1",
   "metadata": {},
   "outputs": [],
   "source": [
    "class Parent:\n",
    "    def __init__(self):\n",
    "        self.__secret = \"Hidden\"\n",
    "\n",
    "class Child(Parent):\n",
    "    def reveal(self):\n",
    "    \n",
    "        pass\n",
    "\n",
    "c = Child()\n",
    "c.reveal()\n"
   ]
  },
  {
   "cell_type": "code",
   "execution_count": 39,
   "id": "f61d8da5-df56-4bb4-8292-c162a5ec07e2",
   "metadata": {},
   "outputs": [
    {
     "name": "stdout",
     "output_type": "stream",
     "text": [
      "Init A\n",
      "Init B\n"
     ]
    }
   ],
   "source": [
    "class A:\n",
    "    def __init__(self):\n",
    "        print(\"Init A\")\n",
    "\n",
    "class B(A):\n",
    "    def __init__(self):\n",
    "        super().__init__()\n",
    "        print(\"Init B\")\n",
    "\n",
    "b = B()\n"
   ]
  },
  {
   "cell_type": "code",
   "execution_count": 40,
   "id": "b8b75aac-aa19-444e-a989-17c83b87b99c",
   "metadata": {},
   "outputs": [
    {
     "name": "stdout",
     "output_type": "stream",
     "text": [
      "Hello from A\n",
      "I am B\n"
     ]
    }
   ],
   "source": [
    "class A:\n",
    "    @staticmethod\n",
    "    def greet():\n",
    "        print(\"Hello from A\")\n",
    "\n",
    "    @classmethod\n",
    "    def identity(cls):\n",
    "        print(f\"I am {cls.__name__}\")\n",
    "\n",
    "class B(A): pass\n",
    "\n",
    "B.greet()\n",
    "B.identity()\n"
   ]
  },
  {
   "cell_type": "code",
   "execution_count": 41,
   "id": "73a11d93-af28-4616-94f9-e699f4577c2e",
   "metadata": {},
   "outputs": [
    {
     "name": "stdout",
     "output_type": "stream",
     "text": [
      "[LOG]: App is running\n"
     ]
    }
   ],
   "source": [
    "class Logger:\n",
    "    def log(self, message):\n",
    "        print(f\"[LOG]: {message}\")\n",
    "\n",
    "class App(Logger):\n",
    "    def run(self):\n",
    "        self.log(\"App is running\")\n",
    "\n",
    "a = App()\n",
    "a.run()\n"
   ]
  },
  {
   "cell_type": "code",
   "execution_count": 42,
   "id": "a06578a4-d3f6-425e-af8e-0af034ca5a6e",
   "metadata": {},
   "outputs": [
    {
     "name": "stdout",
     "output_type": "stream",
     "text": [
      "Bark\n"
     ]
    }
   ],
   "source": [
    "from abc import ABC, abstractmethod\n",
    "\n",
    "class Animal(ABC):\n",
    "    @abstractmethod\n",
    "    def sound(self):\n",
    "        pass\n",
    "\n",
    "class Dog(Animal):\n",
    "    def sound(self):\n",
    "        print(\"Bark\")\n",
    "\n",
    "d = Dog()\n",
    "d.sound()\n"
   ]
  },
  {
   "cell_type": "code",
   "execution_count": 43,
   "id": "fd9d29f4-f713-4ad8-a55a-a212fa06089a",
   "metadata": {},
   "outputs": [
    {
     "name": "stdout",
     "output_type": "stream",
     "text": [
      "Area of Circle\n",
      "Area of Square\n"
     ]
    }
   ],
   "source": [
    "class Shape:\n",
    "    def area(self):\n",
    "        print(\"Area not defined\")\n",
    "\n",
    "class Circle(Shape):\n",
    "    def area(self):\n",
    "        print(\"Area of Circle\")\n",
    "\n",
    "class Square(Shape):\n",
    "    def area(self):\n",
    "        print(\"Area of Square\")\n",
    "\n",
    "shapes = [Circle(), Square()]\n",
    "for shape in shapes:\n",
    "    shape.area()\n"
   ]
  },
  {
   "cell_type": "code",
   "execution_count": 44,
   "id": "d079d8fe-151c-4ab5-b01a-0acbd699e46c",
   "metadata": {},
   "outputs": [
    {
     "name": "stdout",
     "output_type": "stream",
     "text": [
      "5\n",
      "15\n",
      "30\n"
     ]
    }
   ],
   "source": [
    "class Calculator:\n",
    "    def add(self, a, b=0, c=0):\n",
    "        return a + b + c\n",
    "\n",
    "calc = Calculator()\n",
    "print(calc.add(5))\n",
    "print(calc.add(5, 10))\n",
    "print(calc.add(5, 10, 15))\n"
   ]
  },
  {
   "cell_type": "code",
   "execution_count": 45,
   "id": "b5b20dcd-2c46-4e8d-9131-7d2d742fd4a3",
   "metadata": {},
   "outputs": [
    {
     "name": "stdout",
     "output_type": "stream",
     "text": [
      "Point(30)\n"
     ]
    }
   ],
   "source": [
    "class Point:\n",
    "    def __init__(self, x):\n",
    "        self.x = x\n",
    "\n",
    "    def __add__(self, other):\n",
    "        return Point(self.x + other.x)\n",
    "\n",
    "    def __str__(self):\n",
    "        return f\"Point({self.x})\"\n",
    "\n",
    "p1 = Point(10)\n",
    "p2 = Point(20)\n",
    "print(p1 + p2)\n"
   ]
  },
  {
   "cell_type": "code",
   "execution_count": 46,
   "id": "418a70b8-0836-4f76-92bf-242bd4341509",
   "metadata": {},
   "outputs": [
    {
     "name": "stdout",
     "output_type": "stream",
     "text": [
      "Integer: 10\n",
      "String: hello\n"
     ]
    }
   ],
   "source": [
    "from functools import singledispatch\n",
    "\n",
    "@singledispatch\n",
    "def process(value):\n",
    "    print(\"Default:\", value)\n",
    "\n",
    "@process.register(int)\n",
    "def _(value):\n",
    "    print(\"Integer:\", value)\n",
    "\n",
    "@process.register(str)\n",
    "def _(value):\n",
    "    print(\"String:\", value)\n",
    "\n",
    "process(10)\n",
    "process(\"hello\")\n"
   ]
  },
  {
   "cell_type": "code",
   "execution_count": 47,
   "id": "fa635435-08f0-4a07-87eb-231e9366bcdf",
   "metadata": {},
   "outputs": [
    {
     "name": "stdout",
     "output_type": "stream",
     "text": [
      "Bark\n"
     ]
    }
   ],
   "source": [
    "class Animal:\n",
    "    def speak(self):\n",
    "        print(\"Animal sound\")\n",
    "\n",
    "class Dog(Animal):\n",
    "    def speak(self):\n",
    "        print(\"Bark\")\n",
    "\n",
    "d = Dog()\n",
    "d.speak()\n"
   ]
  },
  {
   "cell_type": "code",
   "execution_count": 48,
   "id": "e5427e88-1e75-45d0-9bd3-aa170ddc136b",
   "metadata": {},
   "outputs": [
    {
     "name": "stdout",
     "output_type": "stream",
     "text": [
      "Bird is flying\n",
      "Airplane is flying\n"
     ]
    }
   ],
   "source": [
    "\n",
    "class Bird:\n",
    "    def fly(self):\n",
    "        print(\"Bird is flying\")\n",
    "\n",
    "class Airplane:\n",
    "    def fly(self):\n",
    "        print(\"Airplane is flying\")\n",
    "\n",
    "def lift_off(entity):\n",
    "    entity.fly()\n",
    "\n",
    "b = Bird()\n",
    "a = Airplane()\n",
    "lift_off(b)\n",
    "lift_off(a)\n"
   ]
  },
  {
   "cell_type": "code",
   "execution_count": 49,
   "id": "bd0df19c-681d-448c-bedb-f08631b014fb",
   "metadata": {},
   "outputs": [
    {
     "name": "stdout",
     "output_type": "stream",
     "text": [
      "Meow\n",
      "Bark\n"
     ]
    }
   ],
   "source": [
    "class Animal:\n",
    "    def make_sound(self):\n",
    "        print(\"Some sound\")\n",
    "\n",
    "class Cat(Animal):\n",
    "    def make_sound(self):\n",
    "        print(\"Meow\")\n",
    "\n",
    "class Dog(Animal):\n",
    "    def make_sound(self):\n",
    "        print(\"Bark\")\n",
    "\n",
    "def sound(animal):\n",
    "    animal.make_sound()\n",
    "\n",
    "sound(Cat())\n",
    "sound(Dog())\n"
   ]
  },
  {
   "cell_type": "code",
   "execution_count": 50,
   "id": "0dcd83e3-94c9-446c-b7f0-f667211d81b4",
   "metadata": {},
   "outputs": [
    {
     "name": "stdout",
     "output_type": "stream",
     "text": [
      "Drawing Circle\n",
      "Drawing Square\n"
     ]
    }
   ],
   "source": [
    "class Circle:\n",
    "    def draw(self):\n",
    "        print(\"Drawing Circle\")\n",
    "\n",
    "class Square:\n",
    "    def draw(self):\n",
    "        print(\"Drawing Square\")\n",
    "\n",
    "shapes = [Circle(), Square()]\n",
    "for shape in shapes:\n",
    "    shape.draw()\n"
   ]
  },
  {
   "cell_type": "code",
   "execution_count": 51,
   "id": "0e1a419b-4ac7-4b65-85d2-ecb2926c06a8",
   "metadata": {},
   "outputs": [
    {
     "name": "stdout",
     "output_type": "stream",
     "text": [
      "Car started\n"
     ]
    }
   ],
   "source": [
    "from abc import ABC, abstractmethod\n",
    "\n",
    "class Vehicle(ABC):\n",
    "    @abstractmethod\n",
    "    def start(self):\n",
    "        pass\n",
    "\n",
    "class Car(Vehicle):\n",
    "    def start(self):\n",
    "        print(\"Car started\")\n",
    "\n",
    "v = Car()\n",
    "v.start()\n"
   ]
  },
  {
   "cell_type": "code",
   "execution_count": 52,
   "id": "5a0675d2-c2a1-48ba-8573-204ec4d81246",
   "metadata": {},
   "outputs": [
    {
     "name": "stdout",
     "output_type": "stream",
     "text": [
      "Drawing Circle\n"
     ]
    }
   ],
   "source": [
    "from abc import ABC, abstractmethod\n",
    "\n",
    "class Drawable(ABC):\n",
    "    @abstractmethod\n",
    "    def draw(self): pass\n",
    "\n",
    "class Circle(Drawable):\n",
    "    def draw(self):\n",
    "        print(\"Drawing Circle\")\n",
    "\n",
    "c = Circle()\n",
    "c.draw()\n"
   ]
  },
  {
   "cell_type": "code",
   "execution_count": 53,
   "id": "2c4ce42d-c978-4c2d-a184-0121cfa88e99",
   "metadata": {},
   "outputs": [
    {
     "name": "stdout",
     "output_type": "stream",
     "text": [
      "Fan started\n",
      "Fan stopped\n"
     ]
    }
   ],
   "source": [
    "from abc import ABC, abstractmethod\n",
    "\n",
    "class Machine(ABC):\n",
    "    @abstractmethod\n",
    "    def start(self): pass\n",
    "\n",
    "    @abstractmethod\n",
    "    def stop(self): pass\n",
    "\n",
    "class Fan(Machine):\n",
    "    def start(self):\n",
    "        print(\"Fan started\")\n",
    "\n",
    "    def stop(self):\n",
    "        print(\"Fan stopped\")\n",
    "\n",
    "f = Fan()\n",
    "f.start()\n",
    "f.stop()\n"
   ]
  },
  {
   "cell_type": "code",
   "execution_count": 54,
   "id": "338976e3-967a-49fe-aeae-2c0e6712a0a9",
   "metadata": {},
   "outputs": [
    {
     "name": "stdout",
     "output_type": "stream",
     "text": [
      "50.24\n",
      "16\n"
     ]
    }
   ],
   "source": [
    "class Shape:\n",
    "    def area(self):\n",
    "        return 0\n",
    "\n",
    "class Circle(Shape):\n",
    "    def area(self):\n",
    "        return 3.14 * 4 * 4\n",
    "\n",
    "class Square(Shape):\n",
    "    def area(self):\n",
    "        return 4 * 4\n",
    "\n",
    "shapes = [Circle(), Square()]\n",
    "for shape in shapes:\n",
    "    print(shape.area())\n"
   ]
  },
  {
   "cell_type": "code",
   "execution_count": 55,
   "id": "6c1ec539-94e6-40f8-842e-c085a2fe3588",
   "metadata": {},
   "outputs": [
    {
     "name": "stdout",
     "output_type": "stream",
     "text": [
      "5\n",
      "3\n"
     ]
    }
   ],
   "source": [
    "print(len(\"hello\"))\n",
    "print(len([1, 2, 3]))\n"
   ]
  },
  {
   "cell_type": "code",
   "execution_count": 56,
   "id": "ce11c08b-40b7-4c2a-9018-4fb7915dfa4e",
   "metadata": {},
   "outputs": [
    {
     "name": "stdout",
     "output_type": "stream",
     "text": [
      "8\n",
      "2\n"
     ]
    }
   ],
   "source": [
    "class Add:\n",
    "    def operation(self, a, b): return a + b\n",
    "\n",
    "class Subtract:\n",
    "    def operation(self, a, b): return a - b\n",
    "\n",
    "def calc(op, a, b):\n",
    "    return op.operation(a, b)\n",
    "\n",
    "print(calc(Add(), 5, 3))\n",
    "print(calc(Subtract(), 5, 3))\n"
   ]
  },
  {
   "cell_type": "code",
   "execution_count": 57,
   "id": "cfe76e9c-09de-414b-a0e2-1202b69d1928",
   "metadata": {},
   "outputs": [
    {
     "name": "stdout",
     "output_type": "stream",
     "text": [
      "120\n"
     ]
    }
   ],
   "source": [
    "class Book:\n",
    "    def __init__(self, pages):\n",
    "        self.pages = pages\n",
    "\n",
    "    def __len__(self):\n",
    "        return self.pages\n",
    "\n",
    "b = Book(120)\n",
    "print(len(b))\n"
   ]
  },
  {
   "cell_type": "code",
   "execution_count": 58,
   "id": "74b71046-1d2e-41bc-abde-89675ac1c674",
   "metadata": {},
   "outputs": [
    {
     "name": "stdout",
     "output_type": "stream",
     "text": [
      "True\n"
     ]
    }
   ],
   "source": [
    "class Box:\n",
    "    def __init__(self, weight):\n",
    "        self.weight = weight\n",
    "\n",
    "    def __eq__(self, other):\n",
    "        return self.weight == other.weight\n",
    "\n",
    "b1 = Box(10)\n",
    "b2 = Box(10)\n",
    "print(b1 == b2)\n"
   ]
  },
  {
   "cell_type": "code",
   "execution_count": 59,
   "id": "66362f27-016e-40b5-b465-e57e101a0f8a",
   "metadata": {},
   "outputs": [
    {
     "name": "stdout",
     "output_type": "stream",
     "text": [
      "True\n"
     ]
    }
   ],
   "source": [
    "class Player:\n",
    "    def __init__(self, score):\n",
    "        self.score = score\n",
    "\n",
    "    def __lt__(self, other):\n",
    "        return self.score < other.score\n",
    "\n",
    "p1 = Player(50)\n",
    "p2 = Player(70)\n",
    "print(p1 < p2)\n"
   ]
  },
  {
   "cell_type": "code",
   "execution_count": 60,
   "id": "f9146309-72e2-45aa-a205-92c20c9631c4",
   "metadata": {},
   "outputs": [
    {
     "name": "stdout",
     "output_type": "stream",
     "text": [
      "Hello, Stefina!\n"
     ]
    }
   ],
   "source": [
    "class Greet:\n",
    "    def __call__(self, name):\n",
    "        print(f\"Hello, {name}!\")\n",
    "\n",
    "g = Greet()\n",
    "g(\"Stefina\")\n"
   ]
  },
  {
   "cell_type": "code",
   "execution_count": 61,
   "id": "b651ff68-771a-4938-898a-055498156d2f",
   "metadata": {},
   "outputs": [
    {
     "name": "stdout",
     "output_type": "stream",
     "text": [
      "100\n"
     ]
    }
   ],
   "source": [
    "class MyList:\n",
    "    def __init__(self):\n",
    "        self.data = {}\n",
    "\n",
    "    def __getitem__(self, key):\n",
    "        return self.data.get(key, None)\n",
    "\n",
    "    def __setitem__(self, key, value):\n",
    "        self.data[key] = value\n",
    "\n",
    "ml = MyList()\n",
    "ml[\"a\"] = 100\n",
    "print(ml[\"a\"])\n"
   ]
  },
  {
   "cell_type": "code",
   "execution_count": 62,
   "id": "b7e9d215-e042-42d5-b4d0-471e6b66716e",
   "metadata": {},
   "outputs": [
    {
     "name": "stdout",
     "output_type": "stream",
     "text": [
      "Meow\n"
     ]
    }
   ],
   "source": [
    "class Animal:\n",
    "    def speak(self):\n",
    "        print(\"Animal\")\n",
    "\n",
    "class Cat(Animal):\n",
    "    def speak(self):\n",
    "        print(\"Meow\")\n",
    "\n",
    "def speak_animal(a: Animal):\n",
    "    a.speak()\n",
    "\n",
    "speak_animal(Cat())\n"
   ]
  },
  {
   "cell_type": "code",
   "execution_count": 63,
   "id": "23a732b8-1347-471a-9026-46520dcaa4eb",
   "metadata": {},
   "outputs": [
    {
     "name": "stdout",
     "output_type": "stream",
     "text": [
      "Paid using Card\n",
      "Paid using UPI\n"
     ]
    }
   ],
   "source": [
    "class Payment:\n",
    "    def pay(self):\n",
    "        print(\"Generic Payment\")\n",
    "\n",
    "class CardPayment(Payment):\n",
    "    def pay(self):\n",
    "        print(\"Paid using Card\")\n",
    "\n",
    "class UpiPayment(Payment):\n",
    "    def pay(self):\n",
    "        print(\"Paid using UPI\")\n",
    "\n",
    "for p in [CardPayment(), UpiPayment()]:\n",
    "    p.pay()\n"
   ]
  },
  {
   "cell_type": "code",
   "execution_count": 66,
   "id": "3b00e2e8-2b65-455e-bfee-c0eba2e7da99",
   "metadata": {},
   "outputs": [
    {
     "name": "stdout",
     "output_type": "stream",
     "text": [
      "Stefina\n"
     ]
    }
   ],
   "source": [
    "class Student:\n",
    "    def __init__(self):\n",
    "        self.name = \"Stefina\"         \n",
    "        self.__marks = 95             \n",
    "s = Student()\n",
    "print(s.name)\n"
   ]
  },
  {
   "cell_type": "code",
   "execution_count": 67,
   "id": "338e6992-5afe-4842-aca3-edf1090d37e9",
   "metadata": {},
   "outputs": [
    {
     "name": "stdout",
     "output_type": "stream",
     "text": [
      "Hidden Info\n"
     ]
    }
   ],
   "source": [
    "class Student:\n",
    "    def __init__(self):\n",
    "        self.__secret = \"Hidden Info\"\n",
    "\n",
    "s = Student()\n",
    "print(s._Student__secret) \n"
   ]
  },
  {
   "cell_type": "code",
   "execution_count": 68,
   "id": "74c394dc-dc3e-4154-89a0-9f88828189f0",
   "metadata": {},
   "outputs": [
    {
     "name": "stdout",
     "output_type": "stream",
     "text": [
      "5000\n"
     ]
    }
   ],
   "source": [
    "class BankAccount:\n",
    "    def __init__(self):\n",
    "        self.__balance = 0\n",
    "\n",
    "    def get_balance(self):\n",
    "        return self.__balance\n",
    "\n",
    "    def set_balance(self, amount):\n",
    "        if amount > 0:\n",
    "            self.__balance = amount\n",
    "\n",
    "acc = BankAccount()\n",
    "acc.set_balance(5000)\n",
    "print(acc.get_balance())\n"
   ]
  },
  {
   "cell_type": "code",
   "execution_count": 69,
   "id": "0f2b5f8a-8419-4992-8ba2-68c451d17d92",
   "metadata": {},
   "outputs": [
    {
     "name": "stdout",
     "output_type": "stream",
     "text": [
      "100\n",
      "200\n"
     ]
    }
   ],
   "source": [
    "class Product:\n",
    "    def __init__(self, price):\n",
    "        self._price = price\n",
    "\n",
    "    @property\n",
    "    def price(self):\n",
    "        return self._price\n",
    "\n",
    "    @price.setter\n",
    "    def price(self, val):\n",
    "        if val >= 0:\n",
    "            self._price = val\n",
    "\n",
    "p = Product(100)\n",
    "print(p.price)\n",
    "p.price = 200\n",
    "print(p.price)\n"
   ]
  },
  {
   "cell_type": "code",
   "execution_count": 70,
   "id": "7fc09bc6-bffc-406d-89fc-e186abd9c6b7",
   "metadata": {},
   "outputs": [
    {
     "name": "stdout",
     "output_type": "stream",
     "text": [
      "True\n"
     ]
    }
   ],
   "source": [
    "class Locker:\n",
    "    def __init__(self):\n",
    "        self.__pin = \"1234\"\n",
    "\n",
    "    def check_pin(self, entered_pin):\n",
    "        return self.__pin == entered_pin\n",
    "\n",
    "l = Locker()\n",
    "print(l.check_pin(\"1234\"))\n"
   ]
  },
  {
   "cell_type": "code",
   "execution_count": 71,
   "id": "0cad8896-8940-4cfc-942f-36698225c416",
   "metadata": {},
   "outputs": [
    {
     "name": "stdout",
     "output_type": "stream",
     "text": [
      "Speed: 10 km/h\n"
     ]
    }
   ],
   "source": [
    "class Speed:\n",
    "    def __init__(self):\n",
    "        self.__speed = 0\n",
    "\n",
    "    def increase(self):\n",
    "        self.__speed += 10\n",
    "\n",
    "    def show_speed(self):\n",
    "        print(f\"Speed: {self.__speed} km/h\")\n",
    "\n",
    "s = Speed()\n",
    "s.increase()\n",
    "s.show_speed()\n"
   ]
  },
  {
   "cell_type": "code",
   "execution_count": 72,
   "id": "d65cf75c-abe9-4c3d-bd54-a64f97c03ce2",
   "metadata": {},
   "outputs": [
    {
     "name": "stdout",
     "output_type": "stream",
     "text": [
      "secret.txt\n"
     ]
    }
   ],
   "source": [
    "class File:\n",
    "    def __init__(self):\n",
    "        self._filename = \"secret.txt\"  # Protected by convention\n",
    "\n",
    "f = File()\n",
    "print(f._filename)\n"
   ]
  },
  {
   "cell_type": "code",
   "execution_count": 73,
   "id": "b5aa91b1-3d2a-41ff-8e86-b429317d122a",
   "metadata": {},
   "outputs": [
    {
     "name": "stdout",
     "output_type": "stream",
     "text": [
      "Device starting...\n"
     ]
    }
   ],
   "source": [
    "class Device:\n",
    "    def _start(self):\n",
    "        print(\"Device starting...\")\n",
    "\n",
    "class Phone(Device):\n",
    "    def boot(self):\n",
    "        self._start()\n",
    "\n",
    "p = Phone()\n",
    "p.boot()\n"
   ]
  },
  {
   "cell_type": "code",
   "execution_count": 74,
   "id": "f74a9018-7953-4a56-8276-50e8313590e7",
   "metadata": {},
   "outputs": [
    {
     "name": "stdout",
     "output_type": "stream",
     "text": [
      "bcd234\n"
     ]
    }
   ],
   "source": [
    "class User:\n",
    "    def __init__(self, password):\n",
    "        self.__password = self.__encrypt(password)\n",
    "\n",
    "    def __encrypt(self, pwd):\n",
    "        return ''.join([chr(ord(c)+1) for c in pwd])\n",
    "\n",
    "    def get_password(self):\n",
    "        return self.__password\n",
    "\n",
    "u = User(\"abc123\")\n",
    "print(u.get_password())\n"
   ]
  },
  {
   "cell_type": "code",
   "execution_count": 75,
   "id": "3a1d1218-1ffa-4066-a9b4-2328b764e6f4",
   "metadata": {},
   "outputs": [
    {
     "name": "stdout",
     "output_type": "stream",
     "text": [
      "Petrol\n"
     ]
    }
   ],
   "source": [
    "class Vehicle:\n",
    "    def __init__(self):\n",
    "        self.__engine = \"Petrol\"\n",
    "\n",
    "    def get_engine(self):\n",
    "        return self.__engine\n",
    "\n",
    "class Bike(Vehicle):\n",
    "    pass\n",
    "\n",
    "b = Bike()\n",
    "print(b.get_engine())\n"
   ]
  }
 ],
 "metadata": {
  "kernelspec": {
   "display_name": "Python 3 (ipykernel)",
   "language": "python",
   "name": "python3"
  },
  "language_info": {
   "codemirror_mode": {
    "name": "ipython",
    "version": 3
   },
   "file_extension": ".py",
   "mimetype": "text/x-python",
   "name": "python",
   "nbconvert_exporter": "python",
   "pygments_lexer": "ipython3",
   "version": "3.12.11"
  }
 },
 "nbformat": 4,
 "nbformat_minor": 5
}
